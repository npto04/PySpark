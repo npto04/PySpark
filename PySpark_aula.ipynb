{
  "nbformat": 4,
  "nbformat_minor": 0,
  "metadata": {
    "colab": {
      "name": "PySpark_aula.ipynb",
      "provenance": [],
      "collapsed_sections": [
        "qjBRrLa3ytQG",
        "dp448p0-yzc5",
        "4d-hue2my7mH",
        "wcLkXmKDydfs",
        "xeK-Iw4AykMZ",
        "ND8nW8ykYeTE",
        "v_-AYauX3i8x",
        "Iig8SQqx4XSa",
        "1rK1bDrnRWss",
        "ubv8-AE3fd8V",
        "udswDn8wFJAn",
        "Nv9k0p-qCGyi",
        "R80zBF-AzQ1c",
        "_JkmwGqQzMHP",
        "XzC6V0pqzG5I",
        "NeOdJo-UuA78",
        "BEkfUI-LSYpQ",
        "y82Bav62SfYK",
        "GbkZArzhhmDx",
        "vHb3JTwokegw",
        "6AEkPtHG4AgQ",
        "WZV8ADmDIvSj",
        "SJZP8P23zIPf",
        "-8woUz0CzKGi",
        "Y5-f4pSDzdFN",
        "JzzoLTXfznq-",
        "MuZ5FulJzrKe"
      ],
      "mount_file_id": "1NO3yR1VhWm5uv3_aNgzQAP1BvAtoo0t9",
      "authorship_tag": "ABX9TyN3D5MCxBnj9qExLTcJwi7W",
      "include_colab_link": true
    },
    "kernelspec": {
      "name": "python3",
      "display_name": "Python 3"
    },
    "language_info": {
      "name": "python"
    }
  },
  "cells": [
    {
      "cell_type": "markdown",
      "metadata": {
        "id": "view-in-github",
        "colab_type": "text"
      },
      "source": [
        "<a href=\"https://colab.research.google.com/github/npto04/PySpark/blob/main/PySpark_aula.ipynb\" target=\"_parent\"><img src=\"https://colab.research.google.com/assets/colab-badge.svg\" alt=\"Open In Colab\"/></a>"
      ]
    },
    {
      "cell_type": "markdown",
      "source": [
        "# Instalando PySpark"
      ],
      "metadata": {
        "id": "qjBRrLa3ytQG"
      }
    },
    {
      "cell_type": "code",
      "execution_count": null,
      "metadata": {
        "colab": {
          "base_uri": "https://localhost:8080/"
        },
        "id": "B2LjNx4zm8in",
        "outputId": "bbb701a7-8c7a-4bd4-8ed8-37595d65b5d9"
      },
      "outputs": [
        {
          "output_type": "stream",
          "name": "stdout",
          "text": [
            "Collecting pyspark\n",
            "  Downloading pyspark-3.2.1.tar.gz (281.4 MB)\n",
            "\u001b[K     |████████████████████████████████| 281.4 MB 35 kB/s \n",
            "\u001b[?25hCollecting py4j==0.10.9.3\n",
            "  Downloading py4j-0.10.9.3-py2.py3-none-any.whl (198 kB)\n",
            "\u001b[K     |████████████████████████████████| 198 kB 59.0 MB/s \n",
            "\u001b[?25hBuilding wheels for collected packages: pyspark\n",
            "  Building wheel for pyspark (setup.py) ... \u001b[?25l\u001b[?25hdone\n",
            "  Created wheel for pyspark: filename=pyspark-3.2.1-py2.py3-none-any.whl size=281853642 sha256=3bff2f3a586ec91440e472301769a8eb8be78f5ff85686fe9222f85882843755\n",
            "  Stored in directory: /root/.cache/pip/wheels/9f/f5/07/7cd8017084dce4e93e84e92efd1e1d5334db05f2e83bcef74f\n",
            "Successfully built pyspark\n",
            "Installing collected packages: py4j, pyspark\n",
            "Successfully installed py4j-0.10.9.3 pyspark-3.2.1\n"
          ]
        }
      ],
      "source": [
        "pip install pyspark"
      ]
    },
    {
      "cell_type": "markdown",
      "source": [
        "# Importando bibliotecas principais do PySpark"
      ],
      "metadata": {
        "id": "dp448p0-yzc5"
      }
    },
    {
      "cell_type": "code",
      "source": [
        "from pyspark.sql import SparkSession\n",
        "from pyspark import SparkConf\n",
        "import pyspark.sql.functions as F"
      ],
      "metadata": {
        "id": "FNdDlUN-sbw2"
      },
      "execution_count": null,
      "outputs": []
    },
    {
      "cell_type": "markdown",
      "source": [
        "# Criando conexão do PySpark"
      ],
      "metadata": {
        "id": "4d-hue2my7mH"
      }
    },
    {
      "cell_type": "code",
      "source": [
        "spark = (SparkSession.builder\n",
        "        .master(\"local\")\n",
        "        .appName(\"aula-pyspark\")\n",
        "        .config('spark.ui.port', '4050')\n",
        "        .getOrCreate())"
      ],
      "metadata": {
        "id": "KQgDEO08sjeo"
      },
      "execution_count": null,
      "outputs": []
    },
    {
      "cell_type": "code",
      "source": [
        "spark"
      ],
      "metadata": {
        "colab": {
          "base_uri": "https://localhost:8080/",
          "height": 219
        },
        "id": "lQD3zcFTsneX",
        "outputId": "e9423062-16fe-47bf-8b65-485046ff04fe"
      },
      "execution_count": null,
      "outputs": [
        {
          "output_type": "execute_result",
          "data": {
            "text/plain": [
              "<pyspark.sql.session.SparkSession at 0x7fba6e42c450>"
            ],
            "text/html": [
              "\n",
              "            <div>\n",
              "                <p><b>SparkSession - in-memory</b></p>\n",
              "                \n",
              "        <div>\n",
              "            <p><b>SparkContext</b></p>\n",
              "\n",
              "            <p><a href=\"http://fc862a79f1cd:4050\">Spark UI</a></p>\n",
              "\n",
              "            <dl>\n",
              "              <dt>Version</dt>\n",
              "                <dd><code>v3.2.1</code></dd>\n",
              "              <dt>Master</dt>\n",
              "                <dd><code>local</code></dd>\n",
              "              <dt>AppName</dt>\n",
              "                <dd><code>aula-pyspark</code></dd>\n",
              "            </dl>\n",
              "        </div>\n",
              "        \n",
              "            </div>\n",
              "        "
            ]
          },
          "metadata": {},
          "execution_count": 4
        }
      ]
    },
    {
      "cell_type": "markdown",
      "source": [
        "# Criando dataframe"
      ],
      "metadata": {
        "id": "wcLkXmKDydfs"
      }
    },
    {
      "cell_type": "code",
      "source": [
        "#CRIANDO DATAFRAME NO PYSPARK\n",
        "esquema = [\"nome\", \"cidade\", \"estado\", \"salario\"]\n",
        "dados = [\n",
        "        (\"João da Silva\", \"São Paulo\", \"SP\", 1200.00),\n",
        "        (\"Maria Ribeiro\", \"Rio de Janeiro\", \"RJ\", 2400.00),\n",
        "        (\"Pedro José\", \"Fortaleza\", \"CE\", 4230.00),\n",
        "        (\"Carlos Victor Pereira\", \"Florianópolis\", \"SC\", 1200.00) \n",
        "]\n",
        "df = spark.createDataFrame(data=dados,schema=esquema)"
      ],
      "metadata": {
        "id": "Rv67HVptsrPT"
      },
      "execution_count": null,
      "outputs": []
    },
    {
      "cell_type": "code",
      "source": [
        "df.show() #mostra o dataframe"
      ],
      "metadata": {
        "colab": {
          "base_uri": "https://localhost:8080/"
        },
        "id": "QBeY1jdQtE19",
        "outputId": "caa66cf2-1e38-46c6-91ba-4ad339208e4b"
      },
      "execution_count": null,
      "outputs": [
        {
          "output_type": "stream",
          "name": "stdout",
          "text": [
            "+--------------------+--------------+------+-------+\n",
            "|                nome|        cidade|estado|salario|\n",
            "+--------------------+--------------+------+-------+\n",
            "|       João da Silva|     São Paulo|    SP| 1200.0|\n",
            "|       Maria Ribeiro|Rio de Janeiro|    RJ| 2400.0|\n",
            "|          Pedro José|     Fortaleza|    CE| 4230.0|\n",
            "|Carlos Victor Per...| Florianópolis|    SC| 1200.0|\n",
            "+--------------------+--------------+------+-------+\n",
            "\n"
          ]
        }
      ]
    },
    {
      "cell_type": "code",
      "source": [
        "#Retorna as informações do schema do DataFrame\n",
        "df.printSchema()"
      ],
      "metadata": {
        "colab": {
          "base_uri": "https://localhost:8080/"
        },
        "id": "s-6K4_YCt18a",
        "outputId": "2a102f67-cf67-4c37-ddf0-73f98d431ea9"
      },
      "execution_count": null,
      "outputs": [
        {
          "output_type": "stream",
          "name": "stdout",
          "text": [
            "root\n",
            " |-- nome: string (nullable = true)\n",
            " |-- cidade: string (nullable = true)\n",
            " |-- estado: string (nullable = true)\n",
            " |-- salario: double (nullable = true)\n",
            "\n"
          ]
        }
      ]
    },
    {
      "cell_type": "markdown",
      "source": [
        "# Importando dataset para um dataframe"
      ],
      "metadata": {
        "id": "xeK-Iw4AykMZ"
      }
    },
    {
      "cell_type": "code",
      "source": [
        "dataset_path = \"/content/drive/MyDrive/Datasets/arquivo_geral.csv\""
      ],
      "metadata": {
        "id": "5Hl4fYN9wNzZ"
      },
      "execution_count": null,
      "outputs": []
    },
    {
      "cell_type": "code",
      "source": [
        "df2 = (\n",
        "    spark\n",
        "        .read\n",
        "        .option(\"header\", \"true\")\n",
        "        .option(\"delimiter\", \";\")\n",
        "        .option(\"inferschema\", \"true\")\n",
        "        .format(\"csv\")\n",
        "        .load(dataset_path)\n",
        ")"
      ],
      "metadata": {
        "id": "Sn6t5IszwUIR"
      },
      "execution_count": null,
      "outputs": []
    },
    {
      "cell_type": "code",
      "source": [
        "df2.show()"
      ],
      "metadata": {
        "colab": {
          "base_uri": "https://localhost:8080/"
        },
        "id": "B_HzAtbPyN1K",
        "outputId": "8c25f53c-0107-4d4f-b8d0-762f684acae6"
      },
      "execution_count": null,
      "outputs": [
        {
          "output_type": "stream",
          "name": "stdout",
          "text": [
            "+------+------+----------+----------+---------------+-----------+----------------+\n",
            "|regiao|estado|      data|casosNovos|casosAcumulados|obitosNovos|obitosAcumulados|\n",
            "+------+------+----------+----------+---------------+-----------+----------------+\n",
            "| Norte|    RO|2020-01-30|         0|              0|          0|               0|\n",
            "| Norte|    RO|2020-01-31|         0|              0|          0|               0|\n",
            "| Norte|    RO|2020-02-01|         0|              0|          0|               0|\n",
            "| Norte|    RO|2020-02-02|         0|              0|          0|               0|\n",
            "| Norte|    RO|2020-02-03|         0|              0|          0|               0|\n",
            "| Norte|    RO|2020-02-04|         0|              0|          0|               0|\n",
            "| Norte|    RO|2020-02-05|         0|              0|          0|               0|\n",
            "| Norte|    RO|2020-02-06|         0|              0|          0|               0|\n",
            "| Norte|    RO|2020-02-07|         0|              0|          0|               0|\n",
            "| Norte|    RO|2020-02-08|         0|              0|          0|               0|\n",
            "| Norte|    RO|2020-02-09|         0|              0|          0|               0|\n",
            "| Norte|    RO|2020-02-10|         0|              0|          0|               0|\n",
            "| Norte|    RO|2020-02-11|         0|              0|          0|               0|\n",
            "| Norte|    RO|2020-02-12|         0|              0|          0|               0|\n",
            "| Norte|    RO|2020-02-13|         0|              0|          0|               0|\n",
            "| Norte|    RO|2020-02-14|         0|              0|          0|               0|\n",
            "| Norte|    RO|2020-02-15|         0|              0|          0|               0|\n",
            "| Norte|    RO|2020-02-16|         0|              0|          0|               0|\n",
            "| Norte|    RO|2020-02-17|         0|              0|          0|               0|\n",
            "| Norte|    RO|2020-02-18|         0|              0|          0|               0|\n",
            "+------+------+----------+----------+---------------+-----------+----------------+\n",
            "only showing top 20 rows\n",
            "\n"
          ]
        }
      ]
    },
    {
      "cell_type": "code",
      "source": [
        "df2.printSchema()"
      ],
      "metadata": {
        "colab": {
          "base_uri": "https://localhost:8080/"
        },
        "id": "USHELphbzsYt",
        "outputId": "2ded560c-da43-452a-8098-c3fd29ed1c93"
      },
      "execution_count": null,
      "outputs": [
        {
          "output_type": "stream",
          "name": "stdout",
          "text": [
            "root\n",
            " |-- regiao: string (nullable = true)\n",
            " |-- estado: string (nullable = true)\n",
            " |-- data: string (nullable = true)\n",
            " |-- casosNovos: integer (nullable = true)\n",
            " |-- casosAcumulados: integer (nullable = true)\n",
            " |-- obitosNovos: integer (nullable = true)\n",
            " |-- obitosAcumulados: integer (nullable = true)\n",
            "\n"
          ]
        }
      ]
    },
    {
      "cell_type": "code",
      "source": [
        "df2.toPandas()"
      ],
      "metadata": {
        "colab": {
          "base_uri": "https://localhost:8080/",
          "height": 423
        },
        "id": "eHRggBTP5mJx",
        "outputId": "f821f788-fd03-495d-87b2-9a106cfb939f"
      },
      "execution_count": null,
      "outputs": [
        {
          "output_type": "execute_result",
          "data": {
            "text/plain": [
              "            regiao estado        data  casosNovos  casosAcumulados  \\\n",
              "0            Norte     RO  2020-01-30           0                0   \n",
              "1            Norte     RO  2020-01-31           0                0   \n",
              "2            Norte     RO  2020-02-01           0                0   \n",
              "3            Norte     RO  2020-02-02           0                0   \n",
              "4            Norte     RO  2020-02-03           0                0   \n",
              "...            ...    ...         ...         ...              ...   \n",
              "2344  Centro-Oeste     DF  2020-04-21           9              881   \n",
              "2345  Centro-Oeste     DF  2020-04-22          65              946   \n",
              "2346  Centro-Oeste     DF  2020-04-23          17              963   \n",
              "2347  Centro-Oeste     DF  2020-04-24          26              989   \n",
              "2348  Centro-Oeste     DF  2020-04-25          24             1013   \n",
              "\n",
              "      obitosNovos  obitosAcumulados  \n",
              "0               0                 0  \n",
              "1               0                 0  \n",
              "2               0                 0  \n",
              "3               0                 0  \n",
              "4               0                 0  \n",
              "...           ...               ...  \n",
              "2344            0                24  \n",
              "2345            1                25  \n",
              "2346            0                25  \n",
              "2347            1                26  \n",
              "2348            0                26  \n",
              "\n",
              "[2349 rows x 7 columns]"
            ],
            "text/html": [
              "\n",
              "  <div id=\"df-078cfc69-f4ec-4192-8a7c-732f31965947\">\n",
              "    <div class=\"colab-df-container\">\n",
              "      <div>\n",
              "<style scoped>\n",
              "    .dataframe tbody tr th:only-of-type {\n",
              "        vertical-align: middle;\n",
              "    }\n",
              "\n",
              "    .dataframe tbody tr th {\n",
              "        vertical-align: top;\n",
              "    }\n",
              "\n",
              "    .dataframe thead th {\n",
              "        text-align: right;\n",
              "    }\n",
              "</style>\n",
              "<table border=\"1\" class=\"dataframe\">\n",
              "  <thead>\n",
              "    <tr style=\"text-align: right;\">\n",
              "      <th></th>\n",
              "      <th>regiao</th>\n",
              "      <th>estado</th>\n",
              "      <th>data</th>\n",
              "      <th>casosNovos</th>\n",
              "      <th>casosAcumulados</th>\n",
              "      <th>obitosNovos</th>\n",
              "      <th>obitosAcumulados</th>\n",
              "    </tr>\n",
              "  </thead>\n",
              "  <tbody>\n",
              "    <tr>\n",
              "      <th>0</th>\n",
              "      <td>Norte</td>\n",
              "      <td>RO</td>\n",
              "      <td>2020-01-30</td>\n",
              "      <td>0</td>\n",
              "      <td>0</td>\n",
              "      <td>0</td>\n",
              "      <td>0</td>\n",
              "    </tr>\n",
              "    <tr>\n",
              "      <th>1</th>\n",
              "      <td>Norte</td>\n",
              "      <td>RO</td>\n",
              "      <td>2020-01-31</td>\n",
              "      <td>0</td>\n",
              "      <td>0</td>\n",
              "      <td>0</td>\n",
              "      <td>0</td>\n",
              "    </tr>\n",
              "    <tr>\n",
              "      <th>2</th>\n",
              "      <td>Norte</td>\n",
              "      <td>RO</td>\n",
              "      <td>2020-02-01</td>\n",
              "      <td>0</td>\n",
              "      <td>0</td>\n",
              "      <td>0</td>\n",
              "      <td>0</td>\n",
              "    </tr>\n",
              "    <tr>\n",
              "      <th>3</th>\n",
              "      <td>Norte</td>\n",
              "      <td>RO</td>\n",
              "      <td>2020-02-02</td>\n",
              "      <td>0</td>\n",
              "      <td>0</td>\n",
              "      <td>0</td>\n",
              "      <td>0</td>\n",
              "    </tr>\n",
              "    <tr>\n",
              "      <th>4</th>\n",
              "      <td>Norte</td>\n",
              "      <td>RO</td>\n",
              "      <td>2020-02-03</td>\n",
              "      <td>0</td>\n",
              "      <td>0</td>\n",
              "      <td>0</td>\n",
              "      <td>0</td>\n",
              "    </tr>\n",
              "    <tr>\n",
              "      <th>...</th>\n",
              "      <td>...</td>\n",
              "      <td>...</td>\n",
              "      <td>...</td>\n",
              "      <td>...</td>\n",
              "      <td>...</td>\n",
              "      <td>...</td>\n",
              "      <td>...</td>\n",
              "    </tr>\n",
              "    <tr>\n",
              "      <th>2344</th>\n",
              "      <td>Centro-Oeste</td>\n",
              "      <td>DF</td>\n",
              "      <td>2020-04-21</td>\n",
              "      <td>9</td>\n",
              "      <td>881</td>\n",
              "      <td>0</td>\n",
              "      <td>24</td>\n",
              "    </tr>\n",
              "    <tr>\n",
              "      <th>2345</th>\n",
              "      <td>Centro-Oeste</td>\n",
              "      <td>DF</td>\n",
              "      <td>2020-04-22</td>\n",
              "      <td>65</td>\n",
              "      <td>946</td>\n",
              "      <td>1</td>\n",
              "      <td>25</td>\n",
              "    </tr>\n",
              "    <tr>\n",
              "      <th>2346</th>\n",
              "      <td>Centro-Oeste</td>\n",
              "      <td>DF</td>\n",
              "      <td>2020-04-23</td>\n",
              "      <td>17</td>\n",
              "      <td>963</td>\n",
              "      <td>0</td>\n",
              "      <td>25</td>\n",
              "    </tr>\n",
              "    <tr>\n",
              "      <th>2347</th>\n",
              "      <td>Centro-Oeste</td>\n",
              "      <td>DF</td>\n",
              "      <td>2020-04-24</td>\n",
              "      <td>26</td>\n",
              "      <td>989</td>\n",
              "      <td>1</td>\n",
              "      <td>26</td>\n",
              "    </tr>\n",
              "    <tr>\n",
              "      <th>2348</th>\n",
              "      <td>Centro-Oeste</td>\n",
              "      <td>DF</td>\n",
              "      <td>2020-04-25</td>\n",
              "      <td>24</td>\n",
              "      <td>1013</td>\n",
              "      <td>0</td>\n",
              "      <td>26</td>\n",
              "    </tr>\n",
              "  </tbody>\n",
              "</table>\n",
              "<p>2349 rows × 7 columns</p>\n",
              "</div>\n",
              "      <button class=\"colab-df-convert\" onclick=\"convertToInteractive('df-078cfc69-f4ec-4192-8a7c-732f31965947')\"\n",
              "              title=\"Convert this dataframe to an interactive table.\"\n",
              "              style=\"display:none;\">\n",
              "        \n",
              "  <svg xmlns=\"http://www.w3.org/2000/svg\" height=\"24px\"viewBox=\"0 0 24 24\"\n",
              "       width=\"24px\">\n",
              "    <path d=\"M0 0h24v24H0V0z\" fill=\"none\"/>\n",
              "    <path d=\"M18.56 5.44l.94 2.06.94-2.06 2.06-.94-2.06-.94-.94-2.06-.94 2.06-2.06.94zm-11 1L8.5 8.5l.94-2.06 2.06-.94-2.06-.94L8.5 2.5l-.94 2.06-2.06.94zm10 10l.94 2.06.94-2.06 2.06-.94-2.06-.94-.94-2.06-.94 2.06-2.06.94z\"/><path d=\"M17.41 7.96l-1.37-1.37c-.4-.4-.92-.59-1.43-.59-.52 0-1.04.2-1.43.59L10.3 9.45l-7.72 7.72c-.78.78-.78 2.05 0 2.83L4 21.41c.39.39.9.59 1.41.59.51 0 1.02-.2 1.41-.59l7.78-7.78 2.81-2.81c.8-.78.8-2.07 0-2.86zM5.41 20L4 18.59l7.72-7.72 1.47 1.35L5.41 20z\"/>\n",
              "  </svg>\n",
              "      </button>\n",
              "      \n",
              "  <style>\n",
              "    .colab-df-container {\n",
              "      display:flex;\n",
              "      flex-wrap:wrap;\n",
              "      gap: 12px;\n",
              "    }\n",
              "\n",
              "    .colab-df-convert {\n",
              "      background-color: #E8F0FE;\n",
              "      border: none;\n",
              "      border-radius: 50%;\n",
              "      cursor: pointer;\n",
              "      display: none;\n",
              "      fill: #1967D2;\n",
              "      height: 32px;\n",
              "      padding: 0 0 0 0;\n",
              "      width: 32px;\n",
              "    }\n",
              "\n",
              "    .colab-df-convert:hover {\n",
              "      background-color: #E2EBFA;\n",
              "      box-shadow: 0px 1px 2px rgba(60, 64, 67, 0.3), 0px 1px 3px 1px rgba(60, 64, 67, 0.15);\n",
              "      fill: #174EA6;\n",
              "    }\n",
              "\n",
              "    [theme=dark] .colab-df-convert {\n",
              "      background-color: #3B4455;\n",
              "      fill: #D2E3FC;\n",
              "    }\n",
              "\n",
              "    [theme=dark] .colab-df-convert:hover {\n",
              "      background-color: #434B5C;\n",
              "      box-shadow: 0px 1px 3px 1px rgba(0, 0, 0, 0.15);\n",
              "      filter: drop-shadow(0px 1px 2px rgba(0, 0, 0, 0.3));\n",
              "      fill: #FFFFFF;\n",
              "    }\n",
              "  </style>\n",
              "\n",
              "      <script>\n",
              "        const buttonEl =\n",
              "          document.querySelector('#df-078cfc69-f4ec-4192-8a7c-732f31965947 button.colab-df-convert');\n",
              "        buttonEl.style.display =\n",
              "          google.colab.kernel.accessAllowed ? 'block' : 'none';\n",
              "\n",
              "        async function convertToInteractive(key) {\n",
              "          const element = document.querySelector('#df-078cfc69-f4ec-4192-8a7c-732f31965947');\n",
              "          const dataTable =\n",
              "            await google.colab.kernel.invokeFunction('convertToInteractive',\n",
              "                                                     [key], {});\n",
              "          if (!dataTable) return;\n",
              "\n",
              "          const docLinkHtml = 'Like what you see? Visit the ' +\n",
              "            '<a target=\"_blank\" href=https://colab.research.google.com/notebooks/data_table.ipynb>data table notebook</a>'\n",
              "            + ' to learn more about interactive tables.';\n",
              "          element.innerHTML = '';\n",
              "          dataTable['output_type'] = 'display_data';\n",
              "          await google.colab.output.renderOutput(dataTable, element);\n",
              "          const docLink = document.createElement('div');\n",
              "          docLink.innerHTML = docLinkHtml;\n",
              "          element.appendChild(docLink);\n",
              "        }\n",
              "      </script>\n",
              "    </div>\n",
              "  </div>\n",
              "  "
            ]
          },
          "metadata": {},
          "execution_count": 9
        }
      ]
    },
    {
      "cell_type": "markdown",
      "source": [
        "# Ler dataset do Google Cloud Storage"
      ],
      "metadata": {
        "id": "0ViiwOiNM9PJ"
      }
    },
    {
      "cell_type": "markdown",
      "source": [
        "## Configurar a sessão para usar GCS connector"
      ],
      "metadata": {
        "id": "WBgrWhEQNe6p"
      }
    },
    {
      "cell_type": "markdown",
      "source": [
        "install google cloud storage filesystem"
      ],
      "metadata": {
        "id": "yKVJrufwUi1m"
      }
    },
    {
      "cell_type": "code",
      "source": [
        "!pip install gcsfs"
      ],
      "metadata": {
        "id": "v2_cNT00Uhit"
      },
      "execution_count": null,
      "outputs": []
    },
    {
      "cell_type": "markdown",
      "source": [
        "To begin, you will need a JSON keyfile so the connector can authenticate to Google Cloud Storage. You can follow [these directions](https://cloud.google.com/storage/docs/authentication#service_accounts) to obtain a JSON keyfile.\n",
        "\n",
        "Once you have the JSON keyfile, you can configure framework that you use to use GCS connector when accessing data on Google Cloud Storage."
      ],
      "metadata": {
        "id": "O18VfBHATl2w"
      }
    },
    {
      "cell_type": "code",
      "source": [
        "path_keys = \"/content/engdados-soulcode-ae874e15f2ec.json\""
      ],
      "metadata": {
        "id": "yJhOzHxfTPFI"
      },
      "execution_count": null,
      "outputs": []
    },
    {
      "cell_type": "code",
      "source": [
        "gcs_conector = '/content/drive/MyDrive/GCS_connector/gcs-connector-hadoop2-latest.jar'"
      ],
      "metadata": {
        "id": "Jj0urIWKdrkW"
      },
      "execution_count": null,
      "outputs": []
    },
    {
      "cell_type": "code",
      "source": [
        "spark = (SparkSession.builder.\n",
        "        master(\"local\").\n",
        "        appName(\"netflix\").\n",
        "        config('spark.jars', gcs_conector).\n",
        "        config('spark.hadoop.fs.gs.impl','com.google.cloud.hadoop.fs.gcs.GoogleHadoopFileSystem').\n",
        "        config('spark.hadoop.fs.gs.auth.service.account.enable', 'true').\n",
        "        config(\"google.cloud.auth.service.account.json.keyfile\",path_keys).\n",
        "        config('spark.hadoop.fs.gs.project.id','engdados-soulcode').\n",
        "        getOrCreate())"
      ],
      "metadata": {
        "id": "crWXY3HfNKhy"
      },
      "execution_count": null,
      "outputs": []
    },
    {
      "cell_type": "code",
      "source": [
        "spark"
      ],
      "metadata": {
        "colab": {
          "base_uri": "https://localhost:8080/",
          "height": 219
        },
        "id": "AuOuwdi7XNO4",
        "outputId": "0adcff48-3435-4fc7-f418-93a17ad851ab"
      },
      "execution_count": null,
      "outputs": [
        {
          "output_type": "execute_result",
          "data": {
            "text/plain": [
              "<pyspark.sql.session.SparkSession at 0x7f56cf7f7890>"
            ],
            "text/html": [
              "\n",
              "            <div>\n",
              "                <p><b>SparkSession - in-memory</b></p>\n",
              "                \n",
              "        <div>\n",
              "            <p><b>SparkContext</b></p>\n",
              "\n",
              "            <p><a href=\"http://923c2f5f97e1:4050\">Spark UI</a></p>\n",
              "\n",
              "            <dl>\n",
              "              <dt>Version</dt>\n",
              "                <dd><code>v3.2.1</code></dd>\n",
              "              <dt>Master</dt>\n",
              "                <dd><code>local[*]</code></dd>\n",
              "              <dt>AppName</dt>\n",
              "                <dd><code>cloud-storage</code></dd>\n",
              "            </dl>\n",
              "        </div>\n",
              "        \n",
              "            </div>\n",
              "        "
            ]
          },
          "metadata": {},
          "execution_count": 23
        }
      ]
    },
    {
      "cell_type": "markdown",
      "source": [
        "## Ler dados do bucket na gcp"
      ],
      "metadata": {
        "id": "ND8nW8ykYeTE"
      }
    },
    {
      "cell_type": "code",
      "source": [
        "file_path = 'gs://datasets_pyspark/arquivo_geral.csv'\n",
        "\n",
        "\n",
        "df = spark.read.format('csv').load(file_path,sep=\";\",header=True)"
      ],
      "metadata": {
        "id": "aX22n6K5XPPX"
      },
      "execution_count": null,
      "outputs": []
    },
    {
      "cell_type": "code",
      "source": [
        "df.show()"
      ],
      "metadata": {
        "colab": {
          "base_uri": "https://localhost:8080/"
        },
        "id": "a0NCvHVkkxYE",
        "outputId": "68dad5c8-dffd-40db-86ac-ea0c812a36ec"
      },
      "execution_count": null,
      "outputs": [
        {
          "output_type": "stream",
          "name": "stdout",
          "text": [
            "+------+------+----------+----------+---------------+-----------+----------------+\n",
            "|regiao|estado|      data|casosNovos|casosAcumulados|obitosNovos|obitosAcumulados|\n",
            "+------+------+----------+----------+---------------+-----------+----------------+\n",
            "| Norte|    RO|2020-01-30|         0|              0|          0|               0|\n",
            "| Norte|    RO|2020-01-31|         0|              0|          0|               0|\n",
            "| Norte|    RO|2020-02-01|         0|              0|          0|               0|\n",
            "| Norte|    RO|2020-02-02|         0|              0|          0|               0|\n",
            "| Norte|    RO|2020-02-03|         0|              0|          0|               0|\n",
            "| Norte|    RO|2020-02-04|         0|              0|          0|               0|\n",
            "| Norte|    RO|2020-02-05|         0|              0|          0|               0|\n",
            "| Norte|    RO|2020-02-06|         0|              0|          0|               0|\n",
            "| Norte|    RO|2020-02-07|         0|              0|          0|               0|\n",
            "| Norte|    RO|2020-02-08|         0|              0|          0|               0|\n",
            "| Norte|    RO|2020-02-09|         0|              0|          0|               0|\n",
            "| Norte|    RO|2020-02-10|         0|              0|          0|               0|\n",
            "| Norte|    RO|2020-02-11|         0|              0|          0|               0|\n",
            "| Norte|    RO|2020-02-12|         0|              0|          0|               0|\n",
            "| Norte|    RO|2020-02-13|         0|              0|          0|               0|\n",
            "| Norte|    RO|2020-02-14|         0|              0|          0|               0|\n",
            "| Norte|    RO|2020-02-15|         0|              0|          0|               0|\n",
            "| Norte|    RO|2020-02-16|         0|              0|          0|               0|\n",
            "| Norte|    RO|2020-02-17|         0|              0|          0|               0|\n",
            "| Norte|    RO|2020-02-18|         0|              0|          0|               0|\n",
            "+------+------+----------+----------+---------------+-----------+----------------+\n",
            "only showing top 20 rows\n",
            "\n"
          ]
        }
      ]
    },
    {
      "cell_type": "markdown",
      "source": [
        "# Comando SELECT"
      ],
      "metadata": {
        "id": "v_-AYauX3i8x"
      }
    },
    {
      "cell_type": "code",
      "source": [
        "df2.select(\"regiao\",\"estado\",\"casosNovos\").show()"
      ],
      "metadata": {
        "colab": {
          "base_uri": "https://localhost:8080/"
        },
        "id": "vRcWsEoB3VlC",
        "outputId": "e9201e80-46f9-42d7-e10f-9adeb45832da"
      },
      "execution_count": null,
      "outputs": [
        {
          "output_type": "stream",
          "name": "stdout",
          "text": [
            "+------+------+----------+\n",
            "|regiao|estado|casosNovos|\n",
            "+------+------+----------+\n",
            "| Norte|    RO|         0|\n",
            "| Norte|    RO|         0|\n",
            "| Norte|    RO|         0|\n",
            "| Norte|    RO|         0|\n",
            "| Norte|    RO|         0|\n",
            "| Norte|    RO|         0|\n",
            "| Norte|    RO|         0|\n",
            "| Norte|    RO|         0|\n",
            "| Norte|    RO|         0|\n",
            "| Norte|    RO|         0|\n",
            "| Norte|    RO|         0|\n",
            "| Norte|    RO|         0|\n",
            "| Norte|    RO|         0|\n",
            "| Norte|    RO|         0|\n",
            "| Norte|    RO|         0|\n",
            "| Norte|    RO|         0|\n",
            "| Norte|    RO|         0|\n",
            "| Norte|    RO|         0|\n",
            "| Norte|    RO|         0|\n",
            "| Norte|    RO|         0|\n",
            "+------+------+----------+\n",
            "only showing top 20 rows\n",
            "\n"
          ]
        }
      ]
    },
    {
      "cell_type": "code",
      "source": [
        "regiao = F.col(\"regiao\")\n",
        "estado = F.col(\"estado\")\n",
        "casosNovos = F.col(\"casosNovos\")\n",
        "df2.select(regiao,estado,casosNovos).show()"
      ],
      "metadata": {
        "colab": {
          "base_uri": "https://localhost:8080/"
        },
        "id": "rhMB0ZJo3zLk",
        "outputId": "593aff8f-3beb-4f2b-ff66-94e29b0ba9bf"
      },
      "execution_count": null,
      "outputs": [
        {
          "output_type": "stream",
          "name": "stdout",
          "text": [
            "+------+------+----------+\n",
            "|regiao|estado|casosNovos|\n",
            "+------+------+----------+\n",
            "| Norte|    RO|         0|\n",
            "| Norte|    RO|         0|\n",
            "| Norte|    RO|         0|\n",
            "| Norte|    RO|         0|\n",
            "| Norte|    RO|         0|\n",
            "| Norte|    RO|         0|\n",
            "| Norte|    RO|         0|\n",
            "| Norte|    RO|         0|\n",
            "| Norte|    RO|         0|\n",
            "| Norte|    RO|         0|\n",
            "| Norte|    RO|         0|\n",
            "| Norte|    RO|         0|\n",
            "| Norte|    RO|         0|\n",
            "| Norte|    RO|         0|\n",
            "| Norte|    RO|         0|\n",
            "| Norte|    RO|         0|\n",
            "| Norte|    RO|         0|\n",
            "| Norte|    RO|         0|\n",
            "| Norte|    RO|         0|\n",
            "| Norte|    RO|         0|\n",
            "+------+------+----------+\n",
            "only showing top 20 rows\n",
            "\n"
          ]
        }
      ]
    },
    {
      "cell_type": "markdown",
      "source": [
        "# Filtros"
      ],
      "metadata": {
        "id": "Iig8SQqx4XSa"
      }
    },
    {
      "cell_type": "code",
      "source": [
        "#EXIBIR A REGIÃO, ESTADO E ÓBITOS ACUMULADOS DA REGIÃO SUDESTE\n",
        "\n",
        "df2.select(F.col(\"regiao\"), F.col(\"estado\"), F.col(\"obitosAcumulados\")).filter(F.col(\"regiao\") == \"Sudeste\").show(20)"
      ],
      "metadata": {
        "colab": {
          "base_uri": "https://localhost:8080/"
        },
        "id": "St9gd7bF4ZP6",
        "outputId": "cf05e4be-eaab-4342-b3d3-1f20c037dd86"
      },
      "execution_count": null,
      "outputs": [
        {
          "output_type": "stream",
          "name": "stdout",
          "text": [
            "+-------+------+----------------+\n",
            "| regiao|estado|obitosAcumulados|\n",
            "+-------+------+----------------+\n",
            "|Sudeste|    MG|               0|\n",
            "|Sudeste|    MG|               0|\n",
            "|Sudeste|    MG|               0|\n",
            "|Sudeste|    MG|               0|\n",
            "|Sudeste|    MG|               0|\n",
            "|Sudeste|    MG|               0|\n",
            "|Sudeste|    MG|               0|\n",
            "|Sudeste|    MG|               0|\n",
            "|Sudeste|    MG|               0|\n",
            "|Sudeste|    MG|               0|\n",
            "|Sudeste|    MG|               0|\n",
            "|Sudeste|    MG|               0|\n",
            "|Sudeste|    MG|               0|\n",
            "|Sudeste|    MG|               0|\n",
            "|Sudeste|    MG|               0|\n",
            "|Sudeste|    MG|               0|\n",
            "|Sudeste|    MG|               0|\n",
            "|Sudeste|    MG|               0|\n",
            "|Sudeste|    MG|               0|\n",
            "|Sudeste|    MG|               0|\n",
            "+-------+------+----------------+\n",
            "only showing top 20 rows\n",
            "\n"
          ]
        }
      ]
    },
    {
      "cell_type": "code",
      "source": [
        "df2.filter(F.col(\"estado\") == \"SP\").show()"
      ],
      "metadata": {
        "colab": {
          "base_uri": "https://localhost:8080/"
        },
        "id": "jA_X00ng5C6t",
        "outputId": "48bec500-4e71-4d35-93a3-6501b25dc8c1"
      },
      "execution_count": null,
      "outputs": [
        {
          "output_type": "stream",
          "name": "stdout",
          "text": [
            "+-------+------+----------+----------+---------------+-----------+----------------+\n",
            "| regiao|estado|      data|casosNovos|casosAcumulados|obitosNovos|obitosAcumulados|\n",
            "+-------+------+----------+----------+---------------+-----------+----------------+\n",
            "|Sudeste|    SP|2020-01-30|         0|              0|          0|               0|\n",
            "|Sudeste|    SP|2020-01-31|         0|              0|          0|               0|\n",
            "|Sudeste|    SP|2020-02-01|         0|              0|          0|               0|\n",
            "|Sudeste|    SP|2020-02-02|         0|              0|          0|               0|\n",
            "|Sudeste|    SP|2020-02-03|         0|              0|          0|               0|\n",
            "|Sudeste|    SP|2020-02-04|         0|              0|          0|               0|\n",
            "|Sudeste|    SP|2020-02-05|         0|              0|          0|               0|\n",
            "|Sudeste|    SP|2020-02-06|         0|              0|          0|               0|\n",
            "|Sudeste|    SP|2020-02-07|         0|              0|          0|               0|\n",
            "|Sudeste|    SP|2020-02-08|         0|              0|          0|               0|\n",
            "|Sudeste|    SP|2020-02-09|         0|              0|          0|               0|\n",
            "|Sudeste|    SP|2020-02-10|         0|              0|          0|               0|\n",
            "|Sudeste|    SP|2020-02-11|         0|              0|          0|               0|\n",
            "|Sudeste|    SP|2020-02-12|         0|              0|          0|               0|\n",
            "|Sudeste|    SP|2020-02-13|         0|              0|          0|               0|\n",
            "|Sudeste|    SP|2020-02-14|         0|              0|          0|               0|\n",
            "|Sudeste|    SP|2020-02-15|         0|              0|          0|               0|\n",
            "|Sudeste|    SP|2020-02-16|         0|              0|          0|               0|\n",
            "|Sudeste|    SP|2020-02-17|         0|              0|          0|               0|\n",
            "|Sudeste|    SP|2020-02-18|         0|              0|          0|               0|\n",
            "+-------+------+----------+----------+---------------+-----------+----------------+\n",
            "only showing top 20 rows\n",
            "\n"
          ]
        }
      ]
    },
    {
      "cell_type": "code",
      "source": [
        "#1ª FORMA - TRABALHANDO COM FILTER ENCADEADO E O AND\n",
        "df2.filter(F.col(\"estado\") == \"MG\").filter(F.col(\"casosNovos\") > 10).show(100)"
      ],
      "metadata": {
        "colab": {
          "base_uri": "https://localhost:8080/"
        },
        "id": "NCwtNtI--mEY",
        "outputId": "16121a6f-f89d-43d0-dcc4-66d2d1fb3e16"
      },
      "execution_count": null,
      "outputs": [
        {
          "output_type": "stream",
          "name": "stdout",
          "text": [
            "+-------+------+----------+----------+---------------+-----------+----------------+\n",
            "| regiao|estado|      data|casosNovos|casosAcumulados|obitosNovos|obitosAcumulados|\n",
            "+-------+------+----------+----------+---------------+-----------+----------------+\n",
            "|Sudeste|    MG|2020-03-19|        14|             29|          0|               0|\n",
            "|Sudeste|    MG|2020-03-22|        45|             83|          0|               0|\n",
            "|Sudeste|    MG|2020-03-23|        45|            128|          0|               0|\n",
            "|Sudeste|    MG|2020-03-26|        20|            153|          0|               0|\n",
            "|Sudeste|    MG|2020-03-27|        36|            189|          0|               0|\n",
            "|Sudeste|    MG|2020-03-28|        16|            205|          0|               0|\n",
            "|Sudeste|    MG|2020-03-29|        26|            231|          0|               0|\n",
            "|Sudeste|    MG|2020-03-30|        30|            261|          1|               1|\n",
            "|Sudeste|    MG|2020-03-31|        14|            275|          1|               2|\n",
            "|Sudeste|    MG|2020-04-01|        39|            314|          1|               3|\n",
            "|Sudeste|    MG|2020-04-02|        56|            370|          1|               4|\n",
            "|Sudeste|    MG|2020-04-03|        27|            397|          2|               6|\n",
            "|Sudeste|    MG|2020-04-04|        33|            430|          0|               6|\n",
            "|Sudeste|    MG|2020-04-05|        68|            498|          0|               6|\n",
            "|Sudeste|    MG|2020-04-06|        27|            525|          3|               9|\n",
            "|Sudeste|    MG|2020-04-07|        34|            559|          2|              11|\n",
            "|Sudeste|    MG|2020-04-08|        55|            614|          3|              14|\n",
            "|Sudeste|    MG|2020-04-09|        41|            655|          1|              15|\n",
            "|Sudeste|    MG|2020-04-10|        43|            698|          2|              17|\n",
            "|Sudeste|    MG|2020-04-11|        52|            750|          0|              17|\n",
            "|Sudeste|    MG|2020-04-12|        56|            806|          3|              20|\n",
            "|Sudeste|    MG|2020-04-14|        69|            884|          4|              27|\n",
            "|Sudeste|    MG|2020-04-15|        19|            903|          3|              30|\n",
            "|Sudeste|    MG|2020-04-16|        55|            958|          3|              33|\n",
            "|Sudeste|    MG|2020-04-17|        63|           1021|          2|              35|\n",
            "|Sudeste|    MG|2020-04-18|        56|           1077|          4|              39|\n",
            "|Sudeste|    MG|2020-04-19|        77|           1154|          0|              39|\n",
            "|Sudeste|    MG|2020-04-20|        35|           1189|          2|              41|\n",
            "|Sudeste|    MG|2020-04-21|        41|           1230|          3|              44|\n",
            "|Sudeste|    MG|2020-04-22|        53|           1283|          3|              47|\n",
            "|Sudeste|    MG|2020-04-23|        25|           1308|          4|              51|\n",
            "|Sudeste|    MG|2020-04-24|       111|           1419|          3|              54|\n",
            "|Sudeste|    MG|2020-04-25|        62|           1481|          4|              58|\n",
            "+-------+------+----------+----------+---------------+-----------+----------------+\n",
            "\n"
          ]
        }
      ]
    },
    {
      "cell_type": "code",
      "source": [
        "#2ª FORMA - TRABALHANDO COM FILTER ENCADEADO E O AND\n",
        "df2.filter(\"regiao = 'Sudeste' and casosNovos > 30\").show(50)"
      ],
      "metadata": {
        "colab": {
          "base_uri": "https://localhost:8080/"
        },
        "id": "YRGe9VsZ-wTU",
        "outputId": "9004b6bb-3244-4605-ac9e-dfbca4653881"
      },
      "execution_count": null,
      "outputs": [
        {
          "output_type": "stream",
          "name": "stdout",
          "text": [
            "+-------+------+----------+----------+---------------+-----------+----------------+\n",
            "| regiao|estado|      data|casosNovos|casosAcumulados|obitosNovos|obitosAcumulados|\n",
            "+-------+------+----------+----------+---------------+-----------+----------------+\n",
            "|Sudeste|    MG|2020-03-22|        45|             83|          0|               0|\n",
            "|Sudeste|    MG|2020-03-23|        45|            128|          0|               0|\n",
            "|Sudeste|    MG|2020-03-27|        36|            189|          0|               0|\n",
            "|Sudeste|    MG|2020-04-01|        39|            314|          1|               3|\n",
            "|Sudeste|    MG|2020-04-02|        56|            370|          1|               4|\n",
            "|Sudeste|    MG|2020-04-04|        33|            430|          0|               6|\n",
            "|Sudeste|    MG|2020-04-05|        68|            498|          0|               6|\n",
            "|Sudeste|    MG|2020-04-07|        34|            559|          2|              11|\n",
            "|Sudeste|    MG|2020-04-08|        55|            614|          3|              14|\n",
            "|Sudeste|    MG|2020-04-09|        41|            655|          1|              15|\n",
            "|Sudeste|    MG|2020-04-10|        43|            698|          2|              17|\n",
            "|Sudeste|    MG|2020-04-11|        52|            750|          0|              17|\n",
            "|Sudeste|    MG|2020-04-12|        56|            806|          3|              20|\n",
            "|Sudeste|    MG|2020-04-14|        69|            884|          4|              27|\n",
            "|Sudeste|    MG|2020-04-16|        55|            958|          3|              33|\n",
            "|Sudeste|    MG|2020-04-17|        63|           1021|          2|              35|\n",
            "|Sudeste|    MG|2020-04-18|        56|           1077|          4|              39|\n",
            "|Sudeste|    MG|2020-04-19|        77|           1154|          0|              39|\n",
            "|Sudeste|    MG|2020-04-20|        35|           1189|          2|              41|\n",
            "|Sudeste|    MG|2020-04-21|        41|           1230|          3|              44|\n",
            "|Sudeste|    MG|2020-04-22|        53|           1283|          3|              47|\n",
            "|Sudeste|    MG|2020-04-24|       111|           1419|          3|              54|\n",
            "|Sudeste|    MG|2020-04-25|        62|           1481|          4|              58|\n",
            "|Sudeste|    ES|2020-04-09|        46|            273|          0|               6|\n",
            "|Sudeste|    ES|2020-04-11|        49|            349|          2|               9|\n",
            "|Sudeste|    ES|2020-04-12|        34|            383|          0|               9|\n",
            "|Sudeste|    ES|2020-04-13|        47|            430|          5|              14|\n",
            "|Sudeste|    ES|2020-04-14|        33|            463|          3|              17|\n",
            "|Sudeste|    ES|2020-04-15|        94|            557|          1|              18|\n",
            "|Sudeste|    ES|2020-04-16|       197|            754|          4|              22|\n",
            "|Sudeste|    ES|2020-04-17|       102|            856|          3|              25|\n",
            "|Sudeste|    ES|2020-04-18|        96|            952|          3|              28|\n",
            "|Sudeste|    ES|2020-04-19|       147|           1099|          2|              30|\n",
            "|Sudeste|    ES|2020-04-20|        69|           1168|          3|              33|\n",
            "|Sudeste|    ES|2020-04-21|        44|           1212|          1|              34|\n",
            "|Sudeste|    ES|2020-04-22|       101|           1313|          0|              34|\n",
            "|Sudeste|    ES|2020-04-23|        50|           1363|          8|              42|\n",
            "|Sudeste|    ES|2020-04-25|       214|           1595|          5|              47|\n",
            "|Sudeste|    RJ|2020-03-20|        44|            109|          0|               2|\n",
            "|Sudeste|    RJ|2020-03-22|        67|            186|          0|               3|\n",
            "|Sudeste|    RJ|2020-03-23|        47|            233|          1|               4|\n",
            "|Sudeste|    RJ|2020-03-24|        72|            305|          2|               6|\n",
            "|Sudeste|    RJ|2020-03-25|        65|            370|          0|               6|\n",
            "|Sudeste|    RJ|2020-03-26|        51|            421|          3|               9|\n",
            "|Sudeste|    RJ|2020-03-27|        72|            493|          1|              10|\n",
            "|Sudeste|    RJ|2020-03-28|        65|            558|          3|              13|\n",
            "|Sudeste|    RJ|2020-03-29|        42|            600|          4|              17|\n",
            "|Sudeste|    RJ|2020-03-30|        57|            657|          1|              18|\n",
            "|Sudeste|    RJ|2020-03-31|        51|            708|          5|              23|\n",
            "|Sudeste|    RJ|2020-04-01|       124|            832|          5|              28|\n",
            "+-------+------+----------+----------+---------------+-----------+----------------+\n",
            "only showing top 50 rows\n",
            "\n"
          ]
        }
      ]
    },
    {
      "cell_type": "code",
      "source": [
        "#3ª FORMA - TRABALHANDO COM FILTER ENCADEADO E O AND\n",
        "df2.filter((F.col(\"regiao\") == \"Sudeste\") & (F.col(\"casosNovos\") > 20)).show(30)"
      ],
      "metadata": {
        "colab": {
          "base_uri": "https://localhost:8080/"
        },
        "id": "3G3TTaep-zGm",
        "outputId": "125f4b2e-c4f4-4e51-913f-5e4f43ecce53"
      },
      "execution_count": null,
      "outputs": [
        {
          "output_type": "stream",
          "name": "stdout",
          "text": [
            "+-------+------+----------+----------+---------------+-----------+----------------+\n",
            "| regiao|estado|      data|casosNovos|casosAcumulados|obitosNovos|obitosAcumulados|\n",
            "+-------+------+----------+----------+---------------+-----------+----------------+\n",
            "|Sudeste|    MG|2020-03-22|        45|             83|          0|               0|\n",
            "|Sudeste|    MG|2020-03-23|        45|            128|          0|               0|\n",
            "|Sudeste|    MG|2020-03-27|        36|            189|          0|               0|\n",
            "|Sudeste|    MG|2020-03-29|        26|            231|          0|               0|\n",
            "|Sudeste|    MG|2020-03-30|        30|            261|          1|               1|\n",
            "|Sudeste|    MG|2020-04-01|        39|            314|          1|               3|\n",
            "|Sudeste|    MG|2020-04-02|        56|            370|          1|               4|\n",
            "|Sudeste|    MG|2020-04-03|        27|            397|          2|               6|\n",
            "|Sudeste|    MG|2020-04-04|        33|            430|          0|               6|\n",
            "|Sudeste|    MG|2020-04-05|        68|            498|          0|               6|\n",
            "|Sudeste|    MG|2020-04-06|        27|            525|          3|               9|\n",
            "|Sudeste|    MG|2020-04-07|        34|            559|          2|              11|\n",
            "|Sudeste|    MG|2020-04-08|        55|            614|          3|              14|\n",
            "|Sudeste|    MG|2020-04-09|        41|            655|          1|              15|\n",
            "|Sudeste|    MG|2020-04-10|        43|            698|          2|              17|\n",
            "|Sudeste|    MG|2020-04-11|        52|            750|          0|              17|\n",
            "|Sudeste|    MG|2020-04-12|        56|            806|          3|              20|\n",
            "|Sudeste|    MG|2020-04-14|        69|            884|          4|              27|\n",
            "|Sudeste|    MG|2020-04-16|        55|            958|          3|              33|\n",
            "|Sudeste|    MG|2020-04-17|        63|           1021|          2|              35|\n",
            "|Sudeste|    MG|2020-04-18|        56|           1077|          4|              39|\n",
            "|Sudeste|    MG|2020-04-19|        77|           1154|          0|              39|\n",
            "|Sudeste|    MG|2020-04-20|        35|           1189|          2|              41|\n",
            "|Sudeste|    MG|2020-04-21|        41|           1230|          3|              44|\n",
            "|Sudeste|    MG|2020-04-22|        53|           1283|          3|              47|\n",
            "|Sudeste|    MG|2020-04-23|        25|           1308|          4|              51|\n",
            "|Sudeste|    MG|2020-04-24|       111|           1419|          3|              54|\n",
            "|Sudeste|    MG|2020-04-25|        62|           1481|          4|              58|\n",
            "|Sudeste|    ES|2020-04-02|        24|            120|          1|               1|\n",
            "|Sudeste|    ES|2020-04-06|        28|            194|          0|               6|\n",
            "+-------+------+----------+----------+---------------+-----------+----------------+\n",
            "only showing top 30 rows\n",
            "\n"
          ]
        }
      ]
    },
    {
      "cell_type": "code",
      "source": [
        "#1ª FORMA - TRABALHANDO COM FILTER ENCADEADO E O OR\n",
        "df2.filter(\"regiao = 'Sudeste' or regiao = 'Norte'\").show(200)"
      ],
      "metadata": {
        "colab": {
          "base_uri": "https://localhost:8080/"
        },
        "id": "DTmrnotS_DOW",
        "outputId": "c4a37575-c319-4f3a-939f-5fa5092fd8db"
      },
      "execution_count": null,
      "outputs": [
        {
          "output_type": "stream",
          "name": "stdout",
          "text": [
            "+------+------+----------+----------+---------------+-----------+----------------+\n",
            "|regiao|estado|      data|casosNovos|casosAcumulados|obitosNovos|obitosAcumulados|\n",
            "+------+------+----------+----------+---------------+-----------+----------------+\n",
            "| Norte|    RO|2020-01-30|         0|              0|          0|               0|\n",
            "| Norte|    RO|2020-01-31|         0|              0|          0|               0|\n",
            "| Norte|    RO|2020-02-01|         0|              0|          0|               0|\n",
            "| Norte|    RO|2020-02-02|         0|              0|          0|               0|\n",
            "| Norte|    RO|2020-02-03|         0|              0|          0|               0|\n",
            "| Norte|    RO|2020-02-04|         0|              0|          0|               0|\n",
            "| Norte|    RO|2020-02-05|         0|              0|          0|               0|\n",
            "| Norte|    RO|2020-02-06|         0|              0|          0|               0|\n",
            "| Norte|    RO|2020-02-07|         0|              0|          0|               0|\n",
            "| Norte|    RO|2020-02-08|         0|              0|          0|               0|\n",
            "| Norte|    RO|2020-02-09|         0|              0|          0|               0|\n",
            "| Norte|    RO|2020-02-10|         0|              0|          0|               0|\n",
            "| Norte|    RO|2020-02-11|         0|              0|          0|               0|\n",
            "| Norte|    RO|2020-02-12|         0|              0|          0|               0|\n",
            "| Norte|    RO|2020-02-13|         0|              0|          0|               0|\n",
            "| Norte|    RO|2020-02-14|         0|              0|          0|               0|\n",
            "| Norte|    RO|2020-02-15|         0|              0|          0|               0|\n",
            "| Norte|    RO|2020-02-16|         0|              0|          0|               0|\n",
            "| Norte|    RO|2020-02-17|         0|              0|          0|               0|\n",
            "| Norte|    RO|2020-02-18|         0|              0|          0|               0|\n",
            "| Norte|    RO|2020-02-19|         0|              0|          0|               0|\n",
            "| Norte|    RO|2020-02-20|         0|              0|          0|               0|\n",
            "| Norte|    RO|2020-02-21|         0|              0|          0|               0|\n",
            "| Norte|    RO|2020-02-22|         0|              0|          0|               0|\n",
            "| Norte|    RO|2020-02-23|         0|              0|          0|               0|\n",
            "| Norte|    RO|2020-02-24|         0|              0|          0|               0|\n",
            "| Norte|    RO|2020-02-25|         0|              0|          0|               0|\n",
            "| Norte|    RO|2020-02-26|         0|              0|          0|               0|\n",
            "| Norte|    RO|2020-02-27|         0|              0|          0|               0|\n",
            "| Norte|    RO|2020-02-28|         0|              0|          0|               0|\n",
            "| Norte|    RO|2020-02-29|         0|              0|          0|               0|\n",
            "| Norte|    RO|2020-03-01|         0|              0|          0|               0|\n",
            "| Norte|    RO|2020-03-02|         0|              0|          0|               0|\n",
            "| Norte|    RO|2020-03-03|         0|              0|          0|               0|\n",
            "| Norte|    RO|2020-03-04|         0|              0|          0|               0|\n",
            "| Norte|    RO|2020-03-05|         0|              0|          0|               0|\n",
            "| Norte|    RO|2020-03-06|         0|              0|          0|               0|\n",
            "| Norte|    RO|2020-03-07|         0|              0|          0|               0|\n",
            "| Norte|    RO|2020-03-08|         0|              0|          0|               0|\n",
            "| Norte|    RO|2020-03-09|         0|              0|          0|               0|\n",
            "| Norte|    RO|2020-03-10|         0|              0|          0|               0|\n",
            "| Norte|    RO|2020-03-11|         0|              0|          0|               0|\n",
            "| Norte|    RO|2020-03-12|         0|              0|          0|               0|\n",
            "| Norte|    RO|2020-03-13|         0|              0|          0|               0|\n",
            "| Norte|    RO|2020-03-14|         0|              0|          0|               0|\n",
            "| Norte|    RO|2020-03-15|         0|              0|          0|               0|\n",
            "| Norte|    RO|2020-03-16|         0|              0|          0|               0|\n",
            "| Norte|    RO|2020-03-17|         0|              0|          0|               0|\n",
            "| Norte|    RO|2020-03-18|         0|              0|          0|               0|\n",
            "| Norte|    RO|2020-03-19|         0|              0|          0|               0|\n",
            "| Norte|    RO|2020-03-20|         1|              1|          0|               0|\n",
            "| Norte|    RO|2020-03-21|         0|              1|          0|               0|\n",
            "| Norte|    RO|2020-03-22|         2|              3|          0|               0|\n",
            "| Norte|    RO|2020-03-23|         0|              3|          0|               0|\n",
            "| Norte|    RO|2020-03-24|         0|              3|          0|               0|\n",
            "| Norte|    RO|2020-03-25|         2|              5|          0|               0|\n",
            "| Norte|    RO|2020-03-26|         0|              5|          0|               0|\n",
            "| Norte|    RO|2020-03-27|         1|              6|          0|               0|\n",
            "| Norte|    RO|2020-03-28|         0|              6|          0|               0|\n",
            "| Norte|    RO|2020-03-29|         0|              6|          0|               0|\n",
            "| Norte|    RO|2020-03-30|         0|              6|          0|               0|\n",
            "| Norte|    RO|2020-03-31|         2|              8|          1|               1|\n",
            "| Norte|    RO|2020-04-01|         1|              9|          0|               1|\n",
            "| Norte|    RO|2020-04-02|         1|             10|          0|               1|\n",
            "| Norte|    RO|2020-04-03|         0|             10|          0|               1|\n",
            "| Norte|    RO|2020-04-04|         1|             11|          0|               1|\n",
            "| Norte|    RO|2020-04-05|         1|             12|          0|               1|\n",
            "| Norte|    RO|2020-04-06|         2|             14|          0|               1|\n",
            "| Norte|    RO|2020-04-07|         4|             18|          0|               1|\n",
            "| Norte|    RO|2020-04-08|         0|             18|          0|               1|\n",
            "| Norte|    RO|2020-04-09|        10|             28|          1|               2|\n",
            "| Norte|    RO|2020-04-10|         4|             32|          0|               2|\n",
            "| Norte|    RO|2020-04-11|         1|             33|          0|               2|\n",
            "| Norte|    RO|2020-04-12|         2|             35|          0|               2|\n",
            "| Norte|    RO|2020-04-13|         7|             42|          0|               2|\n",
            "| Norte|    RO|2020-04-14|        22|             64|          0|               2|\n",
            "| Norte|    RO|2020-04-15|         5|             69|          0|               2|\n",
            "| Norte|    RO|2020-04-16|         7|             76|          1|               3|\n",
            "| Norte|    RO|2020-04-17|        16|             92|          0|               3|\n",
            "| Norte|    RO|2020-04-18|        18|            110|          0|               3|\n",
            "| Norte|    RO|2020-04-19|        18|            128|          1|               4|\n",
            "| Norte|    RO|2020-04-20|        32|            160|          0|               4|\n",
            "| Norte|    RO|2020-04-21|        39|            199|          0|               4|\n",
            "| Norte|    RO|2020-04-22|        24|            223|          1|               5|\n",
            "| Norte|    RO|2020-04-23|        27|            250|          0|               5|\n",
            "| Norte|    RO|2020-04-24|        40|            290|          0|               5|\n",
            "| Norte|    RO|2020-04-25|        38|            328|          2|               7|\n",
            "| Norte|    AC|2020-01-30|         0|              0|          0|               0|\n",
            "| Norte|    AC|2020-01-31|         0|              0|          0|               0|\n",
            "| Norte|    AC|2020-02-01|         0|              0|          0|               0|\n",
            "| Norte|    AC|2020-02-02|         0|              0|          0|               0|\n",
            "| Norte|    AC|2020-02-03|         0|              0|          0|               0|\n",
            "| Norte|    AC|2020-02-04|         0|              0|          0|               0|\n",
            "| Norte|    AC|2020-02-05|         0|              0|          0|               0|\n",
            "| Norte|    AC|2020-02-06|         0|              0|          0|               0|\n",
            "| Norte|    AC|2020-02-07|         0|              0|          0|               0|\n",
            "| Norte|    AC|2020-02-08|         0|              0|          0|               0|\n",
            "| Norte|    AC|2020-02-09|         0|              0|          0|               0|\n",
            "| Norte|    AC|2020-02-10|         0|              0|          0|               0|\n",
            "| Norte|    AC|2020-02-11|         0|              0|          0|               0|\n",
            "| Norte|    AC|2020-02-12|         0|              0|          0|               0|\n",
            "| Norte|    AC|2020-02-13|         0|              0|          0|               0|\n",
            "| Norte|    AC|2020-02-14|         0|              0|          0|               0|\n",
            "| Norte|    AC|2020-02-15|         0|              0|          0|               0|\n",
            "| Norte|    AC|2020-02-16|         0|              0|          0|               0|\n",
            "| Norte|    AC|2020-02-17|         0|              0|          0|               0|\n",
            "| Norte|    AC|2020-02-18|         0|              0|          0|               0|\n",
            "| Norte|    AC|2020-02-19|         0|              0|          0|               0|\n",
            "| Norte|    AC|2020-02-20|         0|              0|          0|               0|\n",
            "| Norte|    AC|2020-02-21|         0|              0|          0|               0|\n",
            "| Norte|    AC|2020-02-22|         0|              0|          0|               0|\n",
            "| Norte|    AC|2020-02-23|         0|              0|          0|               0|\n",
            "| Norte|    AC|2020-02-24|         0|              0|          0|               0|\n",
            "| Norte|    AC|2020-02-25|         0|              0|          0|               0|\n",
            "| Norte|    AC|2020-02-26|         0|              0|          0|               0|\n",
            "| Norte|    AC|2020-02-27|         0|              0|          0|               0|\n",
            "| Norte|    AC|2020-02-28|         0|              0|          0|               0|\n",
            "| Norte|    AC|2020-02-29|         0|              0|          0|               0|\n",
            "| Norte|    AC|2020-03-01|         0|              0|          0|               0|\n",
            "| Norte|    AC|2020-03-02|         0|              0|          0|               0|\n",
            "| Norte|    AC|2020-03-03|         0|              0|          0|               0|\n",
            "| Norte|    AC|2020-03-04|         0|              0|          0|               0|\n",
            "| Norte|    AC|2020-03-05|         0|              0|          0|               0|\n",
            "| Norte|    AC|2020-03-06|         0|              0|          0|               0|\n",
            "| Norte|    AC|2020-03-07|         0|              0|          0|               0|\n",
            "| Norte|    AC|2020-03-08|         0|              0|          0|               0|\n",
            "| Norte|    AC|2020-03-09|         0|              0|          0|               0|\n",
            "| Norte|    AC|2020-03-10|         0|              0|          0|               0|\n",
            "| Norte|    AC|2020-03-11|         0|              0|          0|               0|\n",
            "| Norte|    AC|2020-03-12|         0|              0|          0|               0|\n",
            "| Norte|    AC|2020-03-13|         0|              0|          0|               0|\n",
            "| Norte|    AC|2020-03-14|         0|              0|          0|               0|\n",
            "| Norte|    AC|2020-03-15|         0|              0|          0|               0|\n",
            "| Norte|    AC|2020-03-16|         0|              0|          0|               0|\n",
            "| Norte|    AC|2020-03-17|         0|              0|          0|               0|\n",
            "| Norte|    AC|2020-03-18|         0|              0|          0|               0|\n",
            "| Norte|    AC|2020-03-19|         3|              3|          0|               0|\n",
            "| Norte|    AC|2020-03-20|         4|              7|          0|               0|\n",
            "| Norte|    AC|2020-03-21|         2|              9|          0|               0|\n",
            "| Norte|    AC|2020-03-22|         2|             11|          0|               0|\n",
            "| Norte|    AC|2020-03-23|         0|             11|          0|               0|\n",
            "| Norte|    AC|2020-03-24|         6|             17|          0|               0|\n",
            "| Norte|    AC|2020-03-25|         6|             23|          0|               0|\n",
            "| Norte|    AC|2020-03-26|         1|             24|          0|               0|\n",
            "| Norte|    AC|2020-03-27|         1|             25|          0|               0|\n",
            "| Norte|    AC|2020-03-28|         0|             25|          0|               0|\n",
            "| Norte|    AC|2020-03-29|         9|             34|          0|               0|\n",
            "| Norte|    AC|2020-03-30|         8|             42|          0|               0|\n",
            "| Norte|    AC|2020-03-31|         0|             42|          0|               0|\n",
            "| Norte|    AC|2020-04-01|         1|             43|          0|               0|\n",
            "| Norte|    AC|2020-04-02|         0|             43|          0|               0|\n",
            "| Norte|    AC|2020-04-03|         3|             46|          0|               0|\n",
            "| Norte|    AC|2020-04-04|         0|             46|          0|               0|\n",
            "| Norte|    AC|2020-04-05|         2|             48|          0|               0|\n",
            "| Norte|    AC|2020-04-06|         2|             50|          0|               0|\n",
            "| Norte|    AC|2020-04-07|         0|             50|          1|               1|\n",
            "| Norte|    AC|2020-04-08|         4|             54|          1|               2|\n",
            "| Norte|    AC|2020-04-09|         8|             62|          0|               2|\n",
            "| Norte|    AC|2020-04-10|         8|             70|          0|               2|\n",
            "| Norte|    AC|2020-04-11|         2|             72|          0|               2|\n",
            "| Norte|    AC|2020-04-12|         5|             77|          0|               2|\n",
            "| Norte|    AC|2020-04-13|        13|             90|          1|               3|\n",
            "| Norte|    AC|2020-04-14|         9|             99|          0|               3|\n",
            "| Norte|    AC|2020-04-15|         2|            101|          0|               3|\n",
            "| Norte|    AC|2020-04-16|         9|            110|          2|               5|\n",
            "| Norte|    AC|2020-04-17|        25|            135|          0|               5|\n",
            "| Norte|    AC|2020-04-18|         7|            142|          0|               5|\n",
            "| Norte|    AC|2020-04-19|        21|            163|          1|               6|\n",
            "| Norte|    AC|2020-04-20|        13|            176|          2|               8|\n",
            "| Norte|    AC|2020-04-21|        19|            195|          0|               8|\n",
            "| Norte|    AC|2020-04-22|        19|            214|          0|               8|\n",
            "| Norte|    AC|2020-04-23|        13|            227|          2|              10|\n",
            "| Norte|    AC|2020-04-24|         7|            234|          1|              11|\n",
            "| Norte|    AC|2020-04-25|        24|            258|          0|              11|\n",
            "| Norte|    AM|2020-01-30|         0|              0|          0|               0|\n",
            "| Norte|    AM|2020-01-31|         0|              0|          0|               0|\n",
            "| Norte|    AM|2020-02-01|         0|              0|          0|               0|\n",
            "| Norte|    AM|2020-02-02|         0|              0|          0|               0|\n",
            "| Norte|    AM|2020-02-03|         0|              0|          0|               0|\n",
            "| Norte|    AM|2020-02-04|         0|              0|          0|               0|\n",
            "| Norte|    AM|2020-02-05|         0|              0|          0|               0|\n",
            "| Norte|    AM|2020-02-06|         0|              0|          0|               0|\n",
            "| Norte|    AM|2020-02-07|         0|              0|          0|               0|\n",
            "| Norte|    AM|2020-02-08|         0|              0|          0|               0|\n",
            "| Norte|    AM|2020-02-09|         0|              0|          0|               0|\n",
            "| Norte|    AM|2020-02-10|         0|              0|          0|               0|\n",
            "| Norte|    AM|2020-02-11|         0|              0|          0|               0|\n",
            "| Norte|    AM|2020-02-12|         0|              0|          0|               0|\n",
            "| Norte|    AM|2020-02-13|         0|              0|          0|               0|\n",
            "| Norte|    AM|2020-02-14|         0|              0|          0|               0|\n",
            "| Norte|    AM|2020-02-15|         0|              0|          0|               0|\n",
            "| Norte|    AM|2020-02-16|         0|              0|          0|               0|\n",
            "| Norte|    AM|2020-02-17|         0|              0|          0|               0|\n",
            "| Norte|    AM|2020-02-18|         0|              0|          0|               0|\n",
            "| Norte|    AM|2020-02-19|         0|              0|          0|               0|\n",
            "| Norte|    AM|2020-02-20|         0|              0|          0|               0|\n",
            "| Norte|    AM|2020-02-21|         0|              0|          0|               0|\n",
            "| Norte|    AM|2020-02-22|         0|              0|          0|               0|\n",
            "| Norte|    AM|2020-02-23|         0|              0|          0|               0|\n",
            "| Norte|    AM|2020-02-24|         0|              0|          0|               0|\n",
            "+------+------+----------+----------+---------------+-----------+----------------+\n",
            "only showing top 200 rows\n",
            "\n"
          ]
        }
      ]
    },
    {
      "cell_type": "code",
      "source": [
        "#2ª FORMA - TRABALHANDO COM FILTER ENCADEADO E O OR\n",
        "df2.filter((F.col(\"regiao\") == \"Sudeste\") | (F.col(\"regiao\") == \"Norte\")).show(30)"
      ],
      "metadata": {
        "colab": {
          "base_uri": "https://localhost:8080/"
        },
        "id": "Gnw-RQ2r_FuW",
        "outputId": "f910f14f-95be-410a-ab88-a0b59f81eb04"
      },
      "execution_count": null,
      "outputs": [
        {
          "output_type": "stream",
          "name": "stdout",
          "text": [
            "+------+------+----------+----------+---------------+-----------+----------------+\n",
            "|regiao|estado|      data|casosNovos|casosAcumulados|obitosNovos|obitosAcumulados|\n",
            "+------+------+----------+----------+---------------+-----------+----------------+\n",
            "| Norte|    RO|2020-01-30|         0|              0|          0|               0|\n",
            "| Norte|    RO|2020-01-31|         0|              0|          0|               0|\n",
            "| Norte|    RO|2020-02-01|         0|              0|          0|               0|\n",
            "| Norte|    RO|2020-02-02|         0|              0|          0|               0|\n",
            "| Norte|    RO|2020-02-03|         0|              0|          0|               0|\n",
            "| Norte|    RO|2020-02-04|         0|              0|          0|               0|\n",
            "| Norte|    RO|2020-02-05|         0|              0|          0|               0|\n",
            "| Norte|    RO|2020-02-06|         0|              0|          0|               0|\n",
            "| Norte|    RO|2020-02-07|         0|              0|          0|               0|\n",
            "| Norte|    RO|2020-02-08|         0|              0|          0|               0|\n",
            "| Norte|    RO|2020-02-09|         0|              0|          0|               0|\n",
            "| Norte|    RO|2020-02-10|         0|              0|          0|               0|\n",
            "| Norte|    RO|2020-02-11|         0|              0|          0|               0|\n",
            "| Norte|    RO|2020-02-12|         0|              0|          0|               0|\n",
            "| Norte|    RO|2020-02-13|         0|              0|          0|               0|\n",
            "| Norte|    RO|2020-02-14|         0|              0|          0|               0|\n",
            "| Norte|    RO|2020-02-15|         0|              0|          0|               0|\n",
            "| Norte|    RO|2020-02-16|         0|              0|          0|               0|\n",
            "| Norte|    RO|2020-02-17|         0|              0|          0|               0|\n",
            "| Norte|    RO|2020-02-18|         0|              0|          0|               0|\n",
            "| Norte|    RO|2020-02-19|         0|              0|          0|               0|\n",
            "| Norte|    RO|2020-02-20|         0|              0|          0|               0|\n",
            "| Norte|    RO|2020-02-21|         0|              0|          0|               0|\n",
            "| Norte|    RO|2020-02-22|         0|              0|          0|               0|\n",
            "| Norte|    RO|2020-02-23|         0|              0|          0|               0|\n",
            "| Norte|    RO|2020-02-24|         0|              0|          0|               0|\n",
            "| Norte|    RO|2020-02-25|         0|              0|          0|               0|\n",
            "| Norte|    RO|2020-02-26|         0|              0|          0|               0|\n",
            "| Norte|    RO|2020-02-27|         0|              0|          0|               0|\n",
            "| Norte|    RO|2020-02-28|         0|              0|          0|               0|\n",
            "+------+------+----------+----------+---------------+-----------+----------------+\n",
            "only showing top 30 rows\n",
            "\n"
          ]
        }
      ]
    },
    {
      "cell_type": "code",
      "source": [
        "filtro = F.col(\"regiao\") == \"Sudeste\"\n",
        "\n",
        "df2.filter(filtro).show(10)"
      ],
      "metadata": {
        "colab": {
          "base_uri": "https://localhost:8080/"
        },
        "id": "F3r_zp-ADlO3",
        "outputId": "bd65f8bb-5b2f-45e3-f3d7-207decf609c5"
      },
      "execution_count": null,
      "outputs": [
        {
          "output_type": "stream",
          "name": "stdout",
          "text": [
            "+-------+------+----------+----------+---------------+-----------+----------------+\n",
            "| regiao|estado|      data|casosNovos|casosAcumulados|obitosNovos|obitosAcumulados|\n",
            "+-------+------+----------+----------+---------------+-----------+----------------+\n",
            "|Sudeste|    MG|2020-01-30|         0|              0|          0|               0|\n",
            "|Sudeste|    MG|2020-01-31|         0|              0|          0|               0|\n",
            "|Sudeste|    MG|2020-02-01|         0|              0|          0|               0|\n",
            "|Sudeste|    MG|2020-02-02|         0|              0|          0|               0|\n",
            "|Sudeste|    MG|2020-02-03|         0|              0|          0|               0|\n",
            "|Sudeste|    MG|2020-02-04|         0|              0|          0|               0|\n",
            "|Sudeste|    MG|2020-02-05|         0|              0|          0|               0|\n",
            "|Sudeste|    MG|2020-02-06|         0|              0|          0|               0|\n",
            "|Sudeste|    MG|2020-02-07|         0|              0|          0|               0|\n",
            "|Sudeste|    MG|2020-02-08|         0|              0|          0|               0|\n",
            "+-------+------+----------+----------+---------------+-----------+----------------+\n",
            "only showing top 10 rows\n",
            "\n"
          ]
        }
      ]
    },
    {
      "cell_type": "code",
      "source": [
        "colunas = ['regiao', 'casosNovos']\n",
        "df2.select(colunas).show(5)"
      ],
      "metadata": {
        "colab": {
          "base_uri": "https://localhost:8080/"
        },
        "id": "RGAh3Odd7WG7",
        "outputId": "8dd90ab6-42f3-4ed2-ba7b-23d01bf9cc9c"
      },
      "execution_count": null,
      "outputs": [
        {
          "output_type": "stream",
          "name": "stdout",
          "text": [
            "+------+----------+\n",
            "|regiao|casosNovos|\n",
            "+------+----------+\n",
            "| Norte|         0|\n",
            "| Norte|         0|\n",
            "| Norte|         0|\n",
            "| Norte|         0|\n",
            "| Norte|         0|\n",
            "+------+----------+\n",
            "only showing top 5 rows\n",
            "\n"
          ]
        }
      ]
    },
    {
      "cell_type": "markdown",
      "source": [
        "# WHERE"
      ],
      "metadata": {
        "id": "1rK1bDrnRWss"
      }
    },
    {
      "cell_type": "code",
      "source": [
        "df2.where(F.col(\"regiao\") == 'Nordeste').show(10)"
      ],
      "metadata": {
        "id": "19h2XU_2_JIT",
        "colab": {
          "base_uri": "https://localhost:8080/"
        },
        "outputId": "9fb1b994-8e3d-45b4-ed18-634b600c93ea"
      },
      "execution_count": null,
      "outputs": [
        {
          "output_type": "stream",
          "name": "stdout",
          "text": [
            "+--------+------+----------+----------+---------------+-----------+----------------+\n",
            "|  regiao|estado|      data|casosNovos|casosAcumulados|obitosNovos|obitosAcumulados|\n",
            "+--------+------+----------+----------+---------------+-----------+----------------+\n",
            "|Nordeste|    MA|2020-01-30|         0|              0|          0|               0|\n",
            "|Nordeste|    MA|2020-01-31|         0|              0|          0|               0|\n",
            "|Nordeste|    MA|2020-02-01|         0|              0|          0|               0|\n",
            "|Nordeste|    MA|2020-02-02|         0|              0|          0|               0|\n",
            "|Nordeste|    MA|2020-02-03|         0|              0|          0|               0|\n",
            "|Nordeste|    MA|2020-02-04|         0|              0|          0|               0|\n",
            "|Nordeste|    MA|2020-02-05|         0|              0|          0|               0|\n",
            "|Nordeste|    MA|2020-02-06|         0|              0|          0|               0|\n",
            "|Nordeste|    MA|2020-02-07|         0|              0|          0|               0|\n",
            "|Nordeste|    MA|2020-02-08|         0|              0|          0|               0|\n",
            "+--------+------+----------+----------+---------------+-----------+----------------+\n",
            "only showing top 10 rows\n",
            "\n"
          ]
        }
      ]
    },
    {
      "cell_type": "code",
      "source": [
        "#MOSTRAR APENAS OS ESTADOS DA REGIÃO NORTE E QUE COMECEM COM A LETRA A\n",
        "df2.where(F.col(\"regiao\") == \"Norte\").filter(\"estado LIKE '%A%'\").show(20)"
      ],
      "metadata": {
        "id": "7iuZ7AanEEtr",
        "colab": {
          "base_uri": "https://localhost:8080/"
        },
        "outputId": "1361d810-a5be-4e73-e0d1-97d39ca39e0a"
      },
      "execution_count": null,
      "outputs": [
        {
          "output_type": "stream",
          "name": "stdout",
          "text": [
            "+------+------+----------+----------+---------------+-----------+----------------+\n",
            "|regiao|estado|      data|casosNovos|casosAcumulados|obitosNovos|obitosAcumulados|\n",
            "+------+------+----------+----------+---------------+-----------+----------------+\n",
            "| Norte|    AC|2020-01-30|         0|              0|          0|               0|\n",
            "| Norte|    AC|2020-01-31|         0|              0|          0|               0|\n",
            "| Norte|    AC|2020-02-01|         0|              0|          0|               0|\n",
            "| Norte|    AC|2020-02-02|         0|              0|          0|               0|\n",
            "| Norte|    AC|2020-02-03|         0|              0|          0|               0|\n",
            "| Norte|    AC|2020-02-04|         0|              0|          0|               0|\n",
            "| Norte|    AC|2020-02-05|         0|              0|          0|               0|\n",
            "| Norte|    AC|2020-02-06|         0|              0|          0|               0|\n",
            "| Norte|    AC|2020-02-07|         0|              0|          0|               0|\n",
            "| Norte|    AC|2020-02-08|         0|              0|          0|               0|\n",
            "| Norte|    AC|2020-02-09|         0|              0|          0|               0|\n",
            "| Norte|    AC|2020-02-10|         0|              0|          0|               0|\n",
            "| Norte|    AC|2020-02-11|         0|              0|          0|               0|\n",
            "| Norte|    AC|2020-02-12|         0|              0|          0|               0|\n",
            "| Norte|    AC|2020-02-13|         0|              0|          0|               0|\n",
            "| Norte|    AC|2020-02-14|         0|              0|          0|               0|\n",
            "| Norte|    AC|2020-02-15|         0|              0|          0|               0|\n",
            "| Norte|    AC|2020-02-16|         0|              0|          0|               0|\n",
            "| Norte|    AC|2020-02-17|         0|              0|          0|               0|\n",
            "| Norte|    AC|2020-02-18|         0|              0|          0|               0|\n",
            "+------+------+----------+----------+---------------+-----------+----------------+\n",
            "only showing top 20 rows\n",
            "\n"
          ]
        }
      ]
    },
    {
      "cell_type": "code",
      "source": [
        "#FILTRO POR ESTADOS QUE COMECEM COM A LETRA A\n",
        "df2.filter(F.col(\"estado\").startswith(\"A\")).show(10)\n",
        " \n",
        "#FILTRO POR ESTADOS QUE CONTENHAM A LETRA A \n",
        "df2.filter(F.col(\"estado\").contains(\"A\")).show(10)\n",
        "\n",
        "#FILTRO POR ESTADOS QUE TERMINEM COM A LETRA A\n",
        "df2.filter(F.col(\"estado\").endswith(\"A\")).show(10)\n"
      ],
      "metadata": {
        "id": "pIHkEow1E8zd",
        "colab": {
          "base_uri": "https://localhost:8080/"
        },
        "outputId": "c6719304-282e-4420-d8be-2f0600158d96"
      },
      "execution_count": null,
      "outputs": [
        {
          "output_type": "stream",
          "name": "stdout",
          "text": [
            "+------+------+----------+----------+---------------+-----------+----------------+\n",
            "|regiao|estado|      data|casosNovos|casosAcumulados|obitosNovos|obitosAcumulados|\n",
            "+------+------+----------+----------+---------------+-----------+----------------+\n",
            "| Norte|    AC|2020-01-30|         0|              0|          0|               0|\n",
            "| Norte|    AC|2020-01-31|         0|              0|          0|               0|\n",
            "| Norte|    AC|2020-02-01|         0|              0|          0|               0|\n",
            "| Norte|    AC|2020-02-02|         0|              0|          0|               0|\n",
            "| Norte|    AC|2020-02-03|         0|              0|          0|               0|\n",
            "| Norte|    AC|2020-02-04|         0|              0|          0|               0|\n",
            "| Norte|    AC|2020-02-05|         0|              0|          0|               0|\n",
            "| Norte|    AC|2020-02-06|         0|              0|          0|               0|\n",
            "| Norte|    AC|2020-02-07|         0|              0|          0|               0|\n",
            "| Norte|    AC|2020-02-08|         0|              0|          0|               0|\n",
            "+------+------+----------+----------+---------------+-----------+----------------+\n",
            "only showing top 10 rows\n",
            "\n",
            "+------+------+----------+----------+---------------+-----------+----------------+\n",
            "|regiao|estado|      data|casosNovos|casosAcumulados|obitosNovos|obitosAcumulados|\n",
            "+------+------+----------+----------+---------------+-----------+----------------+\n",
            "| Norte|    AC|2020-01-30|         0|              0|          0|               0|\n",
            "| Norte|    AC|2020-01-31|         0|              0|          0|               0|\n",
            "| Norte|    AC|2020-02-01|         0|              0|          0|               0|\n",
            "| Norte|    AC|2020-02-02|         0|              0|          0|               0|\n",
            "| Norte|    AC|2020-02-03|         0|              0|          0|               0|\n",
            "| Norte|    AC|2020-02-04|         0|              0|          0|               0|\n",
            "| Norte|    AC|2020-02-05|         0|              0|          0|               0|\n",
            "| Norte|    AC|2020-02-06|         0|              0|          0|               0|\n",
            "| Norte|    AC|2020-02-07|         0|              0|          0|               0|\n",
            "| Norte|    AC|2020-02-08|         0|              0|          0|               0|\n",
            "+------+------+----------+----------+---------------+-----------+----------------+\n",
            "only showing top 10 rows\n",
            "\n",
            "+------+------+----------+----------+---------------+-----------+----------------+\n",
            "|regiao|estado|      data|casosNovos|casosAcumulados|obitosNovos|obitosAcumulados|\n",
            "+------+------+----------+----------+---------------+-----------+----------------+\n",
            "| Norte|    PA|2020-01-30|         0|              0|          0|               0|\n",
            "| Norte|    PA|2020-01-31|         0|              0|          0|               0|\n",
            "| Norte|    PA|2020-02-01|         0|              0|          0|               0|\n",
            "| Norte|    PA|2020-02-02|         0|              0|          0|               0|\n",
            "| Norte|    PA|2020-02-03|         0|              0|          0|               0|\n",
            "| Norte|    PA|2020-02-04|         0|              0|          0|               0|\n",
            "| Norte|    PA|2020-02-05|         0|              0|          0|               0|\n",
            "| Norte|    PA|2020-02-06|         0|              0|          0|               0|\n",
            "| Norte|    PA|2020-02-07|         0|              0|          0|               0|\n",
            "| Norte|    PA|2020-02-08|         0|              0|          0|               0|\n",
            "+------+------+----------+----------+---------------+-----------+----------------+\n",
            "only showing top 10 rows\n",
            "\n"
          ]
        }
      ]
    },
    {
      "cell_type": "code",
      "source": [
        "df2.filter(F.col(\"estado\").like(\"A%\")).show(20)"
      ],
      "metadata": {
        "id": "AT139rxLH4Fr",
        "colab": {
          "base_uri": "https://localhost:8080/"
        },
        "outputId": "86381250-2ed8-4c0b-bc65-9bd728c78feb"
      },
      "execution_count": null,
      "outputs": [
        {
          "output_type": "stream",
          "name": "stdout",
          "text": [
            "+------+------+----------+----------+---------------+-----------+----------------+\n",
            "|regiao|estado|      data|casosNovos|casosAcumulados|obitosNovos|obitosAcumulados|\n",
            "+------+------+----------+----------+---------------+-----------+----------------+\n",
            "| Norte|    AC|2020-01-30|         0|              0|          0|               0|\n",
            "| Norte|    AC|2020-01-31|         0|              0|          0|               0|\n",
            "| Norte|    AC|2020-02-01|         0|              0|          0|               0|\n",
            "| Norte|    AC|2020-02-02|         0|              0|          0|               0|\n",
            "| Norte|    AC|2020-02-03|         0|              0|          0|               0|\n",
            "| Norte|    AC|2020-02-04|         0|              0|          0|               0|\n",
            "| Norte|    AC|2020-02-05|         0|              0|          0|               0|\n",
            "| Norte|    AC|2020-02-06|         0|              0|          0|               0|\n",
            "| Norte|    AC|2020-02-07|         0|              0|          0|               0|\n",
            "| Norte|    AC|2020-02-08|         0|              0|          0|               0|\n",
            "| Norte|    AC|2020-02-09|         0|              0|          0|               0|\n",
            "| Norte|    AC|2020-02-10|         0|              0|          0|               0|\n",
            "| Norte|    AC|2020-02-11|         0|              0|          0|               0|\n",
            "| Norte|    AC|2020-02-12|         0|              0|          0|               0|\n",
            "| Norte|    AC|2020-02-13|         0|              0|          0|               0|\n",
            "| Norte|    AC|2020-02-14|         0|              0|          0|               0|\n",
            "| Norte|    AC|2020-02-15|         0|              0|          0|               0|\n",
            "| Norte|    AC|2020-02-16|         0|              0|          0|               0|\n",
            "| Norte|    AC|2020-02-17|         0|              0|          0|               0|\n",
            "| Norte|    AC|2020-02-18|         0|              0|          0|               0|\n",
            "+------+------+----------+----------+---------------+-----------+----------------+\n",
            "only showing top 20 rows\n",
            "\n"
          ]
        }
      ]
    },
    {
      "cell_type": "code",
      "source": [
        "#UTILIZANDO O FILTRO COM UMA LISTA DE REGIÕES COM A FUNÇÃO ISIN\n",
        "lista_regiao = ['Norte', 'Sul']\n",
        "df2.filter(F.col(\"regiao\").isin(lista_regiao)).show(30)"
      ],
      "metadata": {
        "id": "Hv6NtxfUI3ul",
        "colab": {
          "base_uri": "https://localhost:8080/"
        },
        "outputId": "c11dc2ac-6303-417a-e222-2bf18e397f62"
      },
      "execution_count": null,
      "outputs": [
        {
          "output_type": "stream",
          "name": "stdout",
          "text": [
            "+------+------+----------+----------+---------------+-----------+----------------+\n",
            "|regiao|estado|      data|casosNovos|casosAcumulados|obitosNovos|obitosAcumulados|\n",
            "+------+------+----------+----------+---------------+-----------+----------------+\n",
            "| Norte|    RO|2020-01-30|         0|              0|          0|               0|\n",
            "| Norte|    RO|2020-01-31|         0|              0|          0|               0|\n",
            "| Norte|    RO|2020-02-01|         0|              0|          0|               0|\n",
            "| Norte|    RO|2020-02-02|         0|              0|          0|               0|\n",
            "| Norte|    RO|2020-02-03|         0|              0|          0|               0|\n",
            "| Norte|    RO|2020-02-04|         0|              0|          0|               0|\n",
            "| Norte|    RO|2020-02-05|         0|              0|          0|               0|\n",
            "| Norte|    RO|2020-02-06|         0|              0|          0|               0|\n",
            "| Norte|    RO|2020-02-07|         0|              0|          0|               0|\n",
            "| Norte|    RO|2020-02-08|         0|              0|          0|               0|\n",
            "| Norte|    RO|2020-02-09|         0|              0|          0|               0|\n",
            "| Norte|    RO|2020-02-10|         0|              0|          0|               0|\n",
            "| Norte|    RO|2020-02-11|         0|              0|          0|               0|\n",
            "| Norte|    RO|2020-02-12|         0|              0|          0|               0|\n",
            "| Norte|    RO|2020-02-13|         0|              0|          0|               0|\n",
            "| Norte|    RO|2020-02-14|         0|              0|          0|               0|\n",
            "| Norte|    RO|2020-02-15|         0|              0|          0|               0|\n",
            "| Norte|    RO|2020-02-16|         0|              0|          0|               0|\n",
            "| Norte|    RO|2020-02-17|         0|              0|          0|               0|\n",
            "| Norte|    RO|2020-02-18|         0|              0|          0|               0|\n",
            "| Norte|    RO|2020-02-19|         0|              0|          0|               0|\n",
            "| Norte|    RO|2020-02-20|         0|              0|          0|               0|\n",
            "| Norte|    RO|2020-02-21|         0|              0|          0|               0|\n",
            "| Norte|    RO|2020-02-22|         0|              0|          0|               0|\n",
            "| Norte|    RO|2020-02-23|         0|              0|          0|               0|\n",
            "| Norte|    RO|2020-02-24|         0|              0|          0|               0|\n",
            "| Norte|    RO|2020-02-25|         0|              0|          0|               0|\n",
            "| Norte|    RO|2020-02-26|         0|              0|          0|               0|\n",
            "| Norte|    RO|2020-02-27|         0|              0|          0|               0|\n",
            "| Norte|    RO|2020-02-28|         0|              0|          0|               0|\n",
            "+------+------+----------+----------+---------------+-----------+----------------+\n",
            "only showing top 30 rows\n",
            "\n"
          ]
        }
      ]
    },
    {
      "cell_type": "code",
      "source": [
        "#UTILIZANDO O FILTRO COM UMA LISTA DE REGIÕES\n",
        "df2.filter(\"regiao in ('Norte', 'Sul')\").show(30)"
      ],
      "metadata": {
        "id": "myqcrC4IJjIB"
      },
      "execution_count": null,
      "outputs": []
    },
    {
      "cell_type": "markdown",
      "source": [
        "#ATIVIDADE"
      ],
      "metadata": {
        "id": "ubv8-AE3fd8V"
      }
    },
    {
      "cell_type": "markdown",
      "source": [
        "('id':1,'nome':'Bob', 'idade':45,'gen':'M')\n",
        "('id':2,'nome':'Gloria', 'idade':43,'gen':'F')\n",
        "('id':4,'nome':'Albert', 'idade':28,'gen':'M')\n",
        "('id':5,'nome':'Laura', 'idade':33,'gen':'F')\n",
        "('id':8,'nome':'Simone', 'idade':18,'gen':'T')\n",
        "('id':12,'nome':'Marta', 'idade':45,'gen':'F')\n",
        "('id':45,'nome':'Jairo', 'idade':82,'gen':'M')\n",
        "('id':13,'nome':'Teste', 'idade':38,'gen':'T')\n",
        "\n",
        "Criar um DataFrame a partir das informações acima. Em seguida, fazer a análise utilizando o PySpark.\n",
        "\n",
        "\n",
        "\n",
        "\n"
      ],
      "metadata": {
        "id": "VUV173VifSpT"
      }
    },
    {
      "cell_type": "code",
      "source": [
        "dados = [{'id':1,'nome':'Bob', 'idade':45,'gen':'M'},\n",
        "{'id':2,'nome':'Gloria', 'idade':43,'gen':'F'},\n",
        "{'id':4,'nome':'Albert', 'idade':28,'gen':'M'},\n",
        "{'id':5,'nome':'Laura', 'idade':33,'gen':'F'},\n",
        "{'id':8,'nome':'Simone', 'idade':18,'gen':'T'},\n",
        "{'id':12,'nome':'Marta', 'idade':45,'gen':'F'},\n",
        "{'id':45,'nome':'Jairo', 'idade':82,'gen':'M'},\n",
        "{'id':13,'nome':'Teste', 'idade':38,'gen':'T'}]"
      ],
      "metadata": {
        "id": "Z01VfYKkfMDR"
      },
      "execution_count": null,
      "outputs": []
    },
    {
      "cell_type": "code",
      "source": [
        "ativ = spark.createDataFrame(data=dados)"
      ],
      "metadata": {
        "id": "Ug4Sdovhhnnl"
      },
      "execution_count": null,
      "outputs": []
    },
    {
      "cell_type": "code",
      "source": [
        "ativ.show()"
      ],
      "metadata": {
        "colab": {
          "base_uri": "https://localhost:8080/"
        },
        "id": "UCtPzbiSh1hG",
        "outputId": "f265bf68-b810-4a64-8e50-c5fe90f8228e"
      },
      "execution_count": null,
      "outputs": [
        {
          "output_type": "stream",
          "name": "stdout",
          "text": [
            "+---+---+-----+------+\n",
            "|gen| id|idade|  nome|\n",
            "+---+---+-----+------+\n",
            "|  M|  1|   45|   Bob|\n",
            "|  F|  2|   43|Gloria|\n",
            "|  M|  4|   28|Albert|\n",
            "|  F|  5|   33| Laura|\n",
            "|  T|  8|   18|Simone|\n",
            "|  F| 12|   45| Marta|\n",
            "|  M| 45|   82| Jairo|\n",
            "|  T| 13|   38| Teste|\n",
            "+---+---+-----+------+\n",
            "\n"
          ]
        }
      ]
    },
    {
      "cell_type": "code",
      "source": [
        "ativ.printSchema()"
      ],
      "metadata": {
        "colab": {
          "base_uri": "https://localhost:8080/"
        },
        "id": "v7MobNZ_kmys",
        "outputId": "6cfeb046-92ab-4acb-e013-b8acd078788c"
      },
      "execution_count": null,
      "outputs": [
        {
          "output_type": "stream",
          "name": "stdout",
          "text": [
            "root\n",
            " |-- gen: string (nullable = true)\n",
            " |-- id: long (nullable = true)\n",
            " |-- idade: long (nullable = true)\n",
            " |-- nome: string (nullable = true)\n",
            "\n"
          ]
        }
      ]
    },
    {
      "cell_type": "markdown",
      "source": [
        "1) Verifique as pessoas com idade superior a 30 anos"
      ],
      "metadata": {
        "id": "l1jXh56ciYg3"
      }
    },
    {
      "cell_type": "code",
      "source": [
        "idades = F.col(\"idade\")\n",
        "filtro_idade_maior_30 = idades > 30"
      ],
      "metadata": {
        "id": "jvm-_6ioifsT"
      },
      "execution_count": null,
      "outputs": []
    },
    {
      "cell_type": "code",
      "source": [
        "ativ.filter(filtro_idade_maior_30).show()"
      ],
      "metadata": {
        "colab": {
          "base_uri": "https://localhost:8080/"
        },
        "id": "53v6sWiji4zK",
        "outputId": "77ec3248-95ca-4659-89d6-8702d21230be"
      },
      "execution_count": null,
      "outputs": [
        {
          "output_type": "stream",
          "name": "stdout",
          "text": [
            "+---+---+-----+------+\n",
            "|gen| id|idade|  nome|\n",
            "+---+---+-----+------+\n",
            "|  M|  1|   45|   Bob|\n",
            "|  F|  2|   43|Gloria|\n",
            "|  F|  5|   33| Laura|\n",
            "|  F| 12|   45| Marta|\n",
            "|  M| 45|   82| Jairo|\n",
            "|  T| 13|   38| Teste|\n",
            "+---+---+-----+------+\n",
            "\n"
          ]
        }
      ]
    },
    {
      "cell_type": "markdown",
      "source": [
        "2) Verificar apenas as pessoas do sexo F"
      ],
      "metadata": {
        "id": "tQ8cSMW_ieq_"
      }
    },
    {
      "cell_type": "code",
      "source": [
        "genero = F.col(\"gen\")\n",
        "filtro_gen_F = genero == 'F'"
      ],
      "metadata": {
        "id": "LGWvo4I_jN9a"
      },
      "execution_count": null,
      "outputs": []
    },
    {
      "cell_type": "code",
      "source": [
        "ativ.where(filtro_gen_F).show()"
      ],
      "metadata": {
        "colab": {
          "base_uri": "https://localhost:8080/"
        },
        "id": "Xbm1XqiKjnl-",
        "outputId": "5a4539f5-2b97-467b-f787-a697c9453657"
      },
      "execution_count": null,
      "outputs": [
        {
          "output_type": "stream",
          "name": "stdout",
          "text": [
            "+---+---+-----+------+\n",
            "|gen| id|idade|  nome|\n",
            "+---+---+-----+------+\n",
            "|  F|  2|   43|Gloria|\n",
            "|  F|  5|   33| Laura|\n",
            "|  F| 12|   45| Marta|\n",
            "+---+---+-----+------+\n",
            "\n"
          ]
        }
      ]
    },
    {
      "cell_type": "markdown",
      "source": [
        "# withColumn"
      ],
      "metadata": {
        "id": "udswDn8wFJAn"
      }
    },
    {
      "cell_type": "code",
      "source": [
        "#WithColumn cria uma nova coluna contendo o valor passado dentro da função f.lit()\n",
        "numero = 10\n",
        "df2 = df.withColumn(\"Nova_coluna\", F.lit(numero))\n",
        "df2.show(20)"
      ],
      "metadata": {
        "colab": {
          "base_uri": "https://localhost:8080/"
        },
        "id": "mocYJypqFMAm",
        "outputId": "391b13d6-8503-48f6-9e24-5bc239768fee"
      },
      "execution_count": null,
      "outputs": [
        {
          "output_type": "stream",
          "name": "stdout",
          "text": [
            "+------+------+----------+----------+---------------+-----------+----------------+-----------+\n",
            "|regiao|estado|      data|casosNovos|casosAcumulados|obitosNovos|obitosAcumulados|Nova_coluna|\n",
            "+------+------+----------+----------+---------------+-----------+----------------+-----------+\n",
            "| Norte|    RO|2020-01-30|         0|              0|          0|               0|         10|\n",
            "| Norte|    RO|2020-01-31|         0|              0|          0|               0|         10|\n",
            "| Norte|    RO|2020-02-01|         0|              0|          0|               0|         10|\n",
            "| Norte|    RO|2020-02-02|         0|              0|          0|               0|         10|\n",
            "| Norte|    RO|2020-02-03|         0|              0|          0|               0|         10|\n",
            "| Norte|    RO|2020-02-04|         0|              0|          0|               0|         10|\n",
            "| Norte|    RO|2020-02-05|         0|              0|          0|               0|         10|\n",
            "| Norte|    RO|2020-02-06|         0|              0|          0|               0|         10|\n",
            "| Norte|    RO|2020-02-07|         0|              0|          0|               0|         10|\n",
            "| Norte|    RO|2020-02-08|         0|              0|          0|               0|         10|\n",
            "| Norte|    RO|2020-02-09|         0|              0|          0|               0|         10|\n",
            "| Norte|    RO|2020-02-10|         0|              0|          0|               0|         10|\n",
            "| Norte|    RO|2020-02-11|         0|              0|          0|               0|         10|\n",
            "| Norte|    RO|2020-02-12|         0|              0|          0|               0|         10|\n",
            "| Norte|    RO|2020-02-13|         0|              0|          0|               0|         10|\n",
            "| Norte|    RO|2020-02-14|         0|              0|          0|               0|         10|\n",
            "| Norte|    RO|2020-02-15|         0|              0|          0|               0|         10|\n",
            "| Norte|    RO|2020-02-16|         0|              0|          0|               0|         10|\n",
            "| Norte|    RO|2020-02-17|         0|              0|          0|               0|         10|\n",
            "| Norte|    RO|2020-02-18|         0|              0|          0|               0|         10|\n",
            "+------+------+----------+----------+---------------+-----------+----------------+-----------+\n",
            "only showing top 20 rows\n",
            "\n"
          ]
        }
      ]
    },
    {
      "cell_type": "code",
      "source": [
        "# Se não apontar para nova variavel, mudança não é efetuada\n",
        "df.withColumn(\"Nova_coluna\", F.lit(100))\n",
        "\n",
        "df.show()"
      ],
      "metadata": {
        "colab": {
          "base_uri": "https://localhost:8080/"
        },
        "id": "0MO-TQtGFVFk",
        "outputId": "02142f88-f4c3-43d2-c6b8-0a30f0b8733f"
      },
      "execution_count": null,
      "outputs": [
        {
          "output_type": "stream",
          "name": "stdout",
          "text": [
            "+------+------+----------+----------+---------------+-----------+----------------+\n",
            "|regiao|estado|      data|casosNovos|casosAcumulados|obitosNovos|obitosAcumulados|\n",
            "+------+------+----------+----------+---------------+-----------+----------------+\n",
            "| Norte|    RO|2020-01-30|         0|              0|          0|               0|\n",
            "| Norte|    RO|2020-01-31|         0|              0|          0|               0|\n",
            "| Norte|    RO|2020-02-01|         0|              0|          0|               0|\n",
            "| Norte|    RO|2020-02-02|         0|              0|          0|               0|\n",
            "| Norte|    RO|2020-02-03|         0|              0|          0|               0|\n",
            "| Norte|    RO|2020-02-04|         0|              0|          0|               0|\n",
            "| Norte|    RO|2020-02-05|         0|              0|          0|               0|\n",
            "| Norte|    RO|2020-02-06|         0|              0|          0|               0|\n",
            "| Norte|    RO|2020-02-07|         0|              0|          0|               0|\n",
            "| Norte|    RO|2020-02-08|         0|              0|          0|               0|\n",
            "| Norte|    RO|2020-02-09|         0|              0|          0|               0|\n",
            "| Norte|    RO|2020-02-10|         0|              0|          0|               0|\n",
            "| Norte|    RO|2020-02-11|         0|              0|          0|               0|\n",
            "| Norte|    RO|2020-02-12|         0|              0|          0|               0|\n",
            "| Norte|    RO|2020-02-13|         0|              0|          0|               0|\n",
            "| Norte|    RO|2020-02-14|         0|              0|          0|               0|\n",
            "| Norte|    RO|2020-02-15|         0|              0|          0|               0|\n",
            "| Norte|    RO|2020-02-16|         0|              0|          0|               0|\n",
            "| Norte|    RO|2020-02-17|         0|              0|          0|               0|\n",
            "| Norte|    RO|2020-02-18|         0|              0|          0|               0|\n",
            "+------+------+----------+----------+---------------+-----------+----------------+\n",
            "only showing top 20 rows\n",
            "\n"
          ]
        }
      ]
    },
    {
      "cell_type": "code",
      "source": [
        "#FUNÇÃO PARA TRANSFORMAR OS DADOS DE UMA COLUNA DE UM TIPO PARA OUTRO (cast)\n",
        "df2.printSchema()\n",
        "\n",
        "df3 = df2.select(F.col(\"Nova_coluna\").cast(\"string\"))\n",
        "\n",
        "df3.printSchema()"
      ],
      "metadata": {
        "colab": {
          "base_uri": "https://localhost:8080/"
        },
        "id": "n85H5vEiFti5",
        "outputId": "52409985-fbe0-4134-e18a-5006190d6b3e"
      },
      "execution_count": null,
      "outputs": [
        {
          "output_type": "stream",
          "name": "stdout",
          "text": [
            "root\n",
            " |-- regiao: string (nullable = true)\n",
            " |-- estado: string (nullable = true)\n",
            " |-- data: string (nullable = true)\n",
            " |-- casosNovos: integer (nullable = true)\n",
            " |-- casosAcumulados: integer (nullable = true)\n",
            " |-- obitosNovos: integer (nullable = true)\n",
            " |-- obitosAcumulados: integer (nullable = true)\n",
            " |-- Nova_coluna: integer (nullable = false)\n",
            "\n",
            "root\n",
            " |-- Nova_coluna: string (nullable = false)\n",
            "\n"
          ]
        }
      ]
    },
    {
      "cell_type": "code",
      "source": [
        "#CRIAR UMA NOVA COLUNA COM A SOMA DE CASOS NOVOS + CASOS ACUMULADOS\n",
        "\n",
        "df4 = df2.withColumn(\"soma_novos_acumulados\", F.col(\"casosNovos\") + F.col(\"casosAcumulados\"))\n",
        "df4.filter(F.col(\"casosNovos\") > 10).show(10)"
      ],
      "metadata": {
        "colab": {
          "base_uri": "https://localhost:8080/"
        },
        "id": "RjUslJy0F7Ud",
        "outputId": "fea012c7-a3ec-45da-c761-3b30314e25ab"
      },
      "execution_count": null,
      "outputs": [
        {
          "output_type": "stream",
          "name": "stdout",
          "text": [
            "+------+------+----------+----------+---------------+-----------+----------------+-----------+---------------------+\n",
            "|regiao|estado|      data|casosNovos|casosAcumulados|obitosNovos|obitosAcumulados|Nova_coluna|soma_novos_acumulados|\n",
            "+------+------+----------+----------+---------------+-----------+----------------+-----------+---------------------+\n",
            "| Norte|    RO|2020-04-14|        22|             64|          0|               2|         10|                   86|\n",
            "| Norte|    RO|2020-04-17|        16|             92|          0|               3|         10|                  108|\n",
            "| Norte|    RO|2020-04-18|        18|            110|          0|               3|         10|                  128|\n",
            "| Norte|    RO|2020-04-19|        18|            128|          1|               4|         10|                  146|\n",
            "| Norte|    RO|2020-04-20|        32|            160|          0|               4|         10|                  192|\n",
            "| Norte|    RO|2020-04-21|        39|            199|          0|               4|         10|                  238|\n",
            "| Norte|    RO|2020-04-22|        24|            223|          1|               5|         10|                  247|\n",
            "| Norte|    RO|2020-04-23|        27|            250|          0|               5|         10|                  277|\n",
            "| Norte|    RO|2020-04-24|        40|            290|          0|               5|         10|                  330|\n",
            "| Norte|    RO|2020-04-25|        38|            328|          2|               7|         10|                  366|\n",
            "+------+------+----------+----------+---------------+-----------+----------------+-----------+---------------------+\n",
            "only showing top 10 rows\n",
            "\n"
          ]
        }
      ]
    },
    {
      "cell_type": "markdown",
      "source": [
        "# WHEN-OTHERWISE"
      ],
      "metadata": {
        "id": "Nv9k0p-qCGyi"
      }
    },
    {
      "cell_type": "code",
      "source": [
        "spark = (SparkSession.builder\n",
        "         .master(\"local[3]\")\n",
        "         .appName(\"when_otherwise\")\n",
        "         .config(\"spark.ui.port\", \"4050\")\n",
        "         .getOrCreate()\n",
        "         )"
      ],
      "metadata": {
        "id": "a_Ru43L_CLEX"
      },
      "execution_count": null,
      "outputs": []
    },
    {
      "cell_type": "code",
      "source": [
        "d3 = ( spark.read\n",
        "            .format(\"csv\")\n",
        "            .option(\"header\", \"true\")\n",
        "            .option(\"inferschema\", \"true\")\n",
        "            .option(\"delimiter\", \";\")\n",
        "            .load(\"/content/drive/MyDrive/Datasets/arquivo_geral.csv\")\n",
        "      \n",
        ")"
      ],
      "metadata": {
        "id": "YXqXWM6vEuis"
      },
      "execution_count": null,
      "outputs": []
    },
    {
      "cell_type": "code",
      "source": [
        "df2 = (df.withColumn(\"Status\", F.when(F.col(\"casosNovos\") > 0, F.lit(\"Possui Casos Novos\"))\n",
        "                    .otherwise(F.lit(\"Não possui casos novos\"))))\n",
        "\n",
        "df2.show(1000)"
      ],
      "metadata": {
        "id": "ZVoaIPqyE60k"
      },
      "execution_count": null,
      "outputs": []
    },
    {
      "cell_type": "code",
      "source": [
        "#CRIANDO UMA NOVA COLUNA COM BASE EM MAIS DE DUAS CONDIÇÕES\n",
        "df3 = (df.withColumn(\"Status\", F.when((F.col('casosNovos') >= 50) & (F.col('casosNovos') <= 100), F.lit(\"Entre 50 e 100\"))\n",
        "                                .when((F.col('casosNovos') > 100 ) & (F.col('casosNovos') <= 200), F.lit('Entre 101 e 200'))\n",
        "                                .when((F.col('casosNovos') > 200 ) & (F.col('casosNovos') <= 300), F.lit('Entre 201 e 300'))\n",
        "                                .otherwise(F.lit('Entre outra faixa de valores'))))\n",
        "\n",
        "df3.show(20)"
      ],
      "metadata": {
        "colab": {
          "base_uri": "https://localhost:8080/"
        },
        "id": "HhZg4egoL8R1",
        "outputId": "92167088-0dac-43ee-8f56-ca51b43d771a"
      },
      "execution_count": null,
      "outputs": [
        {
          "output_type": "stream",
          "name": "stdout",
          "text": [
            "+------+------+----------+----------+---------------+-----------+----------------+--------------------+\n",
            "|regiao|estado|      data|casosNovos|casosAcumulados|obitosNovos|obitosAcumulados|              Status|\n",
            "+------+------+----------+----------+---------------+-----------+----------------+--------------------+\n",
            "| Norte|    RO|2020-01-30|         0|              0|          0|               0|Entre outra faixa...|\n",
            "| Norte|    RO|2020-01-31|         0|              0|          0|               0|Entre outra faixa...|\n",
            "| Norte|    RO|2020-02-01|         0|              0|          0|               0|Entre outra faixa...|\n",
            "| Norte|    RO|2020-02-02|         0|              0|          0|               0|Entre outra faixa...|\n",
            "| Norte|    RO|2020-02-03|         0|              0|          0|               0|Entre outra faixa...|\n",
            "| Norte|    RO|2020-02-04|         0|              0|          0|               0|Entre outra faixa...|\n",
            "| Norte|    RO|2020-02-05|         0|              0|          0|               0|Entre outra faixa...|\n",
            "| Norte|    RO|2020-02-06|         0|              0|          0|               0|Entre outra faixa...|\n",
            "| Norte|    RO|2020-02-07|         0|              0|          0|               0|Entre outra faixa...|\n",
            "| Norte|    RO|2020-02-08|         0|              0|          0|               0|Entre outra faixa...|\n",
            "| Norte|    RO|2020-02-09|         0|              0|          0|               0|Entre outra faixa...|\n",
            "| Norte|    RO|2020-02-10|         0|              0|          0|               0|Entre outra faixa...|\n",
            "| Norte|    RO|2020-02-11|         0|              0|          0|               0|Entre outra faixa...|\n",
            "| Norte|    RO|2020-02-12|         0|              0|          0|               0|Entre outra faixa...|\n",
            "| Norte|    RO|2020-02-13|         0|              0|          0|               0|Entre outra faixa...|\n",
            "| Norte|    RO|2020-02-14|         0|              0|          0|               0|Entre outra faixa...|\n",
            "| Norte|    RO|2020-02-15|         0|              0|          0|               0|Entre outra faixa...|\n",
            "| Norte|    RO|2020-02-16|         0|              0|          0|               0|Entre outra faixa...|\n",
            "| Norte|    RO|2020-02-17|         0|              0|          0|               0|Entre outra faixa...|\n",
            "| Norte|    RO|2020-02-18|         0|              0|          0|               0|Entre outra faixa...|\n",
            "+------+------+----------+----------+---------------+-----------+----------------+--------------------+\n",
            "only showing top 20 rows\n",
            "\n"
          ]
        }
      ]
    },
    {
      "cell_type": "code",
      "source": [
        "#PERCORRENDO UMA SUBSTRING DENTRO DE UM DATAFRAME\n",
        "df4 =( df3.withColumn(\"Dia\", F.substring(F.col(\"data\"), 9, 2))\n",
        "          .withColumn(\"Mes\", F.substring(F.col(\"data\"), 6, 2))\n",
        "          .withColumn(\"Ano\", F.substring(F.col(\"data\"), 1, 4))\n",
        "\n",
        ")\n",
        "\n",
        "# DIA F.substring(F.col(\"data\"), 9, 2)\n",
        "# MES F.substring(F.col(\"data\"), 6, 2)\n",
        "# ANO F.substring(F.col(\"data\"), 1, 4)\n",
        "df4.select(F.col(\"data\"), F.col(\"Dia\"), F.col(\"Mes\"), F.col(\"Ano\")).show(20)"
      ],
      "metadata": {
        "colab": {
          "base_uri": "https://localhost:8080/"
        },
        "id": "BieXP_J4RGyq",
        "outputId": "69fe1ae9-9b5e-40bf-a2c0-ce7b8e67b919"
      },
      "execution_count": null,
      "outputs": [
        {
          "output_type": "stream",
          "name": "stdout",
          "text": [
            "+----------+---+---+----+\n",
            "|      data|Dia|Mes| Ano|\n",
            "+----------+---+---+----+\n",
            "|2020-01-30| 30| 01|2020|\n",
            "|2020-01-31| 31| 01|2020|\n",
            "|2020-02-01| 01| 02|2020|\n",
            "|2020-02-02| 02| 02|2020|\n",
            "|2020-02-03| 03| 02|2020|\n",
            "|2020-02-04| 04| 02|2020|\n",
            "|2020-02-05| 05| 02|2020|\n",
            "|2020-02-06| 06| 02|2020|\n",
            "|2020-02-07| 07| 02|2020|\n",
            "|2020-02-08| 08| 02|2020|\n",
            "|2020-02-09| 09| 02|2020|\n",
            "|2020-02-10| 10| 02|2020|\n",
            "|2020-02-11| 11| 02|2020|\n",
            "|2020-02-12| 12| 02|2020|\n",
            "|2020-02-13| 13| 02|2020|\n",
            "|2020-02-14| 14| 02|2020|\n",
            "|2020-02-15| 15| 02|2020|\n",
            "|2020-02-16| 16| 02|2020|\n",
            "|2020-02-17| 17| 02|2020|\n",
            "|2020-02-18| 18| 02|2020|\n",
            "+----------+---+---+----+\n",
            "only showing top 20 rows\n",
            "\n"
          ]
        }
      ]
    },
    {
      "cell_type": "code",
      "source": [
        "df5 =( df3.withColumn(\"Dia\", F.substring(F.col(\"data\"), 9, 2).cast(\"integer\"))\n",
        "          .withColumn(\"Mes\", F.substring(F.col(\"data\"), 6, 2).cast(\"integer\"))\n",
        "          .withColumn(\"Ano\", F.substring(F.col(\"data\"), 1, 4).cast(\"integer\"))\n",
        "\n",
        ")\n",
        "\n",
        "df5.printSchema()"
      ],
      "metadata": {
        "colab": {
          "base_uri": "https://localhost:8080/"
        },
        "id": "OsWGae_zavBm",
        "outputId": "b27eb0ad-094e-4679-c939-83c51acb7fca"
      },
      "execution_count": null,
      "outputs": [
        {
          "output_type": "stream",
          "name": "stdout",
          "text": [
            "root\n",
            " |-- regiao: string (nullable = true)\n",
            " |-- estado: string (nullable = true)\n",
            " |-- data: string (nullable = true)\n",
            " |-- casosNovos: integer (nullable = true)\n",
            " |-- casosAcumulados: integer (nullable = true)\n",
            " |-- obitosNovos: integer (nullable = true)\n",
            " |-- obitosAcumulados: integer (nullable = true)\n",
            " |-- Status: string (nullable = false)\n",
            " |-- Dia: integer (nullable = true)\n",
            " |-- Mes: integer (nullable = true)\n",
            " |-- Ano: integer (nullable = true)\n",
            "\n"
          ]
        }
      ]
    },
    {
      "cell_type": "markdown",
      "source": [
        "# FUNÇÕES PARA ORDENAÇÃO DE COLUNAS - ORDEM CRESCENTE OU DECRESCENTE SORT ou ORDERBY\n",
        "\n",
        "\n"
      ],
      "metadata": {
        "id": "R80zBF-AzQ1c"
      }
    },
    {
      "cell_type": "code",
      "source": [
        "\n",
        "#df5.show(10)\n",
        "\n",
        "df5.select(F.col(\"estado\"), F.col('casosNovos'), F.col(\"Dia\"), F.col(\"Mes\"), F.col(\"Ano\")).sort(F.col(\"Dia\").desc(), F.col(\"Mes\")).show(200)\n",
        "df5.select(F.col(\"estado\"), F.col('casosNovos'), F.col(\"Dia\"), F.col(\"Mes\"), F.col(\"Ano\")).orderBy(F.col(\"Mes\").asc(), F.col(\"Dia\")).show(200)"
      ],
      "metadata": {
        "id": "0dtzoUqla1dW"
      },
      "execution_count": null,
      "outputs": []
    },
    {
      "cell_type": "markdown",
      "source": [
        "# GroupBy"
      ],
      "metadata": {
        "id": "_JkmwGqQzMHP"
      }
    },
    {
      "cell_type": "code",
      "source": [
        "#AGRUPAR OS RESULTADOS DE ACORDO COM UMA COLUNA ESPECÍFICA\n",
        "#FAZER A SOMA DE CASOS NOVOS POR ESTADO\n",
        "\n",
        "df5.groupBy(F.col(\"estado\")).sum(\"casosNovos\").show()"
      ],
      "metadata": {
        "colab": {
          "base_uri": "https://localhost:8080/"
        },
        "id": "oN2XR0PYa4Se",
        "outputId": "700a9cc1-be6e-419c-aec2-babca5c3a79a"
      },
      "execution_count": null,
      "outputs": [
        {
          "output_type": "stream",
          "name": "stdout",
          "text": [
            "+------+---------------+\n",
            "|estado|sum(casosNovos)|\n",
            "+------+---------------+\n",
            "|    SC|           1209|\n",
            "|    RO|            328|\n",
            "|    PI|            297|\n",
            "|    AM|           3635|\n",
            "|    RR|            345|\n",
            "|    GO|            506|\n",
            "|    TO|             50|\n",
            "|    MT|            247|\n",
            "|    SP|          20004|\n",
            "|    PB|            447|\n",
            "|    ES|           1595|\n",
            "|    RS|           1096|\n",
            "|    MS|            217|\n",
            "|    AL|            501|\n",
            "|    MG|           1481|\n",
            "|    PA|           1579|\n",
            "|    BA|           2081|\n",
            "|    SE|            153|\n",
            "|    PE|           4507|\n",
            "|    CE|           5421|\n",
            "+------+---------------+\n",
            "only showing top 20 rows\n",
            "\n"
          ]
        }
      ]
    },
    {
      "cell_type": "code",
      "source": [
        "df5.show(5)\n",
        "\n",
        "#QUANTIDADE DE ESTADOS POR REGIÃO NO DATAFRAME - COUNT()\n",
        "df5.groupBy(df5.regiao).count().show()"
      ],
      "metadata": {
        "colab": {
          "base_uri": "https://localhost:8080/"
        },
        "id": "I0CgL9N1a9Qu",
        "outputId": "127418be-4294-4d0d-bc0d-adf2fd0cf5f4"
      },
      "execution_count": null,
      "outputs": [
        {
          "output_type": "stream",
          "name": "stdout",
          "text": [
            "+------+------+----------+----------+---------------+-----------+----------------+--------------------+---+---+----+\n",
            "|regiao|estado|      data|casosNovos|casosAcumulados|obitosNovos|obitosAcumulados|              Status|Dia|Mes| Ano|\n",
            "+------+------+----------+----------+---------------+-----------+----------------+--------------------+---+---+----+\n",
            "| Norte|    RO|2020-01-30|         0|              0|          0|               0|Entre outra faixa...| 30|  1|2020|\n",
            "| Norte|    RO|2020-01-31|         0|              0|          0|               0|Entre outra faixa...| 31|  1|2020|\n",
            "| Norte|    RO|2020-02-01|         0|              0|          0|               0|Entre outra faixa...|  1|  2|2020|\n",
            "| Norte|    RO|2020-02-02|         0|              0|          0|               0|Entre outra faixa...|  2|  2|2020|\n",
            "| Norte|    RO|2020-02-03|         0|              0|          0|               0|Entre outra faixa...|  3|  2|2020|\n",
            "+------+------+----------+----------+---------------+-----------+----------------+--------------------+---+---+----+\n",
            "only showing top 5 rows\n",
            "\n",
            "+------------+-----+\n",
            "|      regiao|count|\n",
            "+------------+-----+\n",
            "|    Nordeste|  783|\n",
            "|         Sul|  261|\n",
            "|     Sudeste|  348|\n",
            "|Centro-Oeste|  348|\n",
            "|       Norte|  609|\n",
            "+------------+-----+\n",
            "\n"
          ]
        }
      ]
    },
    {
      "cell_type": "code",
      "source": [
        "df5.groupBy(df5.estado).count().show()"
      ],
      "metadata": {
        "colab": {
          "base_uri": "https://localhost:8080/"
        },
        "id": "eg40XiGJm0en",
        "outputId": "1e91dad9-e50b-44cb-88ae-3bbc600d9083"
      },
      "execution_count": null,
      "outputs": [
        {
          "output_type": "stream",
          "name": "stdout",
          "text": [
            "+------+-----+\n",
            "|estado|count|\n",
            "+------+-----+\n",
            "|    SC|   87|\n",
            "|    RO|   87|\n",
            "|    PI|   87|\n",
            "|    AM|   87|\n",
            "|    RR|   87|\n",
            "|    GO|   87|\n",
            "|    TO|   87|\n",
            "|    MT|   87|\n",
            "|    SP|   87|\n",
            "|    PB|   87|\n",
            "|    ES|   87|\n",
            "|    RS|   87|\n",
            "|    MS|   87|\n",
            "|    AL|   87|\n",
            "|    MG|   87|\n",
            "|    PA|   87|\n",
            "|    BA|   87|\n",
            "|    SE|   87|\n",
            "|    PE|   87|\n",
            "|    CE|   87|\n",
            "+------+-----+\n",
            "only showing top 20 rows\n",
            "\n"
          ]
        }
      ]
    },
    {
      "cell_type": "code",
      "source": [
        "df5.select(df5.regiao, df5.estado).distinct().groupBy(\"regiao\").count().show()"
      ],
      "metadata": {
        "colab": {
          "base_uri": "https://localhost:8080/"
        },
        "id": "8LgBN08nm3PL",
        "outputId": "456fa410-5fa1-48b1-f3a8-bd844af9492c"
      },
      "execution_count": null,
      "outputs": [
        {
          "output_type": "stream",
          "name": "stdout",
          "text": [
            "+------------+-----+\n",
            "|      regiao|count|\n",
            "+------------+-----+\n",
            "|    Nordeste|    9|\n",
            "|         Sul|    3|\n",
            "|     Sudeste|    4|\n",
            "|Centro-Oeste|    4|\n",
            "|       Norte|    7|\n",
            "+------------+-----+\n",
            "\n"
          ]
        }
      ]
    },
    {
      "cell_type": "code",
      "source": [
        "df5.groupBy(\"regiao\", \"estado\").count().groupBy(\"regiao\").count().show()"
      ],
      "metadata": {
        "colab": {
          "base_uri": "https://localhost:8080/"
        },
        "id": "bEl87BTUm63m",
        "outputId": "f13edd7f-1077-46a8-f0ea-1e94e643d58e"
      },
      "execution_count": null,
      "outputs": [
        {
          "output_type": "stream",
          "name": "stdout",
          "text": [
            "+------------+-----+\n",
            "|      regiao|count|\n",
            "+------------+-----+\n",
            "|    Nordeste|    9|\n",
            "|         Sul|    3|\n",
            "|     Sudeste|    4|\n",
            "|Centro-Oeste|    4|\n",
            "|       Norte|    7|\n",
            "+------------+-----+\n",
            "\n"
          ]
        }
      ]
    },
    {
      "cell_type": "markdown",
      "source": [
        "# Funçao aggregate"
      ],
      "metadata": {
        "id": "XzC6V0pqzG5I"
      }
    },
    {
      "cell_type": "code",
      "source": [
        "df5.show(1)"
      ],
      "metadata": {
        "colab": {
          "base_uri": "https://localhost:8080/"
        },
        "id": "FG1c3QbZzsOu",
        "outputId": "6f6c0ba1-9c0e-4aff-bcb4-9873abc863ec"
      },
      "execution_count": null,
      "outputs": [
        {
          "output_type": "stream",
          "name": "stdout",
          "text": [
            "+------+------+----------+----------+---------------+-----------+----------------+--------------------+---+---+----+\n",
            "|regiao|estado|      data|casosNovos|casosAcumulados|obitosNovos|obitosAcumulados|              Status|Dia|Mes| Ano|\n",
            "+------+------+----------+----------+---------------+-----------+----------------+--------------------+---+---+----+\n",
            "| Norte|    RO|2020-01-30|         0|              0|          0|               0|Entre outra faixa...| 30|  1|2020|\n",
            "+------+------+----------+----------+---------------+-----------+----------------+--------------------+---+---+----+\n",
            "only showing top 1 row\n",
            "\n"
          ]
        }
      ]
    },
    {
      "cell_type": "code",
      "source": [
        "df7 = (df5.groupBy(\"regiao\").\n",
        " agg(F.sum(\"casosAcumulados\"),\n",
        "    F.min(\"casosNovos\"),\n",
        "    F.max(\"casosNovos\"),\n",
        "     F.avg(\"casosNovos\"),\n",
        "     F.count_distinct(\"estado\")).show())"
      ],
      "metadata": {
        "colab": {
          "base_uri": "https://localhost:8080/"
        },
        "id": "iZdP8taTzYTr",
        "outputId": "bdcee767-0612-4ddd-c0db-b9a19d7cbde7"
      },
      "execution_count": null,
      "outputs": [
        {
          "output_type": "stream",
          "name": "stdout",
          "text": [
            "+------------+--------------------+---------------+---------------+------------------+-------------+\n",
            "|      regiao|sum(casosAcumulados)|min(casosNovos)|max(casosNovos)|   avg(casosNovos)|count(estado)|\n",
            "+------------+--------------------+---------------+---------------+------------------+-------------+\n",
            "|    Nordeste|              160011|              0|            688|20.808429118773947|            9|\n",
            "|         Sul|               58308|              0|            192|13.199233716475096|            3|\n",
            "|     Sudeste|              394635|              0|           2178| 85.94252873563218|            4|\n",
            "|Centro-Oeste|               32840|              0|             65| 5.698275862068965|            4|\n",
            "|       Norte|               65439|              0|            441| 11.29720853858785|            7|\n",
            "+------------+--------------------+---------------+---------------+------------------+-------------+\n",
            "\n"
          ]
        }
      ]
    },
    {
      "cell_type": "code",
      "source": [
        "schema = ['nome','nota']\n",
        "dados = [('João',8.0),('José',7.0),('Paula',10.0),('Patrícia', 9.5)]\n",
        "df_agg = spark.createDataFrame(data=dados, schema=schema)\n",
        "df_agg.show()"
      ],
      "metadata": {
        "colab": {
          "base_uri": "https://localhost:8080/"
        },
        "id": "6tBkhujvD85p",
        "outputId": "4e9c4070-9c95-44b1-fd0b-6abc875b16ca"
      },
      "execution_count": null,
      "outputs": [
        {
          "output_type": "stream",
          "name": "stdout",
          "text": [
            "+--------+----+\n",
            "|    nome|nota|\n",
            "+--------+----+\n",
            "|    João| 8.0|\n",
            "|    José| 7.0|\n",
            "|   Paula|10.0|\n",
            "|Patrícia| 9.5|\n",
            "+--------+----+\n",
            "\n"
          ]
        }
      ]
    },
    {
      "cell_type": "code",
      "source": [
        "(df_agg.agg(\n",
        "    F.sum('nota').alias('soma_notas'),\n",
        "    F.avg('nota').alias('media_notas')\n",
        "    )).show()"
      ],
      "metadata": {
        "colab": {
          "base_uri": "https://localhost:8080/"
        },
        "id": "K6qGINGcEtxK",
        "outputId": "c8ae2474-dbab-44b5-a7c4-7eda42941a6b"
      },
      "execution_count": null,
      "outputs": [
        {
          "output_type": "stream",
          "name": "stdout",
          "text": [
            "+----------+-----------+\n",
            "|soma_notas|media_notas|\n",
            "+----------+-----------+\n",
            "|      34.5|      8.625|\n",
            "+----------+-----------+\n",
            "\n"
          ]
        }
      ]
    },
    {
      "cell_type": "markdown",
      "source": [
        "# Struct type"
      ],
      "metadata": {
        "id": "zdVMJoNB3x13"
      }
    },
    {
      "cell_type": "markdown",
      "source": [
        "Principais Tipos de Dados Básicos no Pyspark:\n",
        "\n",
        "- ByteType (int)\n",
        "- ShortType (int)\n",
        "- IntegerType(int)\n",
        "- LongType(int)\n",
        "\n",
        "- FloatType(float)\n",
        "- DoubleType(float)\n",
        "\n",
        "- StringType(str)\n",
        "\n",
        "- BooleanType(bool)\n",
        "\n"
      ],
      "metadata": {
        "id": "AxeCa-fKbJGk"
      }
    },
    {
      "cell_type": "markdown",
      "source": [
        "Tipos Complexos de Dados no Pyspark:\n",
        "- BinaryType(bytearray)\n",
        "\n",
        "- TimestampType(datetime.datetime)\n",
        "- DateType(datetime.date)\n",
        "\n",
        "- ArrayType(lista, tupla ou array)\n",
        "- MapType(dicionario)\n",
        "\n",
        "- StructType (lista ou tupla)\n",
        "- StructField (Um valor correspondente ao tipo do campo)"
      ],
      "metadata": {
        "id": "vaEGnNvFceAs"
      }
    },
    {
      "cell_type": "code",
      "source": [
        "from pyspark.sql.types import StructType, StructField, IntegerType, FloatType, StringType"
      ],
      "metadata": {
        "id": "tibCREDI33rp"
      },
      "execution_count": null,
      "outputs": []
    },
    {
      "cell_type": "code",
      "source": [
        "spark = (SparkSession.builder\n",
        "         .master(\"local\")\n",
        "         .appName(\"struct-type\")\n",
        "         .config(\"spark.ui.port\", \"4050\")\n",
        "         .getOrCreate()\n",
        "         )"
      ],
      "metadata": {
        "id": "K_6FvpyU5v70"
      },
      "execution_count": null,
      "outputs": []
    },
    {
      "cell_type": "code",
      "source": [
        "esquema = (\n",
        "    StructType([\n",
        "        StructField(\"Regiao\",StringType(), True),\n",
        "        StructField(\"Estado\", StringType(), True),\n",
        "        StructField(\"Data\", StringType(), True),\n",
        "        StructField(\"casosNovos\", IntegerType(), True),\n",
        "        StructField(\"casosAcumulados\", IntegerType(), True),\n",
        "        StructField(\"obitosNovos\", IntegerType(), True),\n",
        "        StructField(\"obitosAcumulados\", IntegerType(), True)\n",
        "    ])\n",
        ")"
      ],
      "metadata": {
        "id": "OtR_f6_X7lIX"
      },
      "execution_count": null,
      "outputs": []
    },
    {
      "cell_type": "code",
      "source": [
        "df_struct = (\n",
        "    spark\n",
        "       .read\n",
        "       .format(\"csv\")\n",
        "       .option(\"header\", \"true\")\n",
        "       .option(\"delimiter\", \";\")\n",
        "       .load(\"/content/drive/MyDrive/Datasets/arquivo_geral.csv\",schema=esquema)\n",
        ")"
      ],
      "metadata": {
        "id": "vSIbRR0g6jRl"
      },
      "execution_count": null,
      "outputs": []
    },
    {
      "cell_type": "code",
      "source": [
        "df_struct.printSchema()"
      ],
      "metadata": {
        "colab": {
          "base_uri": "https://localhost:8080/"
        },
        "id": "ZRp--75o-KVY",
        "outputId": "c55c002f-b5da-45af-8967-c2b9ac7e1b39"
      },
      "execution_count": null,
      "outputs": [
        {
          "output_type": "stream",
          "name": "stdout",
          "text": [
            "root\n",
            " |-- Regiao: string (nullable = true)\n",
            " |-- Estado: string (nullable = true)\n",
            " |-- Data: string (nullable = true)\n",
            " |-- casosNovos: integer (nullable = true)\n",
            " |-- casosAcumulados: integer (nullable = true)\n",
            " |-- obitosNovos: integer (nullable = true)\n",
            " |-- obitosAcumulados: integer (nullable = true)\n",
            "\n"
          ]
        }
      ]
    },
    {
      "cell_type": "code",
      "source": [
        "df_struct.show()"
      ],
      "metadata": {
        "colab": {
          "base_uri": "https://localhost:8080/"
        },
        "id": "gAUYNKhyBlUO",
        "outputId": "60ddf1b4-19de-4d55-f688-b6e7b6b902c7"
      },
      "execution_count": null,
      "outputs": [
        {
          "output_type": "stream",
          "name": "stdout",
          "text": [
            "+------+------+----------+----------+---------------+-----------+----------------+\n",
            "|Regiao|Estado|      Data|casosNovos|casosAcumulados|obitosNovos|obitosAcumulados|\n",
            "+------+------+----------+----------+---------------+-----------+----------------+\n",
            "| Norte|    RO|2020-01-30|         0|              0|          0|               0|\n",
            "| Norte|    RO|2020-01-31|         0|              0|          0|               0|\n",
            "| Norte|    RO|2020-02-01|         0|              0|          0|               0|\n",
            "| Norte|    RO|2020-02-02|         0|              0|          0|               0|\n",
            "| Norte|    RO|2020-02-03|         0|              0|          0|               0|\n",
            "| Norte|    RO|2020-02-04|         0|              0|          0|               0|\n",
            "| Norte|    RO|2020-02-05|         0|              0|          0|               0|\n",
            "| Norte|    RO|2020-02-06|         0|              0|          0|               0|\n",
            "| Norte|    RO|2020-02-07|         0|              0|          0|               0|\n",
            "| Norte|    RO|2020-02-08|         0|              0|          0|               0|\n",
            "| Norte|    RO|2020-02-09|         0|              0|          0|               0|\n",
            "| Norte|    RO|2020-02-10|         0|              0|          0|               0|\n",
            "| Norte|    RO|2020-02-11|         0|              0|          0|               0|\n",
            "| Norte|    RO|2020-02-12|         0|              0|          0|               0|\n",
            "| Norte|    RO|2020-02-13|         0|              0|          0|               0|\n",
            "| Norte|    RO|2020-02-14|         0|              0|          0|               0|\n",
            "| Norte|    RO|2020-02-15|         0|              0|          0|               0|\n",
            "| Norte|    RO|2020-02-16|         0|              0|          0|               0|\n",
            "| Norte|    RO|2020-02-17|         0|              0|          0|               0|\n",
            "| Norte|    RO|2020-02-18|         0|              0|          0|               0|\n",
            "+------+------+----------+----------+---------------+-----------+----------------+\n",
            "only showing top 20 rows\n",
            "\n"
          ]
        }
      ]
    },
    {
      "cell_type": "markdown",
      "source": [
        "# Manipulando arquivos (importar e exportar)"
      ],
      "metadata": {
        "id": "NeOdJo-UuA78"
      }
    },
    {
      "cell_type": "markdown",
      "source": [
        "Lendo arquivos"
      ],
      "metadata": {
        "id": "cz_zocp5uvy3"
      }
    },
    {
      "cell_type": "code",
      "source": [
        "#1ª FORMA\n",
        "df = ( spark.read\n",
        "            .format('csv')\n",
        "            .option('header', 'false')\n",
        "            .option('delimiter', ';')\n",
        "            .load('/content/drive/MyDrive/Datasets/arquivo_geral.csv', schema = schema)\n",
        ")"
      ],
      "metadata": {
        "id": "yjAFd_qIhHK1"
      },
      "execution_count": null,
      "outputs": []
    },
    {
      "cell_type": "code",
      "source": [
        "# 2ª FORMA\n",
        "df = ( spark.read\n",
        "            .format('csv')\n",
        "            .option('header', 'false')\n",
        "            .option('delimiter', ';')\n",
        "            .schema(schema)\n",
        "            .load('/content/drive/MyDrive/Datasets/arquivo_geral.csv')\n",
        ")"
      ],
      "metadata": {
        "id": "fWEUYF_jjLYC"
      },
      "execution_count": null,
      "outputs": []
    },
    {
      "cell_type": "code",
      "source": [
        "# 3ª FORMA\n",
        "df = (\n",
        "    spark.read\n",
        "         .csv('/content/drive/MyDrive/Datasets/arquivo_geral.csv', sep=';', schema=schema )\n",
        ")"
      ],
      "metadata": {
        "id": "nCqYjoakjk1D"
      },
      "execution_count": null,
      "outputs": []
    },
    {
      "cell_type": "code",
      "source": [
        "# 4ª FORMA\n",
        "\n",
        "df = (\n",
        "    spark.read\n",
        "         .format('csv')\n",
        "         .options(header = True, sep = ';')\n",
        "         .schema(schema)\n",
        "         .load('/content/drive/MyDrive/Datasets/arquivo_geral.csv')\n",
        ")"
      ],
      "metadata": {
        "id": "h-ik31lqj_7K"
      },
      "execution_count": null,
      "outputs": []
    },
    {
      "cell_type": "code",
      "source": [
        "#LEITURA DE ARQUIVOS DO TIPO JSON\n",
        "df_json = spark.read.format('json').load('caminho/arquivo.json')"
      ],
      "metadata": {
        "id": "EG0aHxnFoNgj"
      },
      "execution_count": null,
      "outputs": []
    },
    {
      "cell_type": "code",
      "source": [
        "#LEITURA DE ARQUIVOS DO TIPO ORC\n",
        "df_orc = spark.read.format('orc').load('caminho/arquivo.orc')"
      ],
      "metadata": {
        "id": "UH6Wr6CZo_KF"
      },
      "execution_count": null,
      "outputs": []
    },
    {
      "cell_type": "markdown",
      "source": [
        "LENDO E ESCREVENDO PARQUET\n",
        "- Armazenamento colunar, em contraste com o CSV, que armazena baseado nas linhas. Assim, quando uma Query é realizada é possível ignorar os dados não relevantes de maneira rápida e fácil resultando em operações mais eficientes. \n",
        "- Preservação de metadados, incluindo os tipos das colunas, o que garante eficiência e praticidade na escrita e leitura (Não é necessário especificar schemas para arquivos parquet)\n",
        "- Suporte a dados estruturados de forma aninhada, como listas\n",
        "- Otimizado para processar dados particionados com volume na casa dos gigabytes para cada arquivo\n",
        "- Compressão de dados na escrita, de forma a ocupar menos espaço\n",
        "- Integração com ferramentas como AWS Athena, Amazon Redshift Spectrum, Google BigQuery e Google Dataproc.\n"
      ],
      "metadata": {
        "id": "QvfqNJNjpoXD"
      }
    },
    {
      "cell_type": "code",
      "source": [
        "#LEITURA DE ARQUIVOS DO TIPO PARQUET\n",
        "df_parquet = spark.read.format('parquet').load('caminho/arquivo')"
      ],
      "metadata": {
        "id": "ylcpjGWTpGgI"
      },
      "execution_count": null,
      "outputs": []
    },
    {
      "cell_type": "markdown",
      "source": [
        "EXPORTAR OS ARQUIVOS NOS FORMATOS CSV, JSON, ORC, PARQUET (salvar)"
      ],
      "metadata": {
        "id": "Ht76ASQmplG3"
      }
    },
    {
      "cell_type": "code",
      "source": [
        "#CSV\n",
        "df.write.format('csv').save('caminho/arquivo.csv')\n",
        "#JSON\n",
        "df.write.format('json').save('caminho/arquivo.json')\n",
        "#ORC\n",
        "df.write.format('orc').save('caminho/arquivo.orc')\n",
        "#PARQUET\n",
        "df.write.format('parquet').save('caminho/arquivo')"
      ],
      "metadata": {
        "id": "wmYimiFTu3sp"
      },
      "execution_count": null,
      "outputs": []
    },
    {
      "cell_type": "code",
      "source": [
        "# MODE:\n",
        "# - append - Empilhar os arquivos aos já existentes\n",
        "# - ignore - Retornar um erro\n",
        "# - overwrite - Sobrescrever os dados já existentes\n",
        "# error: (default) - Retornar o erro, dizendo que já existem dados\n",
        "#Exemplo\n",
        "df.write.format('parquet').mode('error').save('caminho/arquivo')"
      ],
      "metadata": {
        "id": "3ZGlPyR1u6V7"
      },
      "execution_count": null,
      "outputs": []
    },
    {
      "cell_type": "markdown",
      "source": [
        "# Tipos de dados"
      ],
      "metadata": {
        "id": "BEkfUI-LSYpQ"
      }
    },
    {
      "cell_type": "markdown",
      "source": [
        "Principais Valores que podem vir nas Colunas\n",
        "\n",
        "Numéricos \n",
        "\n",
        "Strings\n",
        "\n",
        "Datas\n",
        "\n",
        "Nulos\n",
        "\n",
        "Array\n"
      ],
      "metadata": {
        "id": "_s5PH684SbSa"
      }
    },
    {
      "cell_type": "markdown",
      "source": [
        "## Principais operações matemáticas com dados (métodos)"
      ],
      "metadata": {
        "id": "y82Bav62SfYK"
      }
    },
    {
      "cell_type": "markdown",
      "source": [
        "round(): Arredonda o valor numérico \n",
        "\n",
        "ceil(): Arredonda o valor numérico para o maior inteiro mais próximo \n",
        "\n",
        "floor(): Arredonda o valor numérico para o menor inteiro mais próximo \n",
        "\n",
        "sqrt(): retorna a raiz quadrada do valor exp(): Retorna a exponencial do valor \n",
        "\n",
        "log(): Retorna a logaritmo natural do valor \n",
        "\n",
        "log10(): Retorna a logaritmo na base 10 do valor \n",
        "\n",
        "greatest(): Retorna o maior valor dentre os valores da coluna. Análogo ao max() \n",
        "\n",
        "least(): Retorna o menor valor dentre os valores da coluna. Análogo ao min()"
      ],
      "metadata": {
        "id": "Ibd81JBTSiU2"
      }
    },
    {
      "cell_type": "code",
      "source": [
        "#df.limit(5).toPandas()\n",
        "#df.withColumn('maximo_casos_novos', F.least(F.col('casosNovos'), F.col('casosAcumulados'))).show(500)\n",
        "df.withColumn('raiz_quadrada', F.sqrt(F.col('casosNovos'))).show(500)"
      ],
      "metadata": {
        "id": "kQ8E7mMlhguW"
      },
      "execution_count": null,
      "outputs": []
    },
    {
      "cell_type": "markdown",
      "source": [
        "## Operações com strings"
      ],
      "metadata": {
        "id": "GbkZArzhhmDx"
      }
    },
    {
      "cell_type": "markdown",
      "source": [
        "upper(): Retorna o string em letras maiúsculas \n",
        "\n",
        "lower(): Retorna o string em letras minúsculas \n",
        "\n",
        "initcap(): Retorna a primeira letra de cada String em maiúsculas \n",
        "\n",
        "trim(): Retira o espaço em branco do início e fim da string \n",
        "\n",
        "ltrim() / rtrim() - retira os espaços em branco do início / fim respectivamente \n",
        "\n",
        "lpad() / rpad() - Acrescenta um caractere no início e fim, respectivamente, até que o string tenha um determinado comprimento \n",
        "\n",
        "length(): Retorna o comprimento do string em quantidade de caracteres \n",
        "\n",
        "split(): quebra o string a partir de um padrão e retorna o array com os strings resultantes \n",
        "\n",
        "concat(): concatena uma ou mais colunas de string \n",
        "\n",
        "concat_ws(): concatena uma ou mais colunas de string com um separador entre elas \n",
        "\n",
        "regexp_extract(): retorna um match no string a partir de um padrão regex \n",
        "\n",
        "regexp_replace(): substitui um match no string a partir de um padrão regex com outros caracteres \n",
        "\n",
        "substring(): retorna os caracteres do string que estão entre dois índices especificados. Análogo a F.col().substring()"
      ],
      "metadata": {
        "id": "OvPBOJP8htlF"
      }
    },
    {
      "cell_type": "code",
      "source": [
        "# df.withColumn('regiao', F.upper(F.col('regiao'))).show(5)\n",
        "# df.withColumn('regiao', F.lower(F.col('regiao'))).show(5)\n",
        "# df.withColumn('estado', F.initcap(F.col('estado'))).show(5)\n",
        "# df.withColumn('regiao_estado', F.concat(F.col('regiao'), F.lit(','), F.col('estado'))).show(20)\n",
        "# df.withColumn('regiao_estado', F.concat_ws('_', F.col('estado'), F.col('regiao'), F.col('data'))).show(20)\n",
        "( df.withColumn('dia', F.substring(F.col('data'), 9, 2))\n",
        "    .withColumn('mes', F.substring(F.col('data'), 6, 2))\n",
        "    .withColumn('ano', F.substring(F.col('data'), 1, 4)).show(20)\n",
        ")"
      ],
      "metadata": {
        "id": "rXzE3akzhq96"
      },
      "execution_count": null,
      "outputs": []
    },
    {
      "cell_type": "markdown",
      "source": [
        "## Operações com Datas"
      ],
      "metadata": {
        "id": "vHb3JTwokegw"
      }
    },
    {
      "cell_type": "markdown",
      "source": [
        "add_months(): retorna a data depois de adicionar x meses \n",
        "\n",
        "months_between(): retorna a diferença entre duas datas em meses. \n",
        "\n",
        "date_add(): retorna a data depois de adicionar \"x\" dias. \n",
        "\n",
        "date_sub(): retorna a data depois de subtrair \"x\" dias. \n",
        "\n",
        "next_day(): retorna o dia seguinte de alguma data. \n",
        "\n",
        "datediff(): retorna a diferença entre duas datas em dias. \n",
        "\n",
        "current_date(): retorna a data atual. \n",
        "\n",
        "dayofweek() / dayofmonth() / dayofyear(): retorna o dia relativo à semana, ao mês e ao ano, respectivamente. \n",
        "\n",
        "weekofyear(): retorna a semana relativa ao ano. \n",
        "\n",
        "second() / minute() / hour(): retorna os segundos, os minutos e as horas de uma coluna de datetime, respectivamente. \n",
        "\n",
        "month() year(): retorna o mês e o ano de uma coluna de data, respectivamente. \n",
        "\n",
        "last_day(): retorna o último dia do mês do qual a data considerada pertence. \n",
        "\n",
        "to_date(): transforma a coluna no tipo data (DateType()). \n",
        "\n",
        "trunc(): formata a data para a unidade especificada."
      ],
      "metadata": {
        "id": "IquksW5TkDuC"
      }
    },
    {
      "cell_type": "code",
      "source": [
        "# TIMESTAMP:  yyyy-MM-dd HH:mm:ss.SSSS  \n",
        "# DATE:    yyyy-MM-dd\n",
        "\n",
        "#CONVERTENDO UM CAMPO STRING PARA DATE\n",
        "df3 = df2.withColumn('data', F.to_date(F.col('data'), 'yyyy-mm-dd'))\n",
        "df2.printSchema()\n",
        "df3.printSchema()\n",
        "df3.show(10)"
      ],
      "metadata": {
        "colab": {
          "base_uri": "https://localhost:8080/"
        },
        "id": "8Hy26wVqkZ24",
        "outputId": "ffbebcbe-1e31-4cd5-96db-8a0a9324561e"
      },
      "execution_count": null,
      "outputs": [
        {
          "output_type": "stream",
          "name": "stdout",
          "text": [
            "root\n",
            " |-- regiao: string (nullable = true)\n",
            " |-- estado: string (nullable = true)\n",
            " |-- data: string (nullable = true)\n",
            " |-- casosNovos: integer (nullable = true)\n",
            " |-- casosAcumulados: integer (nullable = true)\n",
            " |-- obitosNovos: integer (nullable = true)\n",
            " |-- obitosAcumulados: integer (nullable = true)\n",
            "\n",
            "root\n",
            " |-- regiao: string (nullable = true)\n",
            " |-- estado: string (nullable = true)\n",
            " |-- data: date (nullable = true)\n",
            " |-- casosNovos: integer (nullable = true)\n",
            " |-- casosAcumulados: integer (nullable = true)\n",
            " |-- obitosNovos: integer (nullable = true)\n",
            " |-- obitosAcumulados: integer (nullable = true)\n",
            "\n",
            "+------+------+----------+----------+---------------+-----------+----------------+\n",
            "|regiao|estado|      data|casosNovos|casosAcumulados|obitosNovos|obitosAcumulados|\n",
            "+------+------+----------+----------+---------------+-----------+----------------+\n",
            "| Norte|    RO|2020-01-30|         0|              0|          0|               0|\n",
            "| Norte|    RO|2020-01-31|         0|              0|          0|               0|\n",
            "| Norte|    RO|2020-01-01|         0|              0|          0|               0|\n",
            "| Norte|    RO|2020-01-02|         0|              0|          0|               0|\n",
            "| Norte|    RO|2020-01-03|         0|              0|          0|               0|\n",
            "| Norte|    RO|2020-01-04|         0|              0|          0|               0|\n",
            "| Norte|    RO|2020-01-05|         0|              0|          0|               0|\n",
            "| Norte|    RO|2020-01-06|         0|              0|          0|               0|\n",
            "| Norte|    RO|2020-01-07|         0|              0|          0|               0|\n",
            "| Norte|    RO|2020-01-08|         0|              0|          0|               0|\n",
            "+------+------+----------+----------+---------------+-----------+----------------+\n",
            "only showing top 10 rows\n",
            "\n"
          ]
        }
      ]
    },
    {
      "cell_type": "code",
      "source": [
        "#CONVERTENDO UM CAMPO TIMESTAMP PARA DATE\n",
        "\n",
        "df_data = spark.createDataFrame(data=[(1, \"2022-02-15 14:59:58.000\")], schema=['id', 'data_completa'])\n",
        "\n",
        "df_data.show(truncate=False)\n",
        "df_data.printSchema()\n",
        "\n",
        "df_data.withColumn('data_convertida', F.to_date(F.col('data_completa'))).show(truncate=False)"
      ],
      "metadata": {
        "colab": {
          "base_uri": "https://localhost:8080/"
        },
        "id": "kfvyPteQrjPT",
        "outputId": "88a77bcd-b7eb-4bb3-89ad-a2ccc021a540"
      },
      "execution_count": null,
      "outputs": [
        {
          "output_type": "stream",
          "name": "stdout",
          "text": [
            "+---+-----------------------+\n",
            "|id |data_completa          |\n",
            "+---+-----------------------+\n",
            "|1  |2022-02-15 14:59:58.000|\n",
            "+---+-----------------------+\n",
            "\n",
            "root\n",
            " |-- id: long (nullable = true)\n",
            " |-- data_completa: string (nullable = true)\n",
            "\n",
            "+---+-----------------------+---------------+\n",
            "|id |data_completa          |data_convertida|\n",
            "+---+-----------------------+---------------+\n",
            "|1  |2022-02-15 14:59:58.000|2022-02-15     |\n",
            "+---+-----------------------+---------------+\n",
            "\n"
          ]
        }
      ]
    },
    {
      "cell_type": "code",
      "source": [
        "#Retornando o ANO com a função YEAR\n",
        "#df2.printSchema()\n",
        "( df2.withColumn('ano', F.year(F.col('data')))\n",
        "     .withColumn('mes', F.month(F.col('data')))\n",
        "     .withColumn('dia', F.dayofmonth(F.col('data')))\n",
        "     .withColumn('semana', F.dayofweek(F.col('data')))\n",
        "     .withColumn('semana', F.dayofyear(F.col('data')))\n",
        "     .withColumn('data2', F.lit('2022-03-14'))\n",
        "     .withColumn('dif_data', F.datediff(F.col('data2'), F.col('data')))\n",
        "     .withColumn('dif_data_mes', F.months_between(F.col('data2'),F.col('data')))\n",
        "     .withColumn('data_add', F.date_add(F.col('data2'), 60))\n",
        "     .limit(10).toPandas()\n",
        ")\n",
        "# F.datediff('2022-03-14', '01-01-2022') #Retorna a diferença em dias de 2 datas\n",
        "# F.months_between('2022-03-14', '01-01-2022') # Retorna a diferença em meses de 2 datas\n",
        "\n"
      ],
      "metadata": {
        "colab": {
          "base_uri": "https://localhost:8080/",
          "height": 600
        },
        "id": "u9BJYpgz33Dw",
        "outputId": "917d4ba5-d3f0-47f8-e071-a78e6b84a3a2"
      },
      "execution_count": null,
      "outputs": [
        {
          "output_type": "execute_result",
          "data": {
            "text/plain": [
              "  regiao estado        data  casosNovos  casosAcumulados  obitosNovos  \\\n",
              "0  Norte     RO  2020-01-30           0                0            0   \n",
              "1  Norte     RO  2020-01-31           0                0            0   \n",
              "2  Norte     RO  2020-02-01           0                0            0   \n",
              "3  Norte     RO  2020-02-02           0                0            0   \n",
              "4  Norte     RO  2020-02-03           0                0            0   \n",
              "5  Norte     RO  2020-02-04           0                0            0   \n",
              "6  Norte     RO  2020-02-05           0                0            0   \n",
              "7  Norte     RO  2020-02-06           0                0            0   \n",
              "8  Norte     RO  2020-02-07           0                0            0   \n",
              "9  Norte     RO  2020-02-08           0                0            0   \n",
              "\n",
              "   obitosAcumulados   ano  mes  dia  semana       data2  dif_data  \\\n",
              "0                 0  2020    1   30      30  2022-03-14       774   \n",
              "1                 0  2020    1   31      31  2022-03-14       773   \n",
              "2                 0  2020    2    1      32  2022-03-14       772   \n",
              "3                 0  2020    2    2      33  2022-03-14       771   \n",
              "4                 0  2020    2    3      34  2022-03-14       770   \n",
              "5                 0  2020    2    4      35  2022-03-14       769   \n",
              "6                 0  2020    2    5      36  2022-03-14       768   \n",
              "7                 0  2020    2    6      37  2022-03-14       767   \n",
              "8                 0  2020    2    7      38  2022-03-14       766   \n",
              "9                 0  2020    2    8      39  2022-03-14       765   \n",
              "\n",
              "   dif_data_mes    data_add  \n",
              "0     25.483871  2022-05-13  \n",
              "1     25.451613  2022-05-13  \n",
              "2     25.419355  2022-05-13  \n",
              "3     25.387097  2022-05-13  \n",
              "4     25.354839  2022-05-13  \n",
              "5     25.322581  2022-05-13  \n",
              "6     25.290323  2022-05-13  \n",
              "7     25.258065  2022-05-13  \n",
              "8     25.225806  2022-05-13  \n",
              "9     25.193548  2022-05-13  "
            ],
            "text/html": [
              "\n",
              "  <div id=\"df-f5029c48-4427-40b6-b741-441f4368470e\">\n",
              "    <div class=\"colab-df-container\">\n",
              "      <div>\n",
              "<style scoped>\n",
              "    .dataframe tbody tr th:only-of-type {\n",
              "        vertical-align: middle;\n",
              "    }\n",
              "\n",
              "    .dataframe tbody tr th {\n",
              "        vertical-align: top;\n",
              "    }\n",
              "\n",
              "    .dataframe thead th {\n",
              "        text-align: right;\n",
              "    }\n",
              "</style>\n",
              "<table border=\"1\" class=\"dataframe\">\n",
              "  <thead>\n",
              "    <tr style=\"text-align: right;\">\n",
              "      <th></th>\n",
              "      <th>regiao</th>\n",
              "      <th>estado</th>\n",
              "      <th>data</th>\n",
              "      <th>casosNovos</th>\n",
              "      <th>casosAcumulados</th>\n",
              "      <th>obitosNovos</th>\n",
              "      <th>obitosAcumulados</th>\n",
              "      <th>ano</th>\n",
              "      <th>mes</th>\n",
              "      <th>dia</th>\n",
              "      <th>semana</th>\n",
              "      <th>data2</th>\n",
              "      <th>dif_data</th>\n",
              "      <th>dif_data_mes</th>\n",
              "      <th>data_add</th>\n",
              "    </tr>\n",
              "  </thead>\n",
              "  <tbody>\n",
              "    <tr>\n",
              "      <th>0</th>\n",
              "      <td>Norte</td>\n",
              "      <td>RO</td>\n",
              "      <td>2020-01-30</td>\n",
              "      <td>0</td>\n",
              "      <td>0</td>\n",
              "      <td>0</td>\n",
              "      <td>0</td>\n",
              "      <td>2020</td>\n",
              "      <td>1</td>\n",
              "      <td>30</td>\n",
              "      <td>30</td>\n",
              "      <td>2022-03-14</td>\n",
              "      <td>774</td>\n",
              "      <td>25.483871</td>\n",
              "      <td>2022-05-13</td>\n",
              "    </tr>\n",
              "    <tr>\n",
              "      <th>1</th>\n",
              "      <td>Norte</td>\n",
              "      <td>RO</td>\n",
              "      <td>2020-01-31</td>\n",
              "      <td>0</td>\n",
              "      <td>0</td>\n",
              "      <td>0</td>\n",
              "      <td>0</td>\n",
              "      <td>2020</td>\n",
              "      <td>1</td>\n",
              "      <td>31</td>\n",
              "      <td>31</td>\n",
              "      <td>2022-03-14</td>\n",
              "      <td>773</td>\n",
              "      <td>25.451613</td>\n",
              "      <td>2022-05-13</td>\n",
              "    </tr>\n",
              "    <tr>\n",
              "      <th>2</th>\n",
              "      <td>Norte</td>\n",
              "      <td>RO</td>\n",
              "      <td>2020-02-01</td>\n",
              "      <td>0</td>\n",
              "      <td>0</td>\n",
              "      <td>0</td>\n",
              "      <td>0</td>\n",
              "      <td>2020</td>\n",
              "      <td>2</td>\n",
              "      <td>1</td>\n",
              "      <td>32</td>\n",
              "      <td>2022-03-14</td>\n",
              "      <td>772</td>\n",
              "      <td>25.419355</td>\n",
              "      <td>2022-05-13</td>\n",
              "    </tr>\n",
              "    <tr>\n",
              "      <th>3</th>\n",
              "      <td>Norte</td>\n",
              "      <td>RO</td>\n",
              "      <td>2020-02-02</td>\n",
              "      <td>0</td>\n",
              "      <td>0</td>\n",
              "      <td>0</td>\n",
              "      <td>0</td>\n",
              "      <td>2020</td>\n",
              "      <td>2</td>\n",
              "      <td>2</td>\n",
              "      <td>33</td>\n",
              "      <td>2022-03-14</td>\n",
              "      <td>771</td>\n",
              "      <td>25.387097</td>\n",
              "      <td>2022-05-13</td>\n",
              "    </tr>\n",
              "    <tr>\n",
              "      <th>4</th>\n",
              "      <td>Norte</td>\n",
              "      <td>RO</td>\n",
              "      <td>2020-02-03</td>\n",
              "      <td>0</td>\n",
              "      <td>0</td>\n",
              "      <td>0</td>\n",
              "      <td>0</td>\n",
              "      <td>2020</td>\n",
              "      <td>2</td>\n",
              "      <td>3</td>\n",
              "      <td>34</td>\n",
              "      <td>2022-03-14</td>\n",
              "      <td>770</td>\n",
              "      <td>25.354839</td>\n",
              "      <td>2022-05-13</td>\n",
              "    </tr>\n",
              "    <tr>\n",
              "      <th>5</th>\n",
              "      <td>Norte</td>\n",
              "      <td>RO</td>\n",
              "      <td>2020-02-04</td>\n",
              "      <td>0</td>\n",
              "      <td>0</td>\n",
              "      <td>0</td>\n",
              "      <td>0</td>\n",
              "      <td>2020</td>\n",
              "      <td>2</td>\n",
              "      <td>4</td>\n",
              "      <td>35</td>\n",
              "      <td>2022-03-14</td>\n",
              "      <td>769</td>\n",
              "      <td>25.322581</td>\n",
              "      <td>2022-05-13</td>\n",
              "    </tr>\n",
              "    <tr>\n",
              "      <th>6</th>\n",
              "      <td>Norte</td>\n",
              "      <td>RO</td>\n",
              "      <td>2020-02-05</td>\n",
              "      <td>0</td>\n",
              "      <td>0</td>\n",
              "      <td>0</td>\n",
              "      <td>0</td>\n",
              "      <td>2020</td>\n",
              "      <td>2</td>\n",
              "      <td>5</td>\n",
              "      <td>36</td>\n",
              "      <td>2022-03-14</td>\n",
              "      <td>768</td>\n",
              "      <td>25.290323</td>\n",
              "      <td>2022-05-13</td>\n",
              "    </tr>\n",
              "    <tr>\n",
              "      <th>7</th>\n",
              "      <td>Norte</td>\n",
              "      <td>RO</td>\n",
              "      <td>2020-02-06</td>\n",
              "      <td>0</td>\n",
              "      <td>0</td>\n",
              "      <td>0</td>\n",
              "      <td>0</td>\n",
              "      <td>2020</td>\n",
              "      <td>2</td>\n",
              "      <td>6</td>\n",
              "      <td>37</td>\n",
              "      <td>2022-03-14</td>\n",
              "      <td>767</td>\n",
              "      <td>25.258065</td>\n",
              "      <td>2022-05-13</td>\n",
              "    </tr>\n",
              "    <tr>\n",
              "      <th>8</th>\n",
              "      <td>Norte</td>\n",
              "      <td>RO</td>\n",
              "      <td>2020-02-07</td>\n",
              "      <td>0</td>\n",
              "      <td>0</td>\n",
              "      <td>0</td>\n",
              "      <td>0</td>\n",
              "      <td>2020</td>\n",
              "      <td>2</td>\n",
              "      <td>7</td>\n",
              "      <td>38</td>\n",
              "      <td>2022-03-14</td>\n",
              "      <td>766</td>\n",
              "      <td>25.225806</td>\n",
              "      <td>2022-05-13</td>\n",
              "    </tr>\n",
              "    <tr>\n",
              "      <th>9</th>\n",
              "      <td>Norte</td>\n",
              "      <td>RO</td>\n",
              "      <td>2020-02-08</td>\n",
              "      <td>0</td>\n",
              "      <td>0</td>\n",
              "      <td>0</td>\n",
              "      <td>0</td>\n",
              "      <td>2020</td>\n",
              "      <td>2</td>\n",
              "      <td>8</td>\n",
              "      <td>39</td>\n",
              "      <td>2022-03-14</td>\n",
              "      <td>765</td>\n",
              "      <td>25.193548</td>\n",
              "      <td>2022-05-13</td>\n",
              "    </tr>\n",
              "  </tbody>\n",
              "</table>\n",
              "</div>\n",
              "      <button class=\"colab-df-convert\" onclick=\"convertToInteractive('df-f5029c48-4427-40b6-b741-441f4368470e')\"\n",
              "              title=\"Convert this dataframe to an interactive table.\"\n",
              "              style=\"display:none;\">\n",
              "        \n",
              "  <svg xmlns=\"http://www.w3.org/2000/svg\" height=\"24px\"viewBox=\"0 0 24 24\"\n",
              "       width=\"24px\">\n",
              "    <path d=\"M0 0h24v24H0V0z\" fill=\"none\"/>\n",
              "    <path d=\"M18.56 5.44l.94 2.06.94-2.06 2.06-.94-2.06-.94-.94-2.06-.94 2.06-2.06.94zm-11 1L8.5 8.5l.94-2.06 2.06-.94-2.06-.94L8.5 2.5l-.94 2.06-2.06.94zm10 10l.94 2.06.94-2.06 2.06-.94-2.06-.94-.94-2.06-.94 2.06-2.06.94z\"/><path d=\"M17.41 7.96l-1.37-1.37c-.4-.4-.92-.59-1.43-.59-.52 0-1.04.2-1.43.59L10.3 9.45l-7.72 7.72c-.78.78-.78 2.05 0 2.83L4 21.41c.39.39.9.59 1.41.59.51 0 1.02-.2 1.41-.59l7.78-7.78 2.81-2.81c.8-.78.8-2.07 0-2.86zM5.41 20L4 18.59l7.72-7.72 1.47 1.35L5.41 20z\"/>\n",
              "  </svg>\n",
              "      </button>\n",
              "      \n",
              "  <style>\n",
              "    .colab-df-container {\n",
              "      display:flex;\n",
              "      flex-wrap:wrap;\n",
              "      gap: 12px;\n",
              "    }\n",
              "\n",
              "    .colab-df-convert {\n",
              "      background-color: #E8F0FE;\n",
              "      border: none;\n",
              "      border-radius: 50%;\n",
              "      cursor: pointer;\n",
              "      display: none;\n",
              "      fill: #1967D2;\n",
              "      height: 32px;\n",
              "      padding: 0 0 0 0;\n",
              "      width: 32px;\n",
              "    }\n",
              "\n",
              "    .colab-df-convert:hover {\n",
              "      background-color: #E2EBFA;\n",
              "      box-shadow: 0px 1px 2px rgba(60, 64, 67, 0.3), 0px 1px 3px 1px rgba(60, 64, 67, 0.15);\n",
              "      fill: #174EA6;\n",
              "    }\n",
              "\n",
              "    [theme=dark] .colab-df-convert {\n",
              "      background-color: #3B4455;\n",
              "      fill: #D2E3FC;\n",
              "    }\n",
              "\n",
              "    [theme=dark] .colab-df-convert:hover {\n",
              "      background-color: #434B5C;\n",
              "      box-shadow: 0px 1px 3px 1px rgba(0, 0, 0, 0.15);\n",
              "      filter: drop-shadow(0px 1px 2px rgba(0, 0, 0, 0.3));\n",
              "      fill: #FFFFFF;\n",
              "    }\n",
              "  </style>\n",
              "\n",
              "      <script>\n",
              "        const buttonEl =\n",
              "          document.querySelector('#df-f5029c48-4427-40b6-b741-441f4368470e button.colab-df-convert');\n",
              "        buttonEl.style.display =\n",
              "          google.colab.kernel.accessAllowed ? 'block' : 'none';\n",
              "\n",
              "        async function convertToInteractive(key) {\n",
              "          const element = document.querySelector('#df-f5029c48-4427-40b6-b741-441f4368470e');\n",
              "          const dataTable =\n",
              "            await google.colab.kernel.invokeFunction('convertToInteractive',\n",
              "                                                     [key], {});\n",
              "          if (!dataTable) return;\n",
              "\n",
              "          const docLinkHtml = 'Like what you see? Visit the ' +\n",
              "            '<a target=\"_blank\" href=https://colab.research.google.com/notebooks/data_table.ipynb>data table notebook</a>'\n",
              "            + ' to learn more about interactive tables.';\n",
              "          element.innerHTML = '';\n",
              "          dataTable['output_type'] = 'display_data';\n",
              "          await google.colab.output.renderOutput(dataTable, element);\n",
              "          const docLink = document.createElement('div');\n",
              "          docLink.innerHTML = docLinkHtml;\n",
              "          element.appendChild(docLink);\n",
              "        }\n",
              "      </script>\n",
              "    </div>\n",
              "  </div>\n",
              "  "
            ]
          },
          "metadata": {},
          "execution_count": 14
        }
      ]
    },
    {
      "cell_type": "markdown",
      "source": [
        "## Nulos"
      ],
      "metadata": {
        "id": "6AEkPtHG4AgQ"
      }
    },
    {
      "cell_type": "markdown",
      "source": [
        "drop(): retira do DataFrame as linhas com nulos, com base no que foi passado para o argumento how:\n",
        "\n",
        "‒ any (default): retira todas as linhas com pelo menos um valor nulo nas colunas.\n",
        "\n",
        "‒ all: somente retira as linhas com todos os valores nulos nas colunas.\n",
        "\n",
        "fillna(): preenche os valores nulos no DataFrame com uma constante, passada pelo usuário.\n",
        "\n",
        "replace(): substitui o valor (não somente os valores nulos) por algum outro passado pelo usuário.\n",
        "\n",
        "Obs: todas as funções acima aceitam um argumento subset, usado para identificar em quais colunas deve ser aplicada a função."
      ],
      "metadata": {
        "id": "hMaLGIN839Dg"
      }
    },
    {
      "cell_type": "code",
      "source": [
        "schema = ['nome', 'idade', 'nota'] \n",
        "\n",
        "dados = [('Otavio', 16 , None), ('Patricia', None, 8.0), ('Gustavo', None, None), ('Beatriz', None, 15.0), ('Carla', 17, 10.0), (None, None, None)]\n",
        "\n",
        "df4 = spark.createDataFrame(data=dados, schema=schema)\n",
        "\n",
        "df4.show()\n"
      ],
      "metadata": {
        "colab": {
          "base_uri": "https://localhost:8080/"
        },
        "id": "vm-ZuMY44FpS",
        "outputId": "f946217b-2a90-4d79-cd95-68b9cf055bee"
      },
      "execution_count": null,
      "outputs": [
        {
          "output_type": "stream",
          "name": "stdout",
          "text": [
            "+--------+-----+----+\n",
            "|    nome|idade|nota|\n",
            "+--------+-----+----+\n",
            "|  Otavio|   16|null|\n",
            "|Patricia| null| 8.0|\n",
            "| Gustavo| null|null|\n",
            "| Beatriz| null|15.0|\n",
            "|   Carla|   17|10.0|\n",
            "|    null| null|null|\n",
            "+--------+-----+----+\n",
            "\n"
          ]
        }
      ]
    },
    {
      "cell_type": "code",
      "source": [
        "#REMOVER TODAS AS LINHAS QUE CONTENHAM DADOS NULOS\n",
        "df4.na.drop().show()\n",
        "df4.na.drop(how='any').show()"
      ],
      "metadata": {
        "colab": {
          "base_uri": "https://localhost:8080/"
        },
        "id": "TZ3C2Soq4NId",
        "outputId": "ebc5570a-00a1-4a1f-cd30-5f874df23759"
      },
      "execution_count": null,
      "outputs": [
        {
          "output_type": "stream",
          "name": "stdout",
          "text": [
            "+-----+-----+----+\n",
            "| nome|idade|nota|\n",
            "+-----+-----+----+\n",
            "|Carla|   17|10.0|\n",
            "+-----+-----+----+\n",
            "\n",
            "+-----+-----+----+\n",
            "| nome|idade|nota|\n",
            "+-----+-----+----+\n",
            "|Carla|   17|10.0|\n",
            "+-----+-----+----+\n",
            "\n"
          ]
        }
      ]
    },
    {
      "cell_type": "code",
      "source": [
        "#REMOVER APENAS LINHAS INTEIRAMENTE NULAS\n",
        "df4.na.drop(how='all').show()"
      ],
      "metadata": {
        "colab": {
          "base_uri": "https://localhost:8080/"
        },
        "id": "Z2PTlLen4OxG",
        "outputId": "1459482c-77b4-44a8-df38-c37d3ff136cc"
      },
      "execution_count": null,
      "outputs": [
        {
          "output_type": "stream",
          "name": "stdout",
          "text": [
            "+--------+-----+----+\n",
            "|    nome|idade|nota|\n",
            "+--------+-----+----+\n",
            "|  Otavio|   16|null|\n",
            "|Patricia| null| 8.0|\n",
            "| Gustavo| null|null|\n",
            "| Beatriz| null|15.0|\n",
            "|   Carla|   17|10.0|\n",
            "+--------+-----+----+\n",
            "\n"
          ]
        }
      ]
    },
    {
      "cell_type": "code",
      "source": [
        "df4.na.drop(subset=['idade']).show()"
      ],
      "metadata": {
        "colab": {
          "base_uri": "https://localhost:8080/"
        },
        "id": "N1suJVZx9lbG",
        "outputId": "83f00049-7def-48bc-a359-aea6e39878e2"
      },
      "execution_count": null,
      "outputs": [
        {
          "output_type": "stream",
          "name": "stdout",
          "text": [
            "+------+-----+----+\n",
            "|  nome|idade|nota|\n",
            "+------+-----+----+\n",
            "|Otavio|   16|null|\n",
            "| Carla|   17|10.0|\n",
            "+------+-----+----+\n",
            "\n"
          ]
        }
      ]
    },
    {
      "cell_type": "code",
      "source": [
        "df4.na.drop(subset=['nota']).show()"
      ],
      "metadata": {
        "colab": {
          "base_uri": "https://localhost:8080/"
        },
        "id": "PgMVZIlN9ulv",
        "outputId": "2cc22cba-96fc-489d-af6c-d39b114bcb6c"
      },
      "execution_count": null,
      "outputs": [
        {
          "output_type": "stream",
          "name": "stdout",
          "text": [
            "+--------+-----+----+\n",
            "|    nome|idade|nota|\n",
            "+--------+-----+----+\n",
            "|Patricia| null| 8.0|\n",
            "| Beatriz| null|15.0|\n",
            "|   Carla|   17|10.0|\n",
            "+--------+-----+----+\n",
            "\n"
          ]
        }
      ]
    },
    {
      "cell_type": "code",
      "source": [
        "#SUBSTITUIR VALORES NULOS POR UMA CONSTANTE\n",
        "df4.na.fill(\"\").show()\n",
        "df4.na.fill(0).show()\n",
        "df4.na.fill(0, subset=['idade', 'nota']).show()"
      ],
      "metadata": {
        "colab": {
          "base_uri": "https://localhost:8080/"
        },
        "id": "sLe0jX8A9Zl_",
        "outputId": "faec2f56-5b6d-4025-ab4e-065cce288065"
      },
      "execution_count": null,
      "outputs": [
        {
          "output_type": "stream",
          "name": "stdout",
          "text": [
            "+--------+-----+----+\n",
            "|    nome|idade|nota|\n",
            "+--------+-----+----+\n",
            "|  Otavio|   16|null|\n",
            "|Patricia| null| 8.0|\n",
            "| Gustavo| null|null|\n",
            "| Beatriz| null|15.0|\n",
            "|   Carla|   17|10.0|\n",
            "|        | null|null|\n",
            "+--------+-----+----+\n",
            "\n",
            "+--------+-----+----+\n",
            "|    nome|idade|nota|\n",
            "+--------+-----+----+\n",
            "|  Otavio|   16| 0.0|\n",
            "|Patricia|    0| 8.0|\n",
            "| Gustavo|    0| 0.0|\n",
            "| Beatriz|    0|15.0|\n",
            "|   Carla|   17|10.0|\n",
            "|    null|    0| 0.0|\n",
            "+--------+-----+----+\n",
            "\n",
            "+--------+-----+----+\n",
            "|    nome|idade|nota|\n",
            "+--------+-----+----+\n",
            "|  Otavio|   16| 0.0|\n",
            "|Patricia|    0| 8.0|\n",
            "| Gustavo|    0| 0.0|\n",
            "| Beatriz|    0|15.0|\n",
            "|   Carla|   17|10.0|\n",
            "|    null|    0| 0.0|\n",
            "+--------+-----+----+\n",
            "\n"
          ]
        }
      ]
    },
    {
      "cell_type": "code",
      "source": [
        "df4.na.fill(value={'idade':0,'nome':\"\",'nota':0}).show()"
      ],
      "metadata": {
        "colab": {
          "base_uri": "https://localhost:8080/"
        },
        "id": "oZ0vXr9u_Uqr",
        "outputId": "0419d282-3d5e-4014-d7bd-98da568916b3"
      },
      "execution_count": null,
      "outputs": [
        {
          "output_type": "stream",
          "name": "stdout",
          "text": [
            "+--------+-----+----+\n",
            "|    nome|idade|nota|\n",
            "+--------+-----+----+\n",
            "|  Otavio|   16| 0.0|\n",
            "|Patricia|    0| 8.0|\n",
            "| Gustavo|    0| 0.0|\n",
            "| Beatriz|    0|15.0|\n",
            "|   Carla|   17|10.0|\n",
            "|        |    0| 0.0|\n",
            "+--------+-----+----+\n",
            "\n"
          ]
        }
      ]
    },
    {
      "cell_type": "code",
      "source": [
        "df4.na.fill(10, subset=['nota']).show()\n",
        "df4.fillna(0, subset=['idade', 'nota']).show()"
      ],
      "metadata": {
        "colab": {
          "base_uri": "https://localhost:8080/"
        },
        "id": "TbXxCQxD9hEX",
        "outputId": "1cf3a4bd-86e1-40ae-d2b7-1661f60111c4"
      },
      "execution_count": null,
      "outputs": [
        {
          "output_type": "stream",
          "name": "stdout",
          "text": [
            "+--------+-----+----+\n",
            "|    nome|idade|nota|\n",
            "+--------+-----+----+\n",
            "|  Otavio|   16|  10|\n",
            "|Patricia| null|   8|\n",
            "| Gustavo| null|  10|\n",
            "| Beatriz| null|  15|\n",
            "|   Carla|   17|  10|\n",
            "|    null| null|  10|\n",
            "+--------+-----+----+\n",
            "\n",
            "+--------+-----+----+\n",
            "|    nome|idade|nota|\n",
            "+--------+-----+----+\n",
            "|  Otavio|   16|   0|\n",
            "|Patricia|    0|   8|\n",
            "| Gustavo|    0|   0|\n",
            "| Beatriz|    0|  15|\n",
            "|   Carla|   17|  10|\n",
            "|    null|    0|   0|\n",
            "+--------+-----+----+\n",
            "\n"
          ]
        }
      ]
    },
    {
      "cell_type": "markdown",
      "source": [
        "# Window Function"
      ],
      "metadata": {
        "id": "WZV8ADmDIvSj"
      }
    },
    {
      "cell_type": "markdown",
      "source": [
        "row_number(): Número da linha \n",
        "\n",
        "rank(): Ranking sobre alguma partição \n",
        "\n",
        "percent_rank(): Retorna um percentil sobre alguma partição \n",
        "\n",
        "dense_rank(): Retorna um ranking de linhas ntile(): Retorna uma identificação \n",
        "\n",
        "cume_dist(): Retorna uma distribuição cumulativa"
      ],
      "metadata": {
        "id": "Q08QLvM2KWp-"
      }
    },
    {
      "cell_type": "code",
      "source": [
        "from pyspark.sql.window import Window"
      ],
      "metadata": {
        "id": "S9yHhlHjM3Lv"
      },
      "execution_count": null,
      "outputs": []
    },
    {
      "cell_type": "code",
      "source": [
        "schema = ['nome', 'departamento', 'estado', 'salario']\n",
        "\n",
        "dados = [('Anderson', 'vendas', 'SP', 9000),\n",
        "         ('Kennedy', 'vendas', 'RJ', 4500),\n",
        "         ('Luciana', 'vendas', 'SP', 4500),\n",
        "         ('Marilia', 'vendas', 'SP', 1200),\n",
        "         ('Gustavo', 'financeiro', 'AM', 8000),\n",
        "         ('Pedro', 'financeiro', 'AM', 2750),\n",
        "         ('Juliana', 'financeiro', 'MG', 3000),\n",
        "         ('Leticia', 'financeiro', 'RJ', 7500),\n",
        "         ('Oswaldo', 'marketing', 'RJ', 2450),\n",
        "         ('Denis', 'marketing', 'MG', 1300)\n",
        "         \n",
        "        ]\n",
        "df = spark.createDataFrame(data=dados, schema=schema)"
      ],
      "metadata": {
        "id": "YBJKTTEamj_U"
      },
      "execution_count": null,
      "outputs": []
    },
    {
      "cell_type": "code",
      "source": [
        "#Particionar minha janela a partir de uma coluna\n",
        "w0 = Window.partitionBy(F.col('departamento')).orderBy('salario')"
      ],
      "metadata": {
        "id": "bzJ5eyKfmm5d"
      },
      "execution_count": null,
      "outputs": []
    },
    {
      "cell_type": "code",
      "source": [
        "#row_number\n",
        "df.withColumn('row_number', F.row_number().over(w0)).show()"
      ],
      "metadata": {
        "colab": {
          "base_uri": "https://localhost:8080/"
        },
        "id": "9RL1Incamo35",
        "outputId": "c3631ca4-98a1-415a-fbf2-1e04d6e79e69"
      },
      "execution_count": null,
      "outputs": [
        {
          "output_type": "stream",
          "name": "stdout",
          "text": [
            "+--------+------------+------+-------+----------+\n",
            "|    nome|departamento|estado|salario|row_number|\n",
            "+--------+------------+------+-------+----------+\n",
            "|   Pedro|  financeiro|    AM|   2750|         1|\n",
            "| Juliana|  financeiro|    MG|   3000|         2|\n",
            "| Leticia|  financeiro|    RJ|   7500|         3|\n",
            "| Gustavo|  financeiro|    AM|   8000|         4|\n",
            "|   Denis|   marketing|    MG|   1300|         1|\n",
            "| Oswaldo|   marketing|    RJ|   2450|         2|\n",
            "| Marilia|      vendas|    SP|   1200|         1|\n",
            "| Kennedy|      vendas|    RJ|   4500|         2|\n",
            "| Luciana|      vendas|    SP|   4500|         3|\n",
            "|Anderson|      vendas|    SP|   9000|         4|\n",
            "+--------+------------+------+-------+----------+\n",
            "\n"
          ]
        }
      ]
    },
    {
      "cell_type": "code",
      "source": [
        "#RANK\n",
        "df.withColumn('rank', F.rank().over(w0)).show()"
      ],
      "metadata": {
        "colab": {
          "base_uri": "https://localhost:8080/"
        },
        "id": "BBoIojlUmsI5",
        "outputId": "e72cade5-5de1-4bcd-dc61-091c753c8048"
      },
      "execution_count": null,
      "outputs": [
        {
          "output_type": "stream",
          "name": "stdout",
          "text": [
            "+--------+------------+------+-------+----+\n",
            "|    nome|departamento|estado|salario|rank|\n",
            "+--------+------------+------+-------+----+\n",
            "|   Pedro|  financeiro|    AM|   2750|   1|\n",
            "| Juliana|  financeiro|    MG|   3000|   2|\n",
            "| Leticia|  financeiro|    RJ|   7500|   3|\n",
            "| Gustavo|  financeiro|    AM|   8000|   4|\n",
            "|   Denis|   marketing|    MG|   1300|   1|\n",
            "| Oswaldo|   marketing|    RJ|   2450|   2|\n",
            "| Marilia|      vendas|    SP|   1200|   1|\n",
            "| Kennedy|      vendas|    RJ|   4500|   2|\n",
            "| Luciana|      vendas|    SP|   4500|   2|\n",
            "|Anderson|      vendas|    SP|   9000|   4|\n",
            "+--------+------------+------+-------+----+\n",
            "\n"
          ]
        }
      ]
    },
    {
      "cell_type": "code",
      "source": [
        "#DENSE_RANK\n",
        "df.withColumn('dense_rank', F.dense_rank().over(w0)).show()"
      ],
      "metadata": {
        "colab": {
          "base_uri": "https://localhost:8080/"
        },
        "id": "p_RNtTLHmuP_",
        "outputId": "14b9304c-a9a0-409f-82a7-75b8f591cbf2"
      },
      "execution_count": null,
      "outputs": [
        {
          "output_type": "stream",
          "name": "stdout",
          "text": [
            "+--------+------------+------+-------+----------+\n",
            "|    nome|departamento|estado|salario|dense_rank|\n",
            "+--------+------------+------+-------+----------+\n",
            "|   Pedro|  financeiro|    AM|   2750|         1|\n",
            "| Juliana|  financeiro|    MG|   3000|         2|\n",
            "| Leticia|  financeiro|    RJ|   7500|         3|\n",
            "| Gustavo|  financeiro|    AM|   8000|         4|\n",
            "|   Denis|   marketing|    MG|   1300|         1|\n",
            "| Oswaldo|   marketing|    RJ|   2450|         2|\n",
            "| Marilia|      vendas|    SP|   1200|         1|\n",
            "| Kennedy|      vendas|    RJ|   4500|         2|\n",
            "| Luciana|      vendas|    SP|   4500|         2|\n",
            "|Anderson|      vendas|    SP|   9000|         3|\n",
            "+--------+------------+------+-------+----------+\n",
            "\n"
          ]
        }
      ]
    },
    {
      "cell_type": "code",
      "source": [
        "#lag \n",
        "df.withColumn('lag', F.lag(\"salario\", 1).over(w0)).show()"
      ],
      "metadata": {
        "colab": {
          "base_uri": "https://localhost:8080/"
        },
        "id": "U1bNS9EwmwIf",
        "outputId": "89b14bcb-6a4a-4037-8004-2d4ade684282"
      },
      "execution_count": null,
      "outputs": [
        {
          "output_type": "stream",
          "name": "stdout",
          "text": [
            "+--------+------------+------+-------+----+\n",
            "|    nome|departamento|estado|salario| lag|\n",
            "+--------+------------+------+-------+----+\n",
            "|   Pedro|  financeiro|    AM|   2750|null|\n",
            "| Juliana|  financeiro|    MG|   3000|2750|\n",
            "| Leticia|  financeiro|    RJ|   7500|3000|\n",
            "| Gustavo|  financeiro|    AM|   8000|7500|\n",
            "|   Denis|   marketing|    MG|   1300|null|\n",
            "| Oswaldo|   marketing|    RJ|   2450|1300|\n",
            "| Marilia|      vendas|    SP|   1200|null|\n",
            "| Kennedy|      vendas|    RJ|   4500|1200|\n",
            "| Luciana|      vendas|    SP|   4500|4500|\n",
            "|Anderson|      vendas|    SP|   9000|4500|\n",
            "+--------+------------+------+-------+----+\n",
            "\n"
          ]
        }
      ]
    },
    {
      "cell_type": "code",
      "source": [
        "#lead \n",
        "df.withColumn('lead', F.lead(\"salario\", 1).over(w0)).show()"
      ],
      "metadata": {
        "colab": {
          "base_uri": "https://localhost:8080/"
        },
        "id": "RGRO7ta0myET",
        "outputId": "4b5fcff3-0e11-47ef-da7a-a503965f2ca5"
      },
      "execution_count": null,
      "outputs": [
        {
          "output_type": "stream",
          "name": "stdout",
          "text": [
            "+--------+------------+------+-------+----+\n",
            "|    nome|departamento|estado|salario|lead|\n",
            "+--------+------------+------+-------+----+\n",
            "|   Pedro|  financeiro|    AM|   2750|3000|\n",
            "| Juliana|  financeiro|    MG|   3000|7500|\n",
            "| Leticia|  financeiro|    RJ|   7500|8000|\n",
            "| Gustavo|  financeiro|    AM|   8000|null|\n",
            "|   Denis|   marketing|    MG|   1300|2450|\n",
            "| Oswaldo|   marketing|    RJ|   2450|null|\n",
            "| Marilia|      vendas|    SP|   1200|4500|\n",
            "| Kennedy|      vendas|    RJ|   4500|4500|\n",
            "| Luciana|      vendas|    SP|   4500|9000|\n",
            "|Anderson|      vendas|    SP|   9000|null|\n",
            "+--------+------------+------+-------+----+\n",
            "\n"
          ]
        }
      ]
    },
    {
      "cell_type": "markdown",
      "source": [
        "# Joins"
      ],
      "metadata": {
        "id": "SJZP8P23zIPf"
      }
    },
    {
      "cell_type": "code",
      "source": [
        "schema = ['id', 'nome', 'salario']\n",
        "\n",
        "dados = [\n",
        "         (1, 'João', 2000),\n",
        "         (2, 'Maria', 5000),\n",
        "         (3, 'Pedro', 8300),\n",
        "         (4, 'Gustavo', 1200),\n",
        "         (5, 'Ana', 10000),\n",
        "         (6, 'Vitoria', 7500),\n",
        "         (7, 'Carlos', 4800),\n",
        "         (8, 'Claudia', 4300),\n",
        "         (9, 'Andre', 2400),\n",
        "]\n",
        "df1 = spark.createDataFrame(data=dados, schema=schema)"
      ],
      "metadata": {
        "id": "icKrY4ByzQTH"
      },
      "execution_count": null,
      "outputs": []
    },
    {
      "cell_type": "code",
      "source": [
        "schema = ['id', 'cidade', 'estado']\n",
        "\n",
        "dados = [\n",
        "         (1, 'São Paulo', 'SP'),\n",
        "         (2, 'Curitiba', 'PR'),\n",
        "         (3, 'Fortaleza', 'CE'),\n",
        "         (4, 'Ribeirão Preto', 'SP'),\n",
        "         (8, 'Belo Horizonte', 'MG'),\n",
        "         (9, 'Goiania', 'GO'),\n",
        "         (10, 'Sobral', 'CE'),\n",
        "         (11, 'Salvador', 'BA'),\n",
        "         (12, 'São Luis', 'MA'),\n",
        "]\n",
        "df2 = spark.createDataFrame(data=dados, schema=schema)"
      ],
      "metadata": {
        "id": "qDqVxhx1zTm5"
      },
      "execution_count": null,
      "outputs": []
    },
    {
      "cell_type": "markdown",
      "source": [
        "## INNER JOINS"
      ],
      "metadata": {
        "id": "-8woUz0CzKGi"
      }
    },
    {
      "cell_type": "code",
      "source": [
        "df_inner = df1.join(df2, on=['id'], how='inner')\n",
        "\n",
        "df_inner.show()"
      ],
      "metadata": {
        "colab": {
          "base_uri": "https://localhost:8080/"
        },
        "id": "ELV2Sjb_zMZf",
        "outputId": "87b9f3af-8d4f-4828-a6d6-6f4087b32fec"
      },
      "execution_count": null,
      "outputs": [
        {
          "output_type": "stream",
          "name": "stdout",
          "text": [
            "+---+-------+-------+--------------+------+\n",
            "| id|   nome|salario|        cidade|estado|\n",
            "+---+-------+-------+--------------+------+\n",
            "|  1|   João|   2000|     São Paulo|    SP|\n",
            "|  2|  Maria|   5000|      Curitiba|    PR|\n",
            "|  3|  Pedro|   8300|     Fortaleza|    CE|\n",
            "|  4|Gustavo|   1200|Ribeirão Preto|    SP|\n",
            "|  8|Claudia|   4300|Belo Horizonte|    MG|\n",
            "|  9|  Andre|   2400|       Goiania|    GO|\n",
            "+---+-------+-------+--------------+------+\n",
            "\n"
          ]
        }
      ]
    },
    {
      "cell_type": "markdown",
      "source": [
        "## LEFT JOIN, LEFTOUTER, LEFT_OUTER"
      ],
      "metadata": {
        "id": "Y5-f4pSDzdFN"
      }
    },
    {
      "cell_type": "code",
      "source": [
        "df_left = df1.join(df2, on=['id'], how='left')\n",
        "\n",
        "df_left.show()"
      ],
      "metadata": {
        "colab": {
          "base_uri": "https://localhost:8080/"
        },
        "id": "j1DFtPf_zcbr",
        "outputId": "ba6bb3eb-af26-4fbc-b2ef-b7c6cce4c33c"
      },
      "execution_count": null,
      "outputs": [
        {
          "output_type": "stream",
          "name": "stdout",
          "text": [
            "+---+-------+-------+--------------+------+\n",
            "| id|   nome|salario|        cidade|estado|\n",
            "+---+-------+-------+--------------+------+\n",
            "|  1|   João|   2000|     São Paulo|    SP|\n",
            "|  2|  Maria|   5000|      Curitiba|    PR|\n",
            "|  3|  Pedro|   8300|     Fortaleza|    CE|\n",
            "|  4|Gustavo|   1200|Ribeirão Preto|    SP|\n",
            "|  5|    Ana|  10000|          null|  null|\n",
            "|  6|Vitoria|   7500|          null|  null|\n",
            "|  7| Carlos|   4800|          null|  null|\n",
            "|  8|Claudia|   4300|Belo Horizonte|    MG|\n",
            "|  9|  Andre|   2400|       Goiania|    GO|\n",
            "+---+-------+-------+--------------+------+\n",
            "\n"
          ]
        }
      ]
    },
    {
      "cell_type": "markdown",
      "source": [
        "## RIGHT JOIN"
      ],
      "metadata": {
        "id": "JzzoLTXfznq-"
      }
    },
    {
      "cell_type": "code",
      "source": [
        "df_right = df1.join(df2, on=['id'], how='right')\n",
        "\n",
        "df_right.show()"
      ],
      "metadata": {
        "colab": {
          "base_uri": "https://localhost:8080/"
        },
        "id": "9GagjuzkzrvU",
        "outputId": "efa9c9a4-fb53-427c-dffe-de11abbddd24"
      },
      "execution_count": null,
      "outputs": [
        {
          "output_type": "stream",
          "name": "stdout",
          "text": [
            "+---+-------+-------+--------------+------+\n",
            "| id|   nome|salario|        cidade|estado|\n",
            "+---+-------+-------+--------------+------+\n",
            "|  1|   João|   2000|     São Paulo|    SP|\n",
            "|  2|  Maria|   5000|      Curitiba|    PR|\n",
            "|  3|  Pedro|   8300|     Fortaleza|    CE|\n",
            "|  4|Gustavo|   1200|Ribeirão Preto|    SP|\n",
            "|  8|Claudia|   4300|Belo Horizonte|    MG|\n",
            "|  9|  Andre|   2400|       Goiania|    GO|\n",
            "| 10|   null|   null|        Sobral|    CE|\n",
            "| 11|   null|   null|      Salvador|    BA|\n",
            "| 12|   null|   null|      São Luis|    MA|\n",
            "+---+-------+-------+--------------+------+\n",
            "\n"
          ]
        }
      ]
    },
    {
      "cell_type": "markdown",
      "source": [
        "## FULL, OUTER, FULLOUTER, FULL_OUTER"
      ],
      "metadata": {
        "id": "MuZ5FulJzrKe"
      }
    },
    {
      "cell_type": "code",
      "source": [
        "df_full = df1.join(df2, on=['id'], how='full')\n",
        "\n",
        "df_full.show()"
      ],
      "metadata": {
        "colab": {
          "base_uri": "https://localhost:8080/"
        },
        "id": "iBB0C_wxzu0d",
        "outputId": "14d12304-ea17-4543-ae97-f95c6476e674"
      },
      "execution_count": null,
      "outputs": [
        {
          "output_type": "stream",
          "name": "stdout",
          "text": [
            "+---+-------+-------+--------------+------+\n",
            "| id|   nome|salario|        cidade|estado|\n",
            "+---+-------+-------+--------------+------+\n",
            "|  1|   João|   2000|     São Paulo|    SP|\n",
            "|  2|  Maria|   5000|      Curitiba|    PR|\n",
            "|  3|  Pedro|   8300|     Fortaleza|    CE|\n",
            "|  4|Gustavo|   1200|Ribeirão Preto|    SP|\n",
            "|  5|    Ana|  10000|          null|  null|\n",
            "|  6|Vitoria|   7500|          null|  null|\n",
            "|  7| Carlos|   4800|          null|  null|\n",
            "|  8|Claudia|   4300|Belo Horizonte|    MG|\n",
            "|  9|  Andre|   2400|       Goiania|    GO|\n",
            "| 10|   null|   null|        Sobral|    CE|\n",
            "| 11|   null|   null|      Salvador|    BA|\n",
            "| 12|   null|   null|      São Luis|    MA|\n",
            "+---+-------+-------+--------------+------+\n",
            "\n"
          ]
        }
      ]
    }
  ]
}