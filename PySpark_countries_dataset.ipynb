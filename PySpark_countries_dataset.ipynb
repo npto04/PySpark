{
  "nbformat": 4,
  "nbformat_minor": 0,
  "metadata": {
    "colab": {
      "name": "PySpark_countries_dataset.ipynb",
      "provenance": [],
      "mount_file_id": "1foW1PaUU8HEuD2rG9IyKIy4O1VKuCgl9",
      "authorship_tag": "ABX9TyM1/EWYwm6x57jlzmq6mNAB",
      "include_colab_link": true
    },
    "kernelspec": {
      "name": "python3",
      "display_name": "Python 3"
    },
    "language_info": {
      "name": "python"
    }
  },
  "cells": [
    {
      "cell_type": "markdown",
      "metadata": {
        "id": "view-in-github",
        "colab_type": "text"
      },
      "source": [
        "<a href=\"https://colab.research.google.com/github/npto04/PySpark/blob/main/PySpark_countries_dataset.ipynb\" target=\"_parent\"><img src=\"https://colab.research.google.com/assets/colab-badge.svg\" alt=\"Open In Colab\"/></a>"
      ]
    },
    {
      "cell_type": "markdown",
      "source": [
        "Estruturar as colunas do CSV utilizando o Struct Type\n",
        "\n",
        "1) Renomear alguma coluna\n",
        "\n",
        "2) Mostrar os países que possuam população maior que 10 milhões de habitantes em 2012\n",
        "\n",
        "3) Mostrar todos os dados apenas dos países que comecem com a letra B\n",
        "\n",
        "4) Criar uma nova coluna com a seguinte informação: Caso o país tenha mais que 1 milhão de habitantes, colocar o texto “População com mais de 1 milhão de habitantes”. Caso contrário, colocar o texto: “População com menos de 1 milhão de habitantes”\n",
        "\n",
        "5) Mostre a soma da população no ano de 2017."
      ],
      "metadata": {
        "id": "N6GfAv9JDg27"
      }
    },
    {
      "cell_type": "markdown",
      "source": [
        "# installations & imports"
      ],
      "metadata": {
        "id": "cPAMzWuXDs5Z"
      }
    },
    {
      "cell_type": "code",
      "source": [
        "!pip install pyspark "
      ],
      "metadata": {
        "colab": {
          "base_uri": "https://localhost:8080/"
        },
        "id": "xMVffeLdEGJj",
        "outputId": "5d5ae303-6a5f-49f1-b2bd-4db3fb145ee4"
      },
      "execution_count": null,
      "outputs": [
        {
          "output_type": "stream",
          "name": "stdout",
          "text": [
            "Collecting pyspark\n",
            "  Downloading pyspark-3.2.1.tar.gz (281.4 MB)\n",
            "\u001b[K     |████████████████████████████████| 281.4 MB 34 kB/s \n",
            "\u001b[?25hCollecting py4j==0.10.9.3\n",
            "  Downloading py4j-0.10.9.3-py2.py3-none-any.whl (198 kB)\n",
            "\u001b[K     |████████████████████████████████| 198 kB 37.6 MB/s \n",
            "\u001b[?25hBuilding wheels for collected packages: pyspark\n",
            "  Building wheel for pyspark (setup.py) ... \u001b[?25l\u001b[?25hdone\n",
            "  Created wheel for pyspark: filename=pyspark-3.2.1-py2.py3-none-any.whl size=281853642 sha256=fb176df2d2af2f8fb600176d3ffccb4171c25873e8d493b0ff35de0be3f0da39\n",
            "  Stored in directory: /root/.cache/pip/wheels/9f/f5/07/7cd8017084dce4e93e84e92efd1e1d5334db05f2e83bcef74f\n",
            "Successfully built pyspark\n",
            "Installing collected packages: py4j, pyspark\n",
            "Successfully installed py4j-0.10.9.3 pyspark-3.2.1\n"
          ]
        }
      ]
    },
    {
      "cell_type": "code",
      "source": [
        "from pyspark.sql import SparkSession\n",
        "from pyspark import SparkConf\n",
        "from pyspark.sql import functions as F\n",
        "from pyspark.sql.types import StructField, StructType, StringType, IntegerType, FloatType"
      ],
      "metadata": {
        "id": "9NYxcRgAEg_s"
      },
      "execution_count": null,
      "outputs": []
    },
    {
      "cell_type": "markdown",
      "source": [
        "# criar sessao spark"
      ],
      "metadata": {
        "id": "l4le8BZrGKw-"
      }
    },
    {
      "cell_type": "code",
      "source": [
        "spark = (\n",
        "    SparkSession.builder\n",
        "    .master(\"local[3]\")\n",
        "    .appName(\"countries_dataset\")\n",
        "    .config(\"spark.ui.port\", \"4050\")\n",
        "    .getOrCreate()\n",
        ")"
      ],
      "metadata": {
        "id": "uQDbzHKuFdDz"
      },
      "execution_count": null,
      "outputs": []
    },
    {
      "cell_type": "code",
      "source": [
        "spark"
      ],
      "metadata": {
        "colab": {
          "base_uri": "https://localhost:8080/",
          "height": 219
        },
        "id": "JpXnY0-aGD0B",
        "outputId": "da605838-1d5e-4fdf-92fc-2f93b1d089a4"
      },
      "execution_count": null,
      "outputs": [
        {
          "output_type": "execute_result",
          "data": {
            "text/plain": [
              "<pyspark.sql.session.SparkSession at 0x7fb567a99c10>"
            ],
            "text/html": [
              "\n",
              "            <div>\n",
              "                <p><b>SparkSession - in-memory</b></p>\n",
              "                \n",
              "        <div>\n",
              "            <p><b>SparkContext</b></p>\n",
              "\n",
              "            <p><a href=\"http://209d9adf7999:4050\">Spark UI</a></p>\n",
              "\n",
              "            <dl>\n",
              "              <dt>Version</dt>\n",
              "                <dd><code>v3.2.1</code></dd>\n",
              "              <dt>Master</dt>\n",
              "                <dd><code>local[3]</code></dd>\n",
              "              <dt>AppName</dt>\n",
              "                <dd><code>countries_dataset</code></dd>\n",
              "            </dl>\n",
              "        </div>\n",
              "        \n",
              "            </div>\n",
              "        "
            ]
          },
          "metadata": {},
          "execution_count": 5
        }
      ]
    },
    {
      "cell_type": "markdown",
      "source": [
        "# carregar dataset em dataframe"
      ],
      "metadata": {
        "id": "DdzAHjVnFXSi"
      }
    },
    {
      "cell_type": "code",
      "source": [
        "path_dataset = \"/content/drive/MyDrive/Datasets/countries_general_info_historical.24-10-2021.csv\""
      ],
      "metadata": {
        "id": "TqogDzRvDk7C"
      },
      "execution_count": null,
      "outputs": []
    },
    {
      "cell_type": "code",
      "source": [
        "esquema = (\n",
        "    StructType([\n",
        "                StructField(\"Nome\",StringType()),\n",
        "                StructField(\"NomeOriginal\",StringType()),\n",
        "                StructField(\"CodigoTelefonico\", IntegerType()),\n",
        "                StructField(\"Iso3166P1Alpha2Code\",StringType()),\n",
        "                StructField(\"Iso3166P1Alpha3Code\",StringType()),\n",
        "                StructField(\"Iso3166P1NumericCode\",StringType()),\n",
        "                StructField(\"ISNI\", StringType()),\n",
        "                StructField(\"Populacao2010\", IntegerType()),\n",
        "                StructField(\"Populacao2011\", IntegerType()),\n",
        "                StructField(\"Populacao2012\", IntegerType()),\n",
        "                StructField(\"Populacao2013\", IntegerType()),\n",
        "                StructField(\"Populacao2014\", IntegerType()),\n",
        "                StructField(\"Populacao2015\", IntegerType()),\n",
        "                StructField(\"Populacao2016\", IntegerType()),\n",
        "                StructField(\"Populacao2017\", IntegerType()),\n",
        "                StructField(\"Populacao2018\", IntegerType()),\n",
        "                StructField(\"Populacao2019\", IntegerType())\n",
        "    ])\n",
        ")"
      ],
      "metadata": {
        "id": "kXU9V13GGdXG"
      },
      "execution_count": null,
      "outputs": []
    },
    {
      "cell_type": "code",
      "source": [
        "df = (\n",
        "    spark\n",
        "    .read\n",
        "    .format(\"csv\")\n",
        "    .option(\"delimiter\",\",\")\n",
        "    .option(\"header\", \"true\")\n",
        "    .load(path=path_dataset,schema=esquema)\n",
        ")"
      ],
      "metadata": {
        "id": "A8_jjkNvGGV8"
      },
      "execution_count": null,
      "outputs": []
    },
    {
      "cell_type": "code",
      "source": [
        "df.printSchema()"
      ],
      "metadata": {
        "colab": {
          "base_uri": "https://localhost:8080/"
        },
        "id": "fCJUJqPwK3X2",
        "outputId": "7d183cfb-0f9d-4ff9-f133-487552f5fe65"
      },
      "execution_count": null,
      "outputs": [
        {
          "output_type": "stream",
          "name": "stdout",
          "text": [
            "root\n",
            " |-- Nome: string (nullable = true)\n",
            " |-- NomeOriginal: string (nullable = true)\n",
            " |-- CodigoTelefonico: integer (nullable = true)\n",
            " |-- Iso3166P1Alpha2Code: string (nullable = true)\n",
            " |-- Iso3166P1Alpha3Code: string (nullable = true)\n",
            " |-- Iso3166P1NumericCode: string (nullable = true)\n",
            " |-- ISNI: string (nullable = true)\n",
            " |-- Populacao2010: integer (nullable = true)\n",
            " |-- Populacao2011: integer (nullable = true)\n",
            " |-- Populacao2012: integer (nullable = true)\n",
            " |-- Populacao2013: integer (nullable = true)\n",
            " |-- Populacao2014: integer (nullable = true)\n",
            " |-- Populacao2015: integer (nullable = true)\n",
            " |-- Populacao2016: integer (nullable = true)\n",
            " |-- Populacao2017: integer (nullable = true)\n",
            " |-- Populacao2018: integer (nullable = true)\n",
            " |-- Populacao2019: integer (nullable = true)\n",
            "\n"
          ]
        }
      ]
    },
    {
      "cell_type": "code",
      "source": [
        "df.show()"
      ],
      "metadata": {
        "colab": {
          "base_uri": "https://localhost:8080/"
        },
        "id": "hopH7U_UK8wz",
        "outputId": "c82d69af-f20d-445a-c7fa-4f35d430263e"
      },
      "execution_count": null,
      "outputs": [
        {
          "output_type": "stream",
          "name": "stdout",
          "text": [
            "+--------------------+--------------------+----------------+-------------------+-------------------+--------------------+-------------------+-------------+-------------+-------------+-------------+-------------+-------------+-------------+-------------+-------------+-------------+\n",
            "|                Nome|        NomeOriginal|CodigoTelefonico|Iso3166P1Alpha2Code|Iso3166P1Alpha3Code|Iso3166P1NumericCode|               ISNI|Populacao2010|Populacao2011|Populacao2012|Populacao2013|Populacao2014|Populacao2015|Populacao2016|Populacao2017|Populacao2018|Populacao2019|\n",
            "+--------------------+--------------------+----------------+-------------------+-------------------+--------------------+-------------------+-------------+-------------+-------------+-------------+-------------+-------------+-------------+-------------+-------------+-------------+\n",
            "|              Canada|              Canada|               1|                 CA|                CAN|                 124|0000 0001 2238 5050|     34004889|     34339328|     34714222|     35082954|     35437435|     35702908|     36109487|     36545295|     37065178|     37593384|\n",
            "|               Japan|                日本|              81|                 JP|                JPN|                 392|0000 0001 2364 9740|    128070000|    127833000|    127629000|    127445000|    127276000|    127141000|    126994511|    126785797|    126529100|    126264931|\n",
            "|              Norway|    Kongeriket Norge|              47|                 NO|                NOR|                 578|0000 0001 2298 9524|      4889252|      4953088|      5018573|      5079623|      5137232|      5188607|      5234519|      5276968|      5311916|      5347896|\n",
            "|             Ireland|                Eire|             353|                 IE|                IRL|                 372|0000 0001 2359 1198|      4560155|      4580084|      4599533|      4623816|      4657740|      4701957|      4755335|      4807388|      4867316|      4934040|\n",
            "|             Hungary|        Magyarorszag|              36|                 HU|                HUN|                 348|0000 0001 2254 0380|     10000023|      9971727|      9920362|      9893082|      9866468|      9843028|      9814023|      9787966|      9775564|      9771141|\n",
            "|               Spain|              Espana|              34|                 ES|                ESP|                 724|0000 0001 2324 3505|     46576897|     46742697|     46773055|     46620045|     46480882|     46444832|     46484062|     46593236|     46797754|     47133521|\n",
            "|United States of ...|United States of ...|               1|                 US|                USA|                 840|0000 0001 2331 5230|    309321666|    311556874|    313830990|    315993715|    318301008|    320635163|    322941311|    324985539|    326687501|    328239523|\n",
            "|             Belgium|   Koninkrijk Belgie|              32|                 BE|                BEL|                  56|               null|     10895586|     11038264|     11106932|     11159407|     11209057|     11274196|     11331422|     11375158|     11427054|     11502704|\n",
            "|          Luxembourg|          Letzebuerg|             352|                 LU|                LUX|                 442|0000 0001 2192 9204|       506953|       518347|       530946|       543360|       556319|       569604|       582014|       596336|       607950|       620001|\n",
            "|             Finland|               Suomi|             358|                 FI|                FIN|                 246|               null|      5363352|      5388272|      5413971|      5438972|      5461512|      5479531|      5495303|      5508214|      5515525|      5521606|\n",
            "|              Sweden|             Sverige|              46|                 SE|                SWE|                 752|0000 0001 2299 7436|      9378126|      9449213|      9519374|      9600379|      9696110|      9799186|      9923085|     10057698|     10175214|     10278887|\n",
            "|              Poland|Rzeczpospolita Po...|              48|                 PL|                POL|                 616|0000 0004 0471 0018|     38042794|     38063255|     38063164|     38040196|     38011735|     37986412|     37970087|     37974826|     37974750|     37965475|\n",
            "|           Lithuania|             Lietuva|             370|                 LT|                LTU|                 440|0000 0001 2364 1220|      3097282|      3028115|      2987773|      2957689|      2932367|      2904910|      2868231|      2828403|      2801543|      2794137|\n",
            "|               Italy| Repubblica Italiana|              39|                 IT|                ITA|                 380|0000 0001 2186 9395|     59277417|     59379449|     59539717|     60233948|     60789140|     60730582|     60627498|     60536709|     60421760|     60302093|\n",
            "|         Switzerland|Schweizerische Ei...|              41|                 CH|                CHE|                 756|0000 0001 2297 4701|      7824909|      7912398|      7996861|      8089346|      8188649|      8282396|      8373338|      8451840|      8514329|      8575280|\n",
            "|             Austria| Republik Osterreich|              43|                 AT|                AUT|                  40|0000 0001 2265 1953|      8363404|      8391643|      8429991|      8479823|      8546356|      8642699|      8736668|      8797566|      8840521|      8879920|\n",
            "|              Greece|              Ελλάδα|              30|                 GR|                GRC|                 300|0000 0004 0555 2357|     11121341|     11104899|     11045011|     10965211|     10892413|     10820883|     10775971|     10754679|     10732882|     10717169|\n",
            "|              Turkey| Turkiye Cumhuriyeti|              90|                 TR|                TUR|                 792|0000 0004 0369 9232|     72326988|     73443863|     74653016|     75928564|     77231907|     78529409|     79821724|     81101892|     82319724|     83429615|\n",
            "|            Portugal|Republica Portuguesa|             351|                 PT|                PRT|                 620|0000 0001 2242 8399|     10573100|     10557560|     10514844|     10457295|     10401062|     10358076|     10325452|     10300300|     10283822|     10286263|\n",
            "|             Uruguay|             Uruguay|             598|                 UY|                URY|                 858|0000 0001 2238 4648|      3359275|      3368934|      3378974|      3389439|      3400434|      3412009|      3424132|      3436646|      3449299|      3461734|\n",
            "+--------------------+--------------------+----------------+-------------------+-------------------+--------------------+-------------------+-------------+-------------+-------------+-------------+-------------+-------------+-------------+-------------+-------------+-------------+\n",
            "only showing top 20 rows\n",
            "\n"
          ]
        }
      ]
    },
    {
      "cell_type": "markdown",
      "source": [
        "# 2) Mostrar os países que possuam população maior que 10 milhões de habitantes em 2012"
      ],
      "metadata": {
        "id": "jTIGVRjlLOg7"
      }
    },
    {
      "cell_type": "code",
      "source": [
        "filtro_pop_maior_dez_milhoes = F.col(\"Populacao2012\") > 10000000"
      ],
      "metadata": {
        "id": "r4fCiuAoLTVZ"
      },
      "execution_count": null,
      "outputs": []
    },
    {
      "cell_type": "code",
      "source": [
        "(df.filter(filtro_pop_maior_dez_milhoes)\n",
        ".select(\"Nome\").show())"
      ],
      "metadata": {
        "colab": {
          "base_uri": "https://localhost:8080/"
        },
        "id": "LT44r_gILiIR",
        "outputId": "1304c66b-a649-446c-c9b7-3d4707b59c11"
      },
      "execution_count": null,
      "outputs": [
        {
          "output_type": "stream",
          "name": "stdout",
          "text": [
            "+--------------------+\n",
            "|                Nome|\n",
            "+--------------------+\n",
            "|              Canada|\n",
            "|               Japan|\n",
            "|               Spain|\n",
            "|United States of ...|\n",
            "|             Belgium|\n",
            "|              Poland|\n",
            "|               Italy|\n",
            "|              Greece|\n",
            "|              Turkey|\n",
            "|            Portugal|\n",
            "|               Egypt|\n",
            "|              Mexico|\n",
            "|               Kenya|\n",
            "|            Ethiopia|\n",
            "|               Ghana|\n",
            "|              France|\n",
            "|      United Kingdom|\n",
            "|People's Republic...|\n",
            "|              Brazil|\n",
            "|              Russia|\n",
            "+--------------------+\n",
            "only showing top 20 rows\n",
            "\n"
          ]
        }
      ]
    },
    {
      "cell_type": "markdown",
      "source": [
        "# 3) Mostrar todos os dados apenas dos países que comecem com a letra B"
      ],
      "metadata": {
        "id": "vauhFxQHMiry"
      }
    },
    {
      "cell_type": "code",
      "source": [
        "(df.filter(\"Nome like 'B%'\").show())"
      ],
      "metadata": {
        "colab": {
          "base_uri": "https://localhost:8080/"
        },
        "id": "hIyg8Ps2MmRA",
        "outputId": "e73c1700-bf6e-4721-bf68-22b225fd42d3"
      },
      "execution_count": null,
      "outputs": [
        {
          "output_type": "stream",
          "name": "stdout",
          "text": [
            "+--------------------+--------------------+----------------+-------------------+-------------------+--------------------+-------------------+-------------+-------------+-------------+-------------+-------------+-------------+-------------+-------------+-------------+-------------+\n",
            "|                Nome|        NomeOriginal|CodigoTelefonico|Iso3166P1Alpha2Code|Iso3166P1Alpha3Code|Iso3166P1NumericCode|               Isni|Populacao2010|Populacao2011|Populacao2012|Populacao2013|Populacao2014|Populacao2015|Populacao2016|Populacao2017|Populacao2018|Populacao2019|\n",
            "+--------------------+--------------------+----------------+-------------------+-------------------+--------------------+-------------------+-------------+-------------+-------------+-------------+-------------+-------------+-------------+-------------+-------------+-------------+\n",
            "|             Belgium|   Koninkrijk Belgie|              32|                 BE|                BEL|                  56|               null|     10895586|     11038264|     11106932|     11159407|     11209057|     11274196|     11331422|     11375158|     11427054|     11502704|\n",
            "|              Brazil|Republica Federat...|              55|                 BR|                BRA|                  76|0000 0001 2176 6679|    195713635|    197514534|    199287296|    201035903|    202763735|    204471769|    206163058|    207833831|    209469333|    211049527|\n",
            "|             Belarus| Рэспубліка Беларусь|             375|                 BY|                BLR|                 112|0000 0001 2171 2080|      9490583|      9473172|      9464495|      9465997|      9474511|      9489616|      9501534|      9498264|      9483499|      9417849|\n",
            "|            Bulgaria|            България|             359|                 BG|                BGR|                 100|0000 0001 2325 4108|      7395599|      7348328|      7305888|      7265115|      7223938|      7177991|      7127822|      7075947|      7025037|      6975761|\n",
            "|Bosnia and Herzeg...| Bosna i Hercegovina|             387|                 BA|                BIH|                  70|               null|      3705472|      3661175|      3604972|      3542605|      3482104|      3429361|      3386267|      3351527|      3323929|      3301000|\n",
            "|              Belize|              Belize|             501|                 BZ|                BLZ|                  84|0000 0001 2286 2013|       322464|       330237|       338000|       345715|       353366|       360933|       368400|       375769|       383071|       390353|\n",
            "|            Barbados|            Barbados|            1246|                 BB|                BRB|                  52|0000 0001 0670 1869|       282131|       282987|       283700|       284296|       284825|       285324|       285796|       286233|       286641|       287025|\n",
            "|             Bahrain|             البحرين|             973|                 BH|                BHR|                  48|0000 0004 0402 3058|      1240860|      1278151|      1299943|      1315029|      1336075|      1371851|      1425791|      1494074|      1569439|      1641172|\n",
            "|             Bolivia|Estado Plurinacio...|             591|                 BO|                BOL|                  68|               null|     10048590|     10212954|     10377676|     10542376|     10706517|     10869730|     11031813|     11192854|     11353142|     11513100|\n",
            "|          Bangladesh|গণপ্রজাতন্ত্রী বা...|             880|                 BD|                BGD|                  50|0000 0001 2188 6953|    147575430|    149273778|    151007807|    152764676|    154520167|    156256276|    157970840|    159670593|    161356039|    163046161|\n",
            "|              Bhutan|          འབྲུག་ཡུལ་|             975|                 BT|                BTN|                  64|               null|       685503|       693298|       701583|       710238|       719056|       727876|       736709|       745568|       754394|       763092|\n",
            "|              Brunei|              Brunei|             673|                 BN|                BRN|                  96|               null|       388646|       393688|       398989|       404421|       409769|       414907|       419800|       424473|       428962|       433285|\n",
            "|               Benin|               Benin|             229|                 BJ|                BEN|                 204|0000 0001 2342 3987|      9199259|      9460830|      9729248|     10004588|     10286842|     10575952|     10872067|     11175204|     11485048|     11801151|\n",
            "|            Botswana|            Botswana|             267|                 BW|                BWA|                  72|0000 0001 2155 4000|      1987105|      2015402|      2039551|      2062536|      2088614|      2120716|      2159944|      2205128|      2254126|      2303697|\n",
            "|        Burkina Faso|        Burkina Faso|             226|                 BF|                BFA|                 854|0000 0004 0413 3505|     15605217|     16081911|     16571246|     17072775|     17586017|     18110624|     18646378|     19193284|     19751535|     20321378|\n",
            "|             Burundi|            Uburundi|             257|                 BI|                BDI|                 108|0000 0001 2097 7669|      8675602|      8958406|      9245988|      9540289|      9844297|     10160030|     10487998|     10827024|     11175378|     11530580|\n",
            "+--------------------+--------------------+----------------+-------------------+-------------------+--------------------+-------------------+-------------+-------------+-------------+-------------+-------------+-------------+-------------+-------------+-------------+-------------+\n",
            "\n"
          ]
        }
      ]
    },
    {
      "cell_type": "code",
      "source": [
        "(df.filter(F.col(\"Nome\").startswith(\"B\")).show())"
      ],
      "metadata": {
        "colab": {
          "base_uri": "https://localhost:8080/"
        },
        "id": "KGaYmRHkNPbS",
        "outputId": "05722e98-8155-4979-c6c8-5240c48610bc"
      },
      "execution_count": null,
      "outputs": [
        {
          "output_type": "stream",
          "name": "stdout",
          "text": [
            "+--------------------+--------------------+----------------+-------------------+-------------------+--------------------+-------------------+-------------+-------------+-------------+-------------+-------------+-------------+-------------+-------------+-------------+-------------+\n",
            "|                Nome|        NomeOriginal|CodigoTelefonico|Iso3166P1Alpha2Code|Iso3166P1Alpha3Code|Iso3166P1NumericCode|               Isni|Populacao2010|Populacao2011|Populacao2012|Populacao2013|Populacao2014|Populacao2015|Populacao2016|Populacao2017|Populacao2018|Populacao2019|\n",
            "+--------------------+--------------------+----------------+-------------------+-------------------+--------------------+-------------------+-------------+-------------+-------------+-------------+-------------+-------------+-------------+-------------+-------------+-------------+\n",
            "|             Belgium|   Koninkrijk Belgie|              32|                 BE|                BEL|                  56|               null|     10895586|     11038264|     11106932|     11159407|     11209057|     11274196|     11331422|     11375158|     11427054|     11502704|\n",
            "|              Brazil|Republica Federat...|              55|                 BR|                BRA|                  76|0000 0001 2176 6679|    195713635|    197514534|    199287296|    201035903|    202763735|    204471769|    206163058|    207833831|    209469333|    211049527|\n",
            "|             Belarus| Рэспубліка Беларусь|             375|                 BY|                BLR|                 112|0000 0001 2171 2080|      9490583|      9473172|      9464495|      9465997|      9474511|      9489616|      9501534|      9498264|      9483499|      9417849|\n",
            "|            Bulgaria|            България|             359|                 BG|                BGR|                 100|0000 0001 2325 4108|      7395599|      7348328|      7305888|      7265115|      7223938|      7177991|      7127822|      7075947|      7025037|      6975761|\n",
            "|Bosnia and Herzeg...| Bosna i Hercegovina|             387|                 BA|                BIH|                  70|               null|      3705472|      3661175|      3604972|      3542605|      3482104|      3429361|      3386267|      3351527|      3323929|      3301000|\n",
            "|              Belize|              Belize|             501|                 BZ|                BLZ|                  84|0000 0001 2286 2013|       322464|       330237|       338000|       345715|       353366|       360933|       368400|       375769|       383071|       390353|\n",
            "|            Barbados|            Barbados|            1246|                 BB|                BRB|                  52|0000 0001 0670 1869|       282131|       282987|       283700|       284296|       284825|       285324|       285796|       286233|       286641|       287025|\n",
            "|             Bahrain|             البحرين|             973|                 BH|                BHR|                  48|0000 0004 0402 3058|      1240860|      1278151|      1299943|      1315029|      1336075|      1371851|      1425791|      1494074|      1569439|      1641172|\n",
            "|             Bolivia|Estado Plurinacio...|             591|                 BO|                BOL|                  68|               null|     10048590|     10212954|     10377676|     10542376|     10706517|     10869730|     11031813|     11192854|     11353142|     11513100|\n",
            "|          Bangladesh|গণপ্রজাতন্ত্রী বা...|             880|                 BD|                BGD|                  50|0000 0001 2188 6953|    147575430|    149273778|    151007807|    152764676|    154520167|    156256276|    157970840|    159670593|    161356039|    163046161|\n",
            "|              Bhutan|          འབྲུག་ཡུལ་|             975|                 BT|                BTN|                  64|               null|       685503|       693298|       701583|       710238|       719056|       727876|       736709|       745568|       754394|       763092|\n",
            "|              Brunei|              Brunei|             673|                 BN|                BRN|                  96|               null|       388646|       393688|       398989|       404421|       409769|       414907|       419800|       424473|       428962|       433285|\n",
            "|               Benin|               Benin|             229|                 BJ|                BEN|                 204|0000 0001 2342 3987|      9199259|      9460830|      9729248|     10004588|     10286842|     10575952|     10872067|     11175204|     11485048|     11801151|\n",
            "|            Botswana|            Botswana|             267|                 BW|                BWA|                  72|0000 0001 2155 4000|      1987105|      2015402|      2039551|      2062536|      2088614|      2120716|      2159944|      2205128|      2254126|      2303697|\n",
            "|        Burkina Faso|        Burkina Faso|             226|                 BF|                BFA|                 854|0000 0004 0413 3505|     15605217|     16081911|     16571246|     17072775|     17586017|     18110624|     18646378|     19193284|     19751535|     20321378|\n",
            "|             Burundi|            Uburundi|             257|                 BI|                BDI|                 108|0000 0001 2097 7669|      8675602|      8958406|      9245988|      9540289|      9844297|     10160030|     10487998|     10827024|     11175378|     11530580|\n",
            "+--------------------+--------------------+----------------+-------------------+-------------------+--------------------+-------------------+-------------+-------------+-------------+-------------+-------------+-------------+-------------+-------------+-------------+-------------+\n",
            "\n"
          ]
        }
      ]
    },
    {
      "cell_type": "markdown",
      "source": [
        "# 4) Criar uma nova coluna com a seguinte informação: Caso o país tenha mais que 1 milhão de habitantes, colocar o texto “População com mais de 1 milhão de habitantes”. Caso contrário, colocar o texto: “População com menos de 1 milhão de habitantes”"
      ],
      "metadata": {
        "id": "7y_YoB8iNb6E"
      }
    },
    {
      "cell_type": "code",
      "source": [
        "df2 = (df.withColumn(\"PopulacaoStatus\", \n",
        "                     F.when(F.col(\"Populacao2019\")>1000000, \n",
        "                            F.lit(\"População com mais de 1 milhão de habitantes\"))\n",
        "                     .otherwise(F.lit(\"População com menos de 1 milhão de habitantes\"))))\n",
        "\n",
        "df2.show()"
      ],
      "metadata": {
        "colab": {
          "base_uri": "https://localhost:8080/"
        },
        "id": "bnvHciJCNdj3",
        "outputId": "995cb722-a2eb-43b9-ed49-a47675ba0d78"
      },
      "execution_count": null,
      "outputs": [
        {
          "output_type": "stream",
          "name": "stdout",
          "text": [
            "+--------------------+--------------------+----------------+-------------------+-------------------+--------------------+-------------------+-------------+-------------+-------------+-------------+-------------+-------------+-------------+-------------+-------------+-------------+--------------------+\n",
            "|                Nome|        NomeOriginal|CodigoTelefonico|Iso3166P1Alpha2Code|Iso3166P1Alpha3Code|Iso3166P1NumericCode|               Isni|Populacao2010|Populacao2011|Populacao2012|Populacao2013|Populacao2014|Populacao2015|Populacao2016|Populacao2017|Populacao2018|Populacao2019|     PopulacaoStatus|\n",
            "+--------------------+--------------------+----------------+-------------------+-------------------+--------------------+-------------------+-------------+-------------+-------------+-------------+-------------+-------------+-------------+-------------+-------------+-------------+--------------------+\n",
            "|              Canada|              Canada|               1|                 CA|                CAN|                 124|0000 0001 2238 5050|     34004889|     34339328|     34714222|     35082954|     35437435|     35702908|     36109487|     36545295|     37065178|     37593384|População com mai...|\n",
            "|               Japan|                日本|              81|                 JP|                JPN|                 392|0000 0001 2364 9740|    128070000|    127833000|    127629000|    127445000|    127276000|    127141000|    126994511|    126785797|    126529100|    126264931|População com mai...|\n",
            "|              Norway|    Kongeriket Norge|              47|                 NO|                NOR|                 578|0000 0001 2298 9524|      4889252|      4953088|      5018573|      5079623|      5137232|      5188607|      5234519|      5276968|      5311916|      5347896|População com mai...|\n",
            "|             Ireland|                Eire|             353|                 IE|                IRL|                 372|0000 0001 2359 1198|      4560155|      4580084|      4599533|      4623816|      4657740|      4701957|      4755335|      4807388|      4867316|      4934040|População com mai...|\n",
            "|             Hungary|        Magyarorszag|              36|                 HU|                HUN|                 348|0000 0001 2254 0380|     10000023|      9971727|      9920362|      9893082|      9866468|      9843028|      9814023|      9787966|      9775564|      9771141|População com mai...|\n",
            "|               Spain|              Espana|              34|                 ES|                ESP|                 724|0000 0001 2324 3505|     46576897|     46742697|     46773055|     46620045|     46480882|     46444832|     46484062|     46593236|     46797754|     47133521|População com mai...|\n",
            "|United States of ...|United States of ...|               1|                 US|                USA|                 840|0000 0001 2331 5230|    309321666|    311556874|    313830990|    315993715|    318301008|    320635163|    322941311|    324985539|    326687501|    328239523|População com mai...|\n",
            "|             Belgium|   Koninkrijk Belgie|              32|                 BE|                BEL|                  56|               null|     10895586|     11038264|     11106932|     11159407|     11209057|     11274196|     11331422|     11375158|     11427054|     11502704|População com mai...|\n",
            "|          Luxembourg|          Letzebuerg|             352|                 LU|                LUX|                 442|0000 0001 2192 9204|       506953|       518347|       530946|       543360|       556319|       569604|       582014|       596336|       607950|       620001|População com men...|\n",
            "|             Finland|               Suomi|             358|                 FI|                FIN|                 246|               null|      5363352|      5388272|      5413971|      5438972|      5461512|      5479531|      5495303|      5508214|      5515525|      5521606|População com mai...|\n",
            "|              Sweden|             Sverige|              46|                 SE|                SWE|                 752|0000 0001 2299 7436|      9378126|      9449213|      9519374|      9600379|      9696110|      9799186|      9923085|     10057698|     10175214|     10278887|População com mai...|\n",
            "|              Poland|Rzeczpospolita Po...|              48|                 PL|                POL|                 616|0000 0004 0471 0018|     38042794|     38063255|     38063164|     38040196|     38011735|     37986412|     37970087|     37974826|     37974750|     37965475|População com mai...|\n",
            "|           Lithuania|             Lietuva|             370|                 LT|                LTU|                 440|0000 0001 2364 1220|      3097282|      3028115|      2987773|      2957689|      2932367|      2904910|      2868231|      2828403|      2801543|      2794137|População com mai...|\n",
            "|               Italy| Repubblica Italiana|              39|                 IT|                ITA|                 380|0000 0001 2186 9395|     59277417|     59379449|     59539717|     60233948|     60789140|     60730582|     60627498|     60536709|     60421760|     60302093|População com mai...|\n",
            "|         Switzerland|Schweizerische Ei...|              41|                 CH|                CHE|                 756|0000 0001 2297 4701|      7824909|      7912398|      7996861|      8089346|      8188649|      8282396|      8373338|      8451840|      8514329|      8575280|População com mai...|\n",
            "|             Austria| Republik Osterreich|              43|                 AT|                AUT|                  40|0000 0001 2265 1953|      8363404|      8391643|      8429991|      8479823|      8546356|      8642699|      8736668|      8797566|      8840521|      8879920|População com mai...|\n",
            "|              Greece|              Ελλάδα|              30|                 GR|                GRC|                 300|0000 0004 0555 2357|     11121341|     11104899|     11045011|     10965211|     10892413|     10820883|     10775971|     10754679|     10732882|     10717169|População com mai...|\n",
            "|              Turkey| Turkiye Cumhuriyeti|              90|                 TR|                TUR|                 792|0000 0004 0369 9232|     72326988|     73443863|     74653016|     75928564|     77231907|     78529409|     79821724|     81101892|     82319724|     83429615|População com mai...|\n",
            "|            Portugal|Republica Portuguesa|             351|                 PT|                PRT|                 620|0000 0001 2242 8399|     10573100|     10557560|     10514844|     10457295|     10401062|     10358076|     10325452|     10300300|     10283822|     10286263|População com mai...|\n",
            "|             Uruguay|             Uruguay|             598|                 UY|                URY|                 858|0000 0001 2238 4648|      3359275|      3368934|      3378974|      3389439|      3400434|      3412009|      3424132|      3436646|      3449299|      3461734|População com mai...|\n",
            "+--------------------+--------------------+----------------+-------------------+-------------------+--------------------+-------------------+-------------+-------------+-------------+-------------+-------------+-------------+-------------+-------------+-------------+-------------+--------------------+\n",
            "only showing top 20 rows\n",
            "\n"
          ]
        }
      ]
    },
    {
      "cell_type": "markdown",
      "source": [
        "# 5) Mostre a soma da população no ano de 2017."
      ],
      "metadata": {
        "id": "pXSxa9lvPYw-"
      }
    },
    {
      "cell_type": "code",
      "source": [
        "df(F.sum(df.Populacao2017))"
      ],
      "metadata": {
        "colab": {
          "base_uri": "https://localhost:8080/",
          "height": 166
        },
        "id": "yG7ZhjfrwGhr",
        "outputId": "e583bf37-d022-4de5-d7ef-4031240be639"
      },
      "execution_count": null,
      "outputs": [
        {
          "output_type": "error",
          "ename": "TypeError",
          "evalue": "ignored",
          "traceback": [
            "\u001b[0;31m---------------------------------------------------------------------------\u001b[0m",
            "\u001b[0;31mTypeError\u001b[0m                                 Traceback (most recent call last)",
            "\u001b[0;32m<ipython-input-10-0209e3ad8255>\u001b[0m in \u001b[0;36m<module>\u001b[0;34m()\u001b[0m\n\u001b[0;32m----> 1\u001b[0;31m \u001b[0mdf\u001b[0m\u001b[0;34m(\u001b[0m\u001b[0mF\u001b[0m\u001b[0;34m.\u001b[0m\u001b[0msum\u001b[0m\u001b[0;34m(\u001b[0m\u001b[0mdf\u001b[0m\u001b[0;34m.\u001b[0m\u001b[0mPopulacao2017\u001b[0m\u001b[0;34m)\u001b[0m\u001b[0;34m)\u001b[0m\u001b[0;34m\u001b[0m\u001b[0;34m\u001b[0m\u001b[0m\n\u001b[0m",
            "\u001b[0;31mTypeError\u001b[0m: 'DataFrame' object is not callable"
          ]
        }
      ]
    },
    {
      "cell_type": "code",
      "source": [
        "df.agg(F.sum(df.Populacao2017).alias(\"População mundial no ano de 2017\")).show()"
      ],
      "metadata": {
        "colab": {
          "base_uri": "https://localhost:8080/"
        },
        "id": "t59ypc15PaD0",
        "outputId": "2a49fbaf-04c7-4cf5-cdef-4d510cbff117"
      },
      "execution_count": null,
      "outputs": [
        {
          "output_type": "stream",
          "name": "stdout",
          "text": [
            "+--------------------------------+\n",
            "|População mundial no ano de 2017|\n",
            "+--------------------------------+\n",
            "|                      7448450667|\n",
            "+--------------------------------+\n",
            "\n"
          ]
        }
      ]
    }
  ]
}