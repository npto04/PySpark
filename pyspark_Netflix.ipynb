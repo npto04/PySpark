{
  "nbformat": 4,
  "nbformat_minor": 0,
  "metadata": {
    "colab": {
      "name": "pyspark_Netflix.ipynb",
      "provenance": [],
      "collapsed_sections": [],
      "mount_file_id": "1hXkKYqyK--5ayKllVHyigjnkevq3NZnv",
      "authorship_tag": "ABX9TyNbt8+a+ciwVqgb/E0R9ptm",
      "include_colab_link": true
    },
    "kernelspec": {
      "name": "python3",
      "display_name": "Python 3"
    },
    "language_info": {
      "name": "python"
    }
  },
  "cells": [
    {
      "cell_type": "markdown",
      "metadata": {
        "id": "view-in-github",
        "colab_type": "text"
      },
      "source": [
        "<a href=\"https://colab.research.google.com/github/npto04/PySpark/blob/main/pyspark_Netflix.ipynb\" target=\"_parent\"><img src=\"https://colab.research.google.com/assets/colab-badge.svg\" alt=\"Open In Colab\"/></a>"
      ]
    },
    {
      "cell_type": "markdown",
      "source": [
        "Baixe o CSV, sobre a Netflix, e utilizando os conhecimentos em limpeza e tratamento de dados e os comandos da ferramenta Pyspark, faça os tratamentos necessários para que os Datasets fiquem prontos para análise."
      ],
      "metadata": {
        "id": "JxI63jhW5Go0"
      }
    },
    {
      "cell_type": "markdown",
      "source": [
        "# Instalações & Importações"
      ],
      "metadata": {
        "id": "p4kTrKtp5OHT"
      }
    },
    {
      "cell_type": "code",
      "execution_count": null,
      "metadata": {
        "colab": {
          "base_uri": "https://localhost:8080/"
        },
        "id": "zDfk_VG64Aad",
        "outputId": "e37bb52a-ce95-472b-de8b-4a9d12c07611"
      },
      "outputs": [
        {
          "output_type": "stream",
          "name": "stdout",
          "text": [
            "Collecting pyspark\n",
            "  Downloading pyspark-3.2.1.tar.gz (281.4 MB)\n",
            "\u001b[K     |████████████████████████████████| 281.4 MB 33 kB/s \n",
            "\u001b[?25hCollecting py4j==0.10.9.3\n",
            "  Downloading py4j-0.10.9.3-py2.py3-none-any.whl (198 kB)\n",
            "\u001b[K     |████████████████████████████████| 198 kB 47.6 MB/s \n",
            "\u001b[?25hBuilding wheels for collected packages: pyspark\n",
            "  Building wheel for pyspark (setup.py) ... \u001b[?25l\u001b[?25hdone\n",
            "  Created wheel for pyspark: filename=pyspark-3.2.1-py2.py3-none-any.whl size=281853642 sha256=91697ac822ffd242c4c77790441d34d94f18ad5b96e96612ebae3bd22293ad4d\n",
            "  Stored in directory: /root/.cache/pip/wheels/9f/f5/07/7cd8017084dce4e93e84e92efd1e1d5334db05f2e83bcef74f\n",
            "Successfully built pyspark\n",
            "Installing collected packages: py4j, pyspark\n",
            "Successfully installed py4j-0.10.9.3 pyspark-3.2.1\n"
          ]
        }
      ],
      "source": [
        "!pip install pyspark"
      ]
    },
    {
      "cell_type": "code",
      "source": [
        "from pyspark.sql import SparkSession\n",
        "from pyspark import SparkConf\n",
        "from pyspark.sql import functions as F\n",
        "from pyspark.sql.types import *\n",
        "from google.cloud import storage"
      ],
      "metadata": {
        "id": "6xxckAbq54ZQ"
      },
      "execution_count": null,
      "outputs": []
    },
    {
      "cell_type": "markdown",
      "source": [
        "# Criando sessão do spark, assim como configurando conector do Google Cloud Storage"
      ],
      "metadata": {
        "id": "brpS0DFF-NH4"
      }
    },
    {
      "cell_type": "markdown",
      "source": [
        "## Caminho do Google Cloud Storage conector\n",
        "\n",
        "Deve ser baixado para rodar e atualizar caminho:\n",
        "[Download](https://cloud.google.com/dataproc/docs/concepts/connectors/cloud-storage)"
      ],
      "metadata": {
        "id": "ApNZwisS_KZn"
      }
    },
    {
      "cell_type": "code",
      "source": [
        "gcs_conector = '/content/drive/MyDrive/GCS_connector/gcs-connector-hadoop3-latest.jar'"
      ],
      "metadata": {
        "id": "p8uGMddR-6BM"
      },
      "execution_count": null,
      "outputs": []
    },
    {
      "cell_type": "markdown",
      "source": [
        " ## [Configurando o conector](https://github.com/GoogleCloudDataproc/hadoop-connectors/blob/master/gcs/INSTALL.md#configuring-the-connector)\n",
        "\n",
        "Antes de começar é preciso ter um JSON arquivo de chave para o conector poder se autenticar com Google Cloud Storage. [Clique aqui](https://cloud.google.com/storage/docs/authentication#service_accounts) para entender ou [aqui](https://cloud.google.com/iam/docs/creating-managing-service-accounts#creating) para como obter esse JSON.\n",
        "\n",
        "Após eu ter adquirido o JSON, eu pude configurar o framework (PySpark no caso) para usar o GCS connector quando acessando dados no Google Cloud Storage."
      ],
      "metadata": {
        "id": "McS1CBbx_x4Q"
      }
    },
    {
      "cell_type": "markdown",
      "source": [
        "### Para uso dos professores/avaliadores. Apagar quando avaliação é terminada\n",
        "\n",
        "Download das credenciais JSON"
      ],
      "metadata": {
        "id": "RcFrCx19Ed-h"
      }
    },
    {
      "cell_type": "code",
      "source": [
        "#código retirado da documentação do Google\n",
        "# Import PyDrive and associated libraries.\n",
        "# This only needs to be done once per notebook.\n",
        "from pydrive.auth import GoogleAuth\n",
        "from pydrive.drive import GoogleDrive\n",
        "from google.colab import auth\n",
        "from oauth2client.client import GoogleCredentials\n",
        "\n",
        "# Authenticate and create the PyDrive client.\n",
        "# This only needs to be done once per notebook.\n",
        "auth.authenticate_user()\n",
        "gauth = GoogleAuth()\n",
        "gauth.credentials = GoogleCredentials.get_application_default()\n",
        "drive = GoogleDrive(gauth)\n",
        "\n",
        "# Download a file based on its file ID.\n",
        "#\n",
        "# A file ID looks like: laggVyWshwcyP6kEI-y_W3P8D26sz\n",
        "file_id = '1-S77SFs6zVrscrJOtB24z0_IZyOecu1u'\n",
        "# Initialize GoogleDriveFile instance with file id.\n",
        "downloaded = drive.CreateFile({'id': file_id})\n",
        "downloaded.GetContentFile('JSON_keys.json') # Download file"
      ],
      "metadata": {
        "id": "T7AxzKI3ENO8"
      },
      "execution_count": null,
      "outputs": []
    },
    {
      "cell_type": "markdown",
      "source": [
        "### Caminho do arquivo de chave JSON"
      ],
      "metadata": {
        "id": "vkHetkMIKbqS"
      }
    },
    {
      "cell_type": "code",
      "source": [
        "json_path = '/content/drive/MyDrive/credentials/engdados-soulcode-ae874e15f2ec.json'\n",
        "\n",
        "\n",
        "#para uso dos professores ou avaliadores\n",
        "#json_path = '/content/JSON_keys.json'\n"
      ],
      "metadata": {
        "id": "QsY-Xs1wAEkv"
      },
      "execution_count": null,
      "outputs": []
    },
    {
      "cell_type": "markdown",
      "source": [
        "## Sessão spark"
      ],
      "metadata": {
        "id": "0mUiTID6_tt5"
      }
    },
    {
      "cell_type": "markdown",
      "source": [
        "\n",
        "* The AbstractFileSystem for 'gs:' URIs\n",
        "\n",
        "  * spark.hadoop.fs.AbstractFileSystem.gs.impl=com.google.cloud.hadoop.fs.gcs.GoogleHadoopFS\n",
        "\n",
        "* Optional. Google Cloud Project ID with access to GCS buckets. Required only for list buckets and create bucket operations.\n",
        "\n",
        "  * spark.hadoop.fs.gs.project.id=\n",
        "\n",
        "* Whether to use a service account for GCS authorization. Setting this property to `false` will disable use of service accounts for authentication.\n",
        "\n",
        "  * spark.hadoop.google.cloud.auth.service.account.enable=true\n",
        "\n",
        "* The JSON keyfile of the service account used for GCS access when google.cloud.auth.service.account.enable is `true`.\n",
        "\n",
        "  * spark.hadoop.google.cloud.auth.service.account.json.keyfile=/path/to/keyfile"
      ],
      "metadata": {
        "id": "7tp9wuxMJUvs"
      }
    },
    {
      "cell_type": "code",
      "source": [
        "spark = (SparkSession.builder\n",
        "        .master(\"local\")\n",
        "        .appName(\"netflix\")\n",
        "        .config('spark.jars', gcs_conector)\n",
        "        .config('spark.hadoop.fs.gs.impl','com.google.cloud.hadoop.fs.gcs.GoogleHadoopFileSystem')\n",
        "        .config('spark.hadoop.fs.gs.auth.service.account.enable', 'true')\n",
        "        .config(\"google.cloud.auth.service.account.json.keyfile\",json_path)\n",
        "        .config('spark.hadoop.fs.gs.project.id','engdados-soulcode')\n",
        "        .getOrCreate())"
      ],
      "metadata": {
        "id": "KGsYN3is6Ve8"
      },
      "execution_count": null,
      "outputs": []
    },
    {
      "cell_type": "code",
      "source": [
        "spark"
      ],
      "metadata": {
        "colab": {
          "base_uri": "https://localhost:8080/",
          "height": 219
        },
        "id": "qT1t0uPQME5v",
        "outputId": "c49e412d-dd71-4039-967f-bb977baedee0"
      },
      "execution_count": null,
      "outputs": [
        {
          "output_type": "execute_result",
          "data": {
            "text/plain": [
              "<pyspark.sql.session.SparkSession at 0x7fbe0208c610>"
            ],
            "text/html": [
              "\n",
              "            <div>\n",
              "                <p><b>SparkSession - in-memory</b></p>\n",
              "                \n",
              "        <div>\n",
              "            <p><b>SparkContext</b></p>\n",
              "\n",
              "            <p><a href=\"http://3425259afff9:4040\">Spark UI</a></p>\n",
              "\n",
              "            <dl>\n",
              "              <dt>Version</dt>\n",
              "                <dd><code>v3.2.1</code></dd>\n",
              "              <dt>Master</dt>\n",
              "                <dd><code>local</code></dd>\n",
              "              <dt>AppName</dt>\n",
              "                <dd><code>netflix</code></dd>\n",
              "            </dl>\n",
              "        </div>\n",
              "        \n",
              "            </div>\n",
              "        "
            ]
          },
          "metadata": {},
          "execution_count": 12
        }
      ]
    },
    {
      "cell_type": "markdown",
      "source": [
        "# Ler dados do GCS"
      ],
      "metadata": {
        "id": "pbrhyJ1kLnZM"
      }
    },
    {
      "cell_type": "markdown",
      "source": [
        "## Caminho do Dataset"
      ],
      "metadata": {
        "id": "qTNWI2CPMW8v"
      }
    },
    {
      "cell_type": "code",
      "source": [
        "file_path = 'gs://datasets-brutos/netflix_daily_top_10.csv'"
      ],
      "metadata": {
        "id": "yGtr6PE2MWi7"
      },
      "execution_count": null,
      "outputs": []
    },
    {
      "cell_type": "markdown",
      "source": [
        "## Montagem do Schema"
      ],
      "metadata": {
        "id": "5AhcbJqrWry6"
      }
    },
    {
      "cell_type": "code",
      "source": [
        "esquema = (\n",
        "    StructType([\n",
        "        StructField(\"Data_rank\",DateType(), True),\n",
        "        StructField(\"Rank\", IntegerType(), True),\n",
        "        StructField(\"Semanas_no_rank\", IntegerType(), True),\n",
        "        StructField(\"Rank_ultima_semana\", IntegerType(), True),\n",
        "        StructField(\"Titulo\", StringType(), True),\n",
        "        StructField(\"Tipo\", StringType(), True),\n",
        "        StructField(\"Exclusividade\", StringType(), True),\n",
        "        StructField(\"Data_lancamento_Netflix\", StringType(), True),\n",
        "        StructField(\"Dias_no_top10\", IntegerType(), True),\n",
        "        StructField(\"Pontos_visualizacoes\", IntegerType(), True)\n",
        "    ])\n",
        ")"
      ],
      "metadata": {
        "id": "G-HBkyiNWvAa"
      },
      "execution_count": null,
      "outputs": []
    },
    {
      "cell_type": "markdown",
      "source": [
        "## Ler com csv dataset com pyspark usando schema "
      ],
      "metadata": {
        "id": "ZoD0RvhI0vxD"
      }
    },
    {
      "cell_type": "code",
      "source": [
        "df = (\n",
        "    spark\n",
        "       .read\n",
        "       .format(\"csv\")\n",
        "       .option(\"header\", \"true\")\n",
        "       .option(\"delimiter\", \",\")\n",
        "       .load(file_path,schema=esquema)\n",
        ")"
      ],
      "metadata": {
        "id": "B7WnNp0qMNnS"
      },
      "execution_count": null,
      "outputs": []
    },
    {
      "cell_type": "code",
      "source": [
        "df.printSchema()"
      ],
      "metadata": {
        "colab": {
          "base_uri": "https://localhost:8080/"
        },
        "id": "riVWfiNrNT0O",
        "outputId": "3f63b2a5-f923-4ac2-c06c-ea5a420ad2ea"
      },
      "execution_count": null,
      "outputs": [
        {
          "output_type": "stream",
          "name": "stdout",
          "text": [
            "root\n",
            " |-- Data_entrada_rank: date (nullable = true)\n",
            " |-- Rank: integer (nullable = true)\n",
            " |-- Semanas_no_rank: integer (nullable = false)\n",
            " |-- Rank_ultima_semana: integer (nullable = true)\n",
            " |-- Titulo: string (nullable = true)\n",
            " |-- Tipo: string (nullable = true)\n",
            " |-- Exclusividade: string (nullable = false)\n",
            " |-- Data_lancamento_Netflix: string (nullable = true)\n",
            " |-- Dias_no_top10: integer (nullable = true)\n",
            " |-- Pontos_visualizacoes: integer (nullable = true)\n",
            "\n"
          ]
        }
      ]
    },
    {
      "cell_type": "markdown",
      "source": [
        "Criando backup"
      ],
      "metadata": {
        "id": "8jqVOxOLHYIz"
      }
    },
    {
      "cell_type": "code",
      "source": [
        "df_bk = df"
      ],
      "metadata": {
        "id": "9mU3GRWLHUJV"
      },
      "execution_count": null,
      "outputs": []
    },
    {
      "cell_type": "markdown",
      "source": [
        "# Pré-análise dos dados"
      ],
      "metadata": {
        "id": "-GmVycoi1C3h"
      }
    },
    {
      "cell_type": "code",
      "source": [
        "df.summary().show()"
      ],
      "metadata": {
        "colab": {
          "base_uri": "https://localhost:8080/"
        },
        "id": "tLiNVQgUP4wF",
        "outputId": "ebe5f7aa-e72a-4a3f-c697-5df59c2e8027"
      },
      "execution_count": null,
      "outputs": [
        {
          "output_type": "stream",
          "name": "stdout",
          "text": [
            "+-------+------------------+-----------------+------------------+------+----------------+-------------+-----------------------+------------------+--------------------+\n",
            "|summary|              Rank|  Semanas_no_rank|Rank_ultima_semana|Titulo|            Tipo|Exclusividade|Data_lancamento_Netflix|     Dias_no_top10|Pontos_visualizacoes|\n",
            "+-------+------------------+-----------------+------------------+------+----------------+-------------+-----------------------+------------------+--------------------+\n",
            "|  count|              7100|             7100|              3132|  7100|            7100|         7100|                   7100|              7100|                7100|\n",
            "|   mean|               5.5|4.439295774647888|3.9383780332056193|  null|            null|         null|                   null|24.123661971830987|  122.79014084507043|\n",
            "| stddev|2.8724836179710516|3.041267475459205|2.6253990562461285|  null|            null|         null|                   null| 58.47378925134757|  213.86164216049585|\n",
            "|    min|                 1|                0|                 1|#Alive|Comedia Stand-Up|          Não|            Apr 1, 2015|                 1|                   1|\n",
            "|    25%|                 3|                2|                 2|  null|            null|         null|                   null|                 3|                  19|\n",
            "|    50%|                 5|                4|                 3|  null|            null|         null|                   null|                 7|                  50|\n",
            "|    75%|                 8|                7|                 6|  null|            null|         null|                   null|                18|                 128|\n",
            "|    max|                10|               10|                10|Ãlite|    Series de TV|          Sim|            Sep 9, 2020|               428|                1474|\n",
            "+-------+------------------+-----------------+------------------+------+----------------+-------------+-----------------------+------------------+--------------------+\n",
            "\n"
          ]
        }
      ]
    },
    {
      "cell_type": "markdown",
      "source": [
        "Achar onde e quantos valores `null` existem\n",
        "\n"
      ],
      "metadata": {
        "id": "e5w7Ns-U1oC4"
      }
    },
    {
      "cell_type": "code",
      "source": [
        "df.select([F.count(F.when(F.col(c).isNull(), c)).alias(c) for c in df.columns]).show()"
      ],
      "metadata": {
        "colab": {
          "base_uri": "https://localhost:8080/"
        },
        "id": "w8qCS36uzZJ8",
        "outputId": "43f2267d-9a24-4de8-86eb-9d4bc6eb08f3"
      },
      "execution_count": null,
      "outputs": [
        {
          "output_type": "stream",
          "name": "stdout",
          "text": [
            "+-----------------+----+---------------+------------------+------+----+-------------+-----------------------+-------------+--------------------+\n",
            "|Data_entrada_rank|Rank|Semanas_no_rank|Rank_ultima_semana|Titulo|Tipo|Exclusividade|Data_lancamento_Netflix|Dias_no_top10|Pontos_visualizacoes|\n",
            "+-----------------+----+---------------+------------------+------+----+-------------+-----------------------+-------------+--------------------+\n",
            "|                0|   0|            859|              3968|     0|   0|         2501|                      0|            0|                   0|\n",
            "+-----------------+----+---------------+------------------+------+----+-------------+-----------------------+-------------+--------------------+\n",
            "\n"
          ]
        }
      ]
    },
    {
      "cell_type": "markdown",
      "source": [
        "Achar os `NaN` nas colunas sem date-type"
      ],
      "metadata": {
        "id": "MA6eXbNt_fei"
      }
    },
    {
      "cell_type": "code",
      "source": [
        "(df.select([F.count(F.when(F.isnan(c), c)).alias(c) for c in df.columns[1:]])\n",
        ".show())"
      ],
      "metadata": {
        "colab": {
          "base_uri": "https://localhost:8080/"
        },
        "id": "zuU9BffF_NFk",
        "outputId": "97d877be-7c88-4cbe-b815-d88a8d184593"
      },
      "execution_count": null,
      "outputs": [
        {
          "output_type": "stream",
          "name": "stdout",
          "text": [
            "+----+---------------+------------------+------+----+-------------+-----------------------+-------------+--------------------+\n",
            "|Rank|Semanas_no_rank|Rank_ultima_semana|Titulo|Tipo|Exclusividade|Data_lancamento_Netflix|Dias_no_top10|Pontos_visualizacoes|\n",
            "+----+---------------+------------------+------+----+-------------+-----------------------+-------------+--------------------+\n",
            "|   0|              0|                 0|     0|   0|            0|                      0|            0|                   0|\n",
            "+----+---------------+------------------+------+----+-------------+-----------------------+-------------+--------------------+\n",
            "\n"
          ]
        }
      ]
    },
    {
      "cell_type": "markdown",
      "source": [
        "Achar valores distintos em exclusividade"
      ],
      "metadata": {
        "id": "ADVVsRxuA3Fg"
      }
    },
    {
      "cell_type": "code",
      "source": [
        "distinct_exc = [x.Exclusividade for x in df.select('Exclusividade').distinct().collect()]\n",
        "print(distinct_exc)"
      ],
      "metadata": {
        "colab": {
          "base_uri": "https://localhost:8080/"
        },
        "id": "WjGmeNngAt5T",
        "outputId": "efbe7628-95e3-4fd0-876a-0bc8f1238671"
      },
      "execution_count": null,
      "outputs": [
        {
          "output_type": "stream",
          "name": "stdout",
          "text": [
            "[None, 'Yes']\n"
          ]
        }
      ]
    },
    {
      "cell_type": "markdown",
      "source": [
        "Achar valores distintos em Tipos"
      ],
      "metadata": {
        "id": "p2r4CXp2A8vw"
      }
    },
    {
      "cell_type": "code",
      "source": [
        "distinct_tipo = [x.Tipo for x in df.select('Tipo').distinct().collect()]\n",
        "print(distinct_tipo)"
      ],
      "metadata": {
        "colab": {
          "base_uri": "https://localhost:8080/"
        },
        "id": "x8fhhq2sBBPS",
        "outputId": "57f34a8a-1594-48cb-af90-8ad64cd7cc1a"
      },
      "execution_count": null,
      "outputs": [
        {
          "output_type": "stream",
          "name": "stdout",
          "text": [
            "['Concert/Perf…', 'Stand-Up Comedy', 'TV Show', 'Movie']\n"
          ]
        }
      ]
    },
    {
      "cell_type": "markdown",
      "source": [
        "# Tratamento de dados"
      ],
      "metadata": {
        "id": "dcTn-2-j3dMi"
      }
    },
    {
      "cell_type": "markdown",
      "source": [
        "## Renomear dados para português, exceto títulos"
      ],
      "metadata": {
        "id": "RTDvOQR5DxJZ"
      }
    },
    {
      "cell_type": "code",
      "source": [
        "df = df.na.replace('Yes', 'Sim','Exclusividade')\n",
        "df.show()"
      ],
      "metadata": {
        "colab": {
          "base_uri": "https://localhost:8080/"
        },
        "id": "HeWzfz7kEDsu",
        "outputId": "c4019e7a-f8e5-43c7-8a05-9419ddc7fe87"
      },
      "execution_count": null,
      "outputs": [
        {
          "output_type": "stream",
          "name": "stdout",
          "text": [
            "+-----------------+----+---------------+------------------+--------------------+-------+-------------+-----------------------+-------------+--------------------+\n",
            "|Data_entrada_rank|Rank|Semanas_no_rank|Rank_ultima_semana|              Titulo|   Tipo|Exclusividade|Data_lancamento_Netflix|Dias_no_top10|Pontos_visualizacoes|\n",
            "+-----------------+----+---------------+------------------+--------------------+-------+-------------+-----------------------+-------------+--------------------+\n",
            "|       2020-04-01|   1|              1|                 1|Tiger King: Murde...|TV Show|          Sim|           Mar 20, 2020|            9|                  90|\n",
            "|       2020-04-01|   2|              2|              null|               Ozark|TV Show|          Sim|           Jul 21, 2017|            5|                  45|\n",
            "|       2020-04-01|   3|              3|                 2|        All American|TV Show|         null|           Mar 28, 2019|            9|                  76|\n",
            "|       2020-04-01|   4|              4|              null|        Blood Father|  Movie|         null|           Mar 26, 2020|            5|                  30|\n",
            "|       2020-04-01|   5|              5|                 4|        The Platform|  Movie|          Sim|           Mar 20, 2020|            9|                  55|\n",
            "|       2020-04-01|   6|              6|              null|Car Masters: Rust...|TV Show|          Sim|           Sep 14, 2018|            4|                  14|\n",
            "|       2020-04-01|   7|             10|              null|          Unorthodox|TV Show|          Sim|           Mar 26, 2020|            2|                   5|\n",
            "|       2020-04-01|   8|              7|                 5|       Love is Blind|TV Show|          Sim|           Feb 13, 2020|            9|                  40|\n",
            "|       2020-04-01|   9|              8|              null|             Badland|  Movie|         null|           Mar 26, 2020|            4|                  11|\n",
            "|       2020-04-01|  10|              9|              null|            Uncorked|  Movie|          Sim|           Mar 27, 2020|            4|                  15|\n",
            "|       2020-04-02|   1|              1|                 1|Tiger King: Murde...|TV Show|          Sim|           Mar 20, 2020|           10|                 100|\n",
            "|       2020-04-02|   2|              2|              null|               Ozark|TV Show|          Sim|           Jul 21, 2017|            6|                  54|\n",
            "|       2020-04-02|   3|              3|                 2|        All American|TV Show|         null|           Mar 28, 2019|           10|                  84|\n",
            "|       2020-04-02|   4|           null|              null|          Nailed It!|TV Show|          Sim|            Mar 9, 2018|            1|                   7|\n",
            "|       2020-04-02|   5|           null|              null|How to Fix a Drug...|TV Show|          Sim|            Apr 1, 2020|            1|                   6|\n",
            "|       2020-04-02|   6|              4|              null|        Blood Father|  Movie|         null|           Mar 26, 2020|            6|                  35|\n",
            "|       2020-04-02|   7|           null|              null|        The Roommate|  Movie|         null|            Apr 1, 2020|            1|                   4|\n",
            "|       2020-04-02|   8|              7|              null|          Unorthodox|TV Show|          Sim|           Mar 26, 2020|            3|                   8|\n",
            "|       2020-04-02|   9|              5|                 4|        The Platform|  Movie|          Sim|           Mar 20, 2020|           10|                  57|\n",
            "|       2020-04-02|  10|              6|              null|Car Masters: Rust...|TV Show|          Sim|           Sep 14, 2018|            5|                  15|\n",
            "+-----------------+----+---------------+------------------+--------------------+-------+-------------+-----------------------+-------------+--------------------+\n",
            "only showing top 20 rows\n",
            "\n"
          ]
        }
      ]
    },
    {
      "cell_type": "code",
      "source": [
        "df = df.replace(distinct_tipo,['Concertos/Shows', 'Comedia Stand-Up', 'Series de TV', 'Filmes'],'Tipo')\n",
        "df.show()"
      ],
      "metadata": {
        "colab": {
          "base_uri": "https://localhost:8080/"
        },
        "id": "1pvlmQ9IFGoa",
        "outputId": "10020065-42cb-4d49-c3a1-8535bff97089"
      },
      "execution_count": null,
      "outputs": [
        {
          "output_type": "stream",
          "name": "stdout",
          "text": [
            "+-----------------+----+---------------+------------------+--------------------+------------+-------------+-----------------------+-------------+--------------------+\n",
            "|Data_entrada_rank|Rank|Semanas_no_rank|Rank_ultima_semana|              Titulo|        Tipo|Exclusividade|Data_lancamento_Netflix|Dias_no_top10|Pontos_visualizacoes|\n",
            "+-----------------+----+---------------+------------------+--------------------+------------+-------------+-----------------------+-------------+--------------------+\n",
            "|       2020-04-01|   1|              1|                 1|Tiger King: Murde...|Series de TV|          Sim|           Mar 20, 2020|            9|                  90|\n",
            "|       2020-04-01|   2|              2|              null|               Ozark|Series de TV|          Sim|           Jul 21, 2017|            5|                  45|\n",
            "|       2020-04-01|   3|              3|                 2|        All American|Series de TV|         null|           Mar 28, 2019|            9|                  76|\n",
            "|       2020-04-01|   4|              4|              null|        Blood Father|      Filmes|         null|           Mar 26, 2020|            5|                  30|\n",
            "|       2020-04-01|   5|              5|                 4|        The Platform|      Filmes|          Sim|           Mar 20, 2020|            9|                  55|\n",
            "|       2020-04-01|   6|              6|              null|Car Masters: Rust...|Series de TV|          Sim|           Sep 14, 2018|            4|                  14|\n",
            "|       2020-04-01|   7|             10|              null|          Unorthodox|Series de TV|          Sim|           Mar 26, 2020|            2|                   5|\n",
            "|       2020-04-01|   8|              7|                 5|       Love is Blind|Series de TV|          Sim|           Feb 13, 2020|            9|                  40|\n",
            "|       2020-04-01|   9|              8|              null|             Badland|      Filmes|         null|           Mar 26, 2020|            4|                  11|\n",
            "|       2020-04-01|  10|              9|              null|            Uncorked|      Filmes|          Sim|           Mar 27, 2020|            4|                  15|\n",
            "|       2020-04-02|   1|              1|                 1|Tiger King: Murde...|Series de TV|          Sim|           Mar 20, 2020|           10|                 100|\n",
            "|       2020-04-02|   2|              2|              null|               Ozark|Series de TV|          Sim|           Jul 21, 2017|            6|                  54|\n",
            "|       2020-04-02|   3|              3|                 2|        All American|Series de TV|         null|           Mar 28, 2019|           10|                  84|\n",
            "|       2020-04-02|   4|           null|              null|          Nailed It!|Series de TV|          Sim|            Mar 9, 2018|            1|                   7|\n",
            "|       2020-04-02|   5|           null|              null|How to Fix a Drug...|Series de TV|          Sim|            Apr 1, 2020|            1|                   6|\n",
            "|       2020-04-02|   6|              4|              null|        Blood Father|      Filmes|         null|           Mar 26, 2020|            6|                  35|\n",
            "|       2020-04-02|   7|           null|              null|        The Roommate|      Filmes|         null|            Apr 1, 2020|            1|                   4|\n",
            "|       2020-04-02|   8|              7|              null|          Unorthodox|Series de TV|          Sim|           Mar 26, 2020|            3|                   8|\n",
            "|       2020-04-02|   9|              5|                 4|        The Platform|      Filmes|          Sim|           Mar 20, 2020|           10|                  57|\n",
            "|       2020-04-02|  10|              6|              null|Car Masters: Rust...|Series de TV|          Sim|           Sep 14, 2018|            5|                  15|\n",
            "+-----------------+----+---------------+------------------+--------------------+------------+-------------+-----------------------+-------------+--------------------+\n",
            "only showing top 20 rows\n",
            "\n"
          ]
        }
      ]
    },
    {
      "cell_type": "markdown",
      "source": [
        "## Tratando null\n",
        "Substituir `Null` para valores padrões da classe.\n",
        "\n",
        "Se não tem exclusividade, então `Não` é o valor.\n",
        "Se não há semanas no rank, então sua primeira semana no rank, logo, `0`. Já rank da última semana, não há valores padrões, pois os casos são quando não estavam presente ou estreia"
      ],
      "metadata": {
        "id": "de1yuv3zCZo6"
      }
    },
    {
      "cell_type": "code",
      "source": [
        "df = df.na.fill(value={'Semanas_no_rank':0,'Exclusividade':\"Não\"})\n",
        "df.show()"
      ],
      "metadata": {
        "colab": {
          "base_uri": "https://localhost:8080/"
        },
        "id": "MREsfWuzh6Z0",
        "outputId": "9aeba172-44a8-4b12-ff12-7cceddca4aa9"
      },
      "execution_count": null,
      "outputs": [
        {
          "output_type": "stream",
          "name": "stdout",
          "text": [
            "+-----------------+----+---------------+------------------+--------------------+------------+-------------+-----------------------+-------------+--------------------+\n",
            "|Data_entrada_rank|Rank|Semanas_no_rank|Rank_ultima_semana|              Titulo|        Tipo|Exclusividade|Data_lancamento_Netflix|Dias_no_top10|Pontos_visualizacoes|\n",
            "+-----------------+----+---------------+------------------+--------------------+------------+-------------+-----------------------+-------------+--------------------+\n",
            "|       2020-04-01|   1|              1|                 1|Tiger King: Murde...|Series de TV|          Sim|           Mar 20, 2020|            9|                  90|\n",
            "|       2020-04-01|   2|              2|              null|               Ozark|Series de TV|          Sim|           Jul 21, 2017|            5|                  45|\n",
            "|       2020-04-01|   3|              3|                 2|        All American|Series de TV|          Não|           Mar 28, 2019|            9|                  76|\n",
            "|       2020-04-01|   4|              4|              null|        Blood Father|      Filmes|          Não|           Mar 26, 2020|            5|                  30|\n",
            "|       2020-04-01|   5|              5|                 4|        The Platform|      Filmes|          Sim|           Mar 20, 2020|            9|                  55|\n",
            "|       2020-04-01|   6|              6|              null|Car Masters: Rust...|Series de TV|          Sim|           Sep 14, 2018|            4|                  14|\n",
            "|       2020-04-01|   7|             10|              null|          Unorthodox|Series de TV|          Sim|           Mar 26, 2020|            2|                   5|\n",
            "|       2020-04-01|   8|              7|                 5|       Love is Blind|Series de TV|          Sim|           Feb 13, 2020|            9|                  40|\n",
            "|       2020-04-01|   9|              8|              null|             Badland|      Filmes|          Não|           Mar 26, 2020|            4|                  11|\n",
            "|       2020-04-01|  10|              9|              null|            Uncorked|      Filmes|          Sim|           Mar 27, 2020|            4|                  15|\n",
            "|       2020-04-02|   1|              1|                 1|Tiger King: Murde...|Series de TV|          Sim|           Mar 20, 2020|           10|                 100|\n",
            "|       2020-04-02|   2|              2|              null|               Ozark|Series de TV|          Sim|           Jul 21, 2017|            6|                  54|\n",
            "|       2020-04-02|   3|              3|                 2|        All American|Series de TV|          Não|           Mar 28, 2019|           10|                  84|\n",
            "|       2020-04-02|   4|              0|              null|          Nailed It!|Series de TV|          Sim|            Mar 9, 2018|            1|                   7|\n",
            "|       2020-04-02|   5|              0|              null|How to Fix a Drug...|Series de TV|          Sim|            Apr 1, 2020|            1|                   6|\n",
            "|       2020-04-02|   6|              4|              null|        Blood Father|      Filmes|          Não|           Mar 26, 2020|            6|                  35|\n",
            "|       2020-04-02|   7|              0|              null|        The Roommate|      Filmes|          Não|            Apr 1, 2020|            1|                   4|\n",
            "|       2020-04-02|   8|              7|              null|          Unorthodox|Series de TV|          Sim|           Mar 26, 2020|            3|                   8|\n",
            "|       2020-04-02|   9|              5|                 4|        The Platform|      Filmes|          Sim|           Mar 20, 2020|           10|                  57|\n",
            "|       2020-04-02|  10|              6|              null|Car Masters: Rust...|Series de TV|          Sim|           Sep 14, 2018|            5|                  15|\n",
            "+-----------------+----+---------------+------------------+--------------------+------------+-------------+-----------------------+-------------+--------------------+\n",
            "only showing top 20 rows\n",
            "\n"
          ]
        }
      ]
    },
    {
      "cell_type": "markdown",
      "source": [
        "Checar os `null` tratados"
      ],
      "metadata": {
        "id": "TpWwCHtoK37f"
      }
    },
    {
      "cell_type": "code",
      "source": [
        "df.select([F.count(F.when(F.col(c).isNull(), c)).alias(c) for c in ['Exclusividade','Semanas_no_rank']]).show()"
      ],
      "metadata": {
        "colab": {
          "base_uri": "https://localhost:8080/"
        },
        "id": "5Y_A9fnLLLOC",
        "outputId": "7d78311d-8982-4faa-9669-0c10017b4f19"
      },
      "execution_count": null,
      "outputs": [
        {
          "output_type": "stream",
          "name": "stdout",
          "text": [
            "+-------------+---------------+\n",
            "|Exclusividade|Semanas_no_rank|\n",
            "+-------------+---------------+\n",
            "|            0|              0|\n",
            "+-------------+---------------+\n",
            "\n"
          ]
        }
      ]
    },
    {
      "cell_type": "markdown",
      "source": [
        "## Tratar coluna `Data_lancamento_Netflix` transformar em date-type"
      ],
      "metadata": {
        "id": "ayYz9INwMUE0"
      }
    },
    {
      "cell_type": "markdown",
      "source": [
        "### Verificar tamanhos que as strings possuem para extrair dia, mes e ano"
      ],
      "metadata": {
        "id": "xUe4zv4OpsEK"
      }
    },
    {
      "cell_type": "code",
      "source": [
        "list_data_lancamento_Netflix = [len(x.Data_lancamento_Netflix) for x in df.select('Data_lancamento_Netflix').collect()]\n",
        "myset = set(list_data_lancamento_Netflix)\n",
        "print(myset)"
      ],
      "metadata": {
        "colab": {
          "base_uri": "https://localhost:8080/"
        },
        "id": "SnjTr0AXPi2w",
        "outputId": "bc8dfd7e-1076-48f8-a861-036e7e006f98"
      },
      "execution_count": null,
      "outputs": [
        {
          "output_type": "stream",
          "name": "stdout",
          "text": [
            "{11, 12}\n"
          ]
        }
      ]
    },
    {
      "cell_type": "markdown",
      "source": [
        "### Separando valor mes na string em colunas auxiliares"
      ],
      "metadata": {
        "id": "yQi2Nacjil99"
      }
    },
    {
      "cell_type": "code",
      "source": [
        "df = (df.withColumn(\"mes\", F.date_format(F.to_date(df.Data_lancamento_Netflix.substr(1,3), \"MMM\"), \"MM\"))\n",
        ")"
      ],
      "metadata": {
        "id": "y-iJW3gocQBu"
      },
      "execution_count": null,
      "outputs": []
    },
    {
      "cell_type": "markdown",
      "source": [
        "### Separando valor ano na string em colunas "
      ],
      "metadata": {
        "id": "5xdM5g5OcRFm"
      }
    },
    {
      "cell_type": "code",
      "source": [
        "df = (df.withColumn('ano', \n",
        "               F.when(F.length('Data_lancamento_Netflix') == 11,\n",
        "                      df.Data_lancamento_Netflix.substr(8,4))\n",
        "               .otherwise(df.Data_lancamento_Netflix.substr(9,4)))\n",
        ")"
      ],
      "metadata": {
        "id": "sen7b66SMveH"
      },
      "execution_count": null,
      "outputs": []
    },
    {
      "cell_type": "markdown",
      "source": [
        "### Separarando o valor dia na string"
      ],
      "metadata": {
        "id": "CWNNYOzSoQL4"
      }
    },
    {
      "cell_type": "code",
      "source": [
        "df = (df.withColumn('dia', \n",
        "               F.when(F.length('Data_lancamento_Netflix') == 11,\n",
        "                      df.Data_lancamento_Netflix.substr(5,1))\n",
        "               .otherwise(df.Data_lancamento_Netflix.substr(5,2))))"
      ],
      "metadata": {
        "id": "75Xqldt6iwhv"
      },
      "execution_count": null,
      "outputs": []
    },
    {
      "cell_type": "markdown",
      "source": [
        "### Concatenar ano, mes e dia em uma coluna e transforma em DateType"
      ],
      "metadata": {
        "id": "q8dur-_Ho7Po"
      }
    },
    {
      "cell_type": "code",
      "source": [
        "df = df.withColumn(\"Data_lancamento_Netflix\",F.concat_ws(\"-\",F.col(\"ano\"),F.col(\"mes\"),F.col(\"dia\")).cast(\"date\"))"
      ],
      "metadata": {
        "id": "vWYpWpwklXCj"
      },
      "execution_count": null,
      "outputs": []
    },
    {
      "cell_type": "markdown",
      "source": [
        "Dropando colunas auxiliares"
      ],
      "metadata": {
        "id": "iOG4S3s8pDEP"
      }
    },
    {
      "cell_type": "code",
      "source": [
        "cols = ['dia', 'mes', 'ano']\n",
        "df = df.drop(*cols)"
      ],
      "metadata": {
        "id": "lnWgWcZDmxiv"
      },
      "execution_count": null,
      "outputs": []
    },
    {
      "cell_type": "code",
      "source": [
        "df.show(5)\n",
        "df.printSchema()\n",
        "df.summary().show()"
      ],
      "metadata": {
        "colab": {
          "base_uri": "https://localhost:8080/"
        },
        "id": "D7NyFXBBOF1B",
        "outputId": "06fd1955-17a9-4b0b-852b-c8ada251edfc"
      },
      "execution_count": null,
      "outputs": [
        {
          "output_type": "stream",
          "name": "stdout",
          "text": [
            "+-----------------+----+---------------+------------------+--------------------+------------+-------------+-----------------------+-------------+--------------------+\n",
            "|Data_entrada_rank|Rank|Semanas_no_rank|Rank_ultima_semana|              Titulo|        Tipo|Exclusividade|Data_lancamento_Netflix|Dias_no_top10|Pontos_visualizacoes|\n",
            "+-----------------+----+---------------+------------------+--------------------+------------+-------------+-----------------------+-------------+--------------------+\n",
            "|       2020-04-01|   1|              1|                 1|Tiger King: Murde...|Series de TV|          Sim|             2020-03-20|            9|                  90|\n",
            "|       2020-04-01|   2|              2|              null|               Ozark|Series de TV|          Sim|             2017-07-21|            5|                  45|\n",
            "|       2020-04-01|   3|              3|                 2|        All American|Series de TV|          Não|             2019-03-28|            9|                  76|\n",
            "|       2020-04-01|   4|              4|              null|        Blood Father|      Filmes|          Não|             2020-03-26|            5|                  30|\n",
            "|       2020-04-01|   5|              5|                 4|        The Platform|      Filmes|          Sim|             2020-03-20|            9|                  55|\n",
            "+-----------------+----+---------------+------------------+--------------------+------------+-------------+-----------------------+-------------+--------------------+\n",
            "only showing top 5 rows\n",
            "\n",
            "root\n",
            " |-- Data_entrada_rank: date (nullable = true)\n",
            " |-- Rank: integer (nullable = true)\n",
            " |-- Semanas_no_rank: integer (nullable = false)\n",
            " |-- Rank_ultima_semana: integer (nullable = true)\n",
            " |-- Titulo: string (nullable = true)\n",
            " |-- Tipo: string (nullable = true)\n",
            " |-- Exclusividade: string (nullable = false)\n",
            " |-- Data_lancamento_Netflix: date (nullable = true)\n",
            " |-- Dias_no_top10: integer (nullable = true)\n",
            " |-- Pontos_visualizacoes: integer (nullable = true)\n",
            "\n",
            "+-------+------------------+-----------------+------------------+------+----------------+-------------+------------------+--------------------+\n",
            "|summary|              Rank|  Semanas_no_rank|Rank_ultima_semana|Titulo|            Tipo|Exclusividade|     Dias_no_top10|Pontos_visualizacoes|\n",
            "+-------+------------------+-----------------+------------------+------+----------------+-------------+------------------+--------------------+\n",
            "|  count|              7100|             7100|              3132|  7100|            7100|         7100|              7100|                7100|\n",
            "|   mean|               5.5|4.439295774647888|3.9383780332056193|  null|            null|         null|24.123661971830987|  122.79014084507043|\n",
            "| stddev|2.8724836179710516|3.041267475459205|2.6253990562461285|  null|            null|         null| 58.47378925134757|  213.86164216049585|\n",
            "|    min|                 1|                0|                 1|#Alive|Comedia Stand-Up|          Não|                 1|                   1|\n",
            "|    25%|                 3|                2|                 2|  null|            null|         null|                 3|                  19|\n",
            "|    50%|                 5|                4|                 3|  null|            null|         null|                 7|                  50|\n",
            "|    75%|                 8|                7|                 6|  null|            null|         null|                18|                 128|\n",
            "|    max|                10|               10|                10|Ãlite|    Series de TV|          Sim|               428|                1474|\n",
            "+-------+------------------+-----------------+------------------+------+----------------+-------------+------------------+--------------------+\n",
            "\n"
          ]
        }
      ]
    },
    {
      "cell_type": "markdown",
      "source": [
        "# Salvar csv no GCS para data visualization e analytics"
      ],
      "metadata": {
        "id": "ZSh9pOiNtOjd"
      }
    },
    {
      "cell_type": "code",
      "source": [
        "path_dest = 'gs://datasets-brutos/datasets-tratados/netflix_daily_top_10.csv'\n"
      ],
      "metadata": {
        "id": "opyXa600rora"
      },
      "execution_count": null,
      "outputs": []
    },
    {
      "cell_type": "code",
      "source": [
        "df.write.option(\"header\",'true').format('csv').mode('overwrite').save(path_dest)"
      ],
      "metadata": {
        "id": "VIHSr7BSy9bK"
      },
      "execution_count": null,
      "outputs": []
    }
  ]
}